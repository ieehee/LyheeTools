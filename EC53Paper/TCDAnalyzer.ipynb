{
 "cells": [
  {
   "cell_type": "code",
   "execution_count": 60,
   "metadata": {},
   "outputs": [],
   "source": [
    "import LCCall as LCC\n",
    "import LCAnalyses as LCA\n",
    "import LCPlot as LCP\n",
    "import importlib\n",
    "import matplotlib.pyplot as plt\n",
    "import numpy as np\n",
    "from matplotlib import patches\n",
    "importlib.reload(LCC)\n",
    "importlib.reload(LCA)\n",
    "importlib.reload(LCP)\n",
    "%matplotlib tk"
   ]
  },
  {
   "cell_type": "code",
   "execution_count": 57,
   "metadata": {},
   "outputs": [],
   "source": [
    "k = \"EC53\"\n",
    "mod_date = \"191021\"\n",
    "region = \"SERPM\"\n",
    "input_dir = '/mnt/Secdrive/TSmain/SERPM/EC53/EC53/'\n",
    "output_dir = '/mnt/Secdrive/TSmain/SERPM/Results_'+mod_date+'/EC53/'\n",
    "dates_K, mags_K, noises_K = LCC.EC53IR(\"UKIRT_K\",imeunit=\"day\",addLiverpool=0,timeunit=\"day\")\n",
    "dates_H, mags_H, noises_H = LCC.EC53IR(\"UKIRT_H\",imeunit=\"day\",addLiverpool=1,timeunit=\"day\")\n",
    "dates_J, mags_J, noises_J = LCC.EC53IR(\"UKIRT_J\",imeunit=\"day\",addLiverpool=0,timeunit=\"day\")\n",
    "dates_LH, mags_LH, noises_LH = LCC.EC53IR(\"Liverpool_H\",imeunit=\"day\",timeunit=\"day\")\n",
    "\n",
    "JDs,Js,Std_Js,Hs,Std_Hs,a,Ks,Std_Ks,b,J_Hs,J_H_errs,H_Ks,H_K_errs, = np.loadtxt(input_dir +\"/EC53_UKIRT_JHK_combined.dat\", unpack=True, dtype='float')\n",
    "dates_850, fluxes_850, noises_850 = LCC.JCMTTRansientSource(k,\"SERPM\",\"850\",mod_date)"
   ]
  },
  {
   "cell_type": "code",
   "execution_count": 1,
   "metadata": {},
   "outputs": [
    {
     "ename": "TypeError",
     "evalue": "list indices must be integers or slices, not tuple",
     "output_type": "error",
     "traceback": [
      "\u001b[0;31m---------------------------------------------------------------------------\u001b[0m",
      "\u001b[0;31mTypeError\u001b[0m                                 Traceback (most recent call last)",
      "\u001b[0;32m<ipython-input-1-a2f33fb2cd56>\u001b[0m in \u001b[0;36m<module>\u001b[0;34m\u001b[0m\n\u001b[1;32m      1\u001b[0m \u001b[0mObs_terms\u001b[0m \u001b[0;34m=\u001b[0m \u001b[0;34m[\u001b[0m\u001b[0;34m[\u001b[0m\u001b[0;36m0\u001b[0m\u001b[0;34m,\u001b[0m\u001b[0;36m3\u001b[0m\u001b[0;34m]\u001b[0m\u001b[0;34m,\u001b[0m\u001b[0;34m[\u001b[0m\u001b[0;36m4\u001b[0m\u001b[0;34m,\u001b[0m\u001b[0;36m23\u001b[0m\u001b[0;34m]\u001b[0m\u001b[0;34m,\u001b[0m\u001b[0;34m[\u001b[0m\u001b[0;36m24\u001b[0m\u001b[0;34m,\u001b[0m\u001b[0;36m50\u001b[0m\u001b[0;34m]\u001b[0m\u001b[0;34m,\u001b[0m\u001b[0;34m[\u001b[0m\u001b[0;36m51\u001b[0m\u001b[0;34m,\u001b[0m\u001b[0;36m80\u001b[0m\u001b[0;34m]\u001b[0m\u001b[0;34m,\u001b[0m\u001b[0;34m[\u001b[0m\u001b[0;36m81\u001b[0m\u001b[0;34m,\u001b[0m\u001b[0;36m107\u001b[0m\u001b[0;34m]\u001b[0m\u001b[0;34m,\u001b[0m\u001b[0;34m[\u001b[0m\u001b[0;36m108\u001b[0m\u001b[0;34m,\u001b[0m\u001b[0;36m111\u001b[0m\u001b[0;34m]\u001b[0m\u001b[0;34m,\u001b[0m\u001b[0;34m[\u001b[0m\u001b[0;36m112\u001b[0m\u001b[0;34m,\u001b[0m\u001b[0;36m149\u001b[0m\u001b[0;34m]\u001b[0m\u001b[0;34m,\u001b[0m\u001b[0;34m[\u001b[0m\u001b[0;36m150\u001b[0m\u001b[0;34m,\u001b[0m \u001b[0;36m151\u001b[0m\u001b[0;34m]\u001b[0m\u001b[0;34m,\u001b[0m\u001b[0;34m[\u001b[0m\u001b[0;36m152\u001b[0m\u001b[0;34m,\u001b[0m\u001b[0;36m214\u001b[0m\u001b[0;34m]\u001b[0m\u001b[0;34m,\u001b[0m\u001b[0;34m[\u001b[0m\u001b[0;36m215\u001b[0m\u001b[0;34m,\u001b[0m\u001b[0;36m257\u001b[0m\u001b[0;34m]\u001b[0m\u001b[0;34m,\u001b[0m\u001b[0;34m[\u001b[0m\u001b[0;36m258\u001b[0m\u001b[0;34m,\u001b[0m\u001b[0;36m283\u001b[0m\u001b[0;34m]\u001b[0m\u001b[0;34m,\u001b[0m\u001b[0;34m[\u001b[0m\u001b[0;36m284\u001b[0m\u001b[0;34m,\u001b[0m\u001b[0;36m316\u001b[0m\u001b[0;34m]\u001b[0m\u001b[0;34m]\u001b[0m\u001b[0;34m\u001b[0m\u001b[0;34m\u001b[0m\u001b[0m\n\u001b[0;32m----> 2\u001b[0;31m \u001b[0mObs_terms\u001b[0m \u001b[0;34m=\u001b[0m \u001b[0;34m[\u001b[0m\u001b[0;34m[\u001b[0m\u001b[0;36m0\u001b[0m\u001b[0;34m,\u001b[0m\u001b[0;36m1\u001b[0m\u001b[0;34m]\u001b[0m\u001b[0;34m,\u001b[0m\u001b[0;34m[\u001b[0m\u001b[0;36m2\u001b[0m\u001b[0;34m,\u001b[0m\u001b[0;36m11\u001b[0m\u001b[0;34m]\u001b[0m\u001b[0;34m,\u001b[0m\u001b[0;34m[\u001b[0m\u001b[0;36m12\u001b[0m\u001b[0;34m,\u001b[0m\u001b[0;36m25\u001b[0m\u001b[0;34m]\u001b[0m\u001b[0;34m,\u001b[0m\u001b[0;34m[\u001b[0m\u001b[0;36m26\u001b[0m\u001b[0;34m,\u001b[0m\u001b[0;36m40\u001b[0m\u001b[0;34m]\u001b[0m\u001b[0;34m,\u001b[0m\u001b[0;34m[\u001b[0m\u001b[0;36m41\u001b[0m\u001b[0;34m,\u001b[0m\u001b[0;36m54\u001b[0m\u001b[0;34m]\u001b[0m\u001b[0;34m,\u001b[0m\u001b[0;34m[\u001b[0m\u001b[0;36m55\u001b[0m\u001b[0;34m,\u001b[0m\u001b[0;36m56\u001b[0m\u001b[0;34m]\u001b[0m\u001b[0;34m,\u001b[0m\u001b[0;34m[\u001b[0m\u001b[0;36m57\u001b[0m\u001b[0;34m,\u001b[0m\u001b[0;36m75\u001b[0m\u001b[0;34m]\u001b[0m\u001b[0;34m,\u001b[0m\u001b[0;34m[\u001b[0m\u001b[0;36m76\u001b[0m\u001b[0;34m,\u001b[0m\u001b[0;36m76\u001b[0m\u001b[0;34m]\u001b[0m\u001b[0;34m[\u001b[0m\u001b[0;36m77\u001b[0m\u001b[0;34m,\u001b[0m\u001b[0;36m104\u001b[0m\u001b[0;34m]\u001b[0m\u001b[0;34m,\u001b[0m\u001b[0;34m[\u001b[0m\u001b[0;36m105\u001b[0m\u001b[0;34m,\u001b[0m\u001b[0;36m125\u001b[0m\u001b[0;34m]\u001b[0m\u001b[0;34m,\u001b[0m\u001b[0;34m[\u001b[0m\u001b[0;36m126\u001b[0m\u001b[0;34m,\u001b[0m\u001b[0;36m138\u001b[0m\u001b[0;34m]\u001b[0m\u001b[0;34m,\u001b[0m\u001b[0;34m[\u001b[0m\u001b[0;36m139\u001b[0m\u001b[0;34m,\u001b[0m\u001b[0;36m155\u001b[0m\u001b[0;34m]\u001b[0m\u001b[0;34m]\u001b[0m\u001b[0;34m\u001b[0m\u001b[0;34m\u001b[0m\u001b[0m\n\u001b[0m\u001b[1;32m      3\u001b[0m \u001b[0;31m#Obs_terms = [[0,3],[4,50],[51,80],[81,107],[108,111],[112,149],[150, 151],[152,214],[215,257],[258,283],[284,316]]\u001b[0m\u001b[0;34m\u001b[0m\u001b[0;34m\u001b[0m\u001b[0;34m\u001b[0m\u001b[0m\n",
      "\u001b[0;31mTypeError\u001b[0m: list indices must be integers or slices, not tuple"
     ]
    }
   ],
   "source": [
    "Obs_terms = [[0,3],[4,23],[24,50],[51,80],[81,107],[108,111],[112,149],[150, 151],[152,214],[215,257],[258,283],[284,316]]\n",
    "Obs_terms = [[0,1],[2,11],[12,25],[26,40],[41,54],[55,56],[57,75],[76,76][77,104],[105,125],[126,138],[139,155]]\n",
    "#Obs_terms = [[0,3],[4,50],[51,80],[81,107],[108,111],[112,149],[150, 151],[152,214],[215,257],[258,283],[284,316]]"
   ]
  },
  {
   "cell_type": "code",
   "execution_count": 41,
   "metadata": {},
   "outputs": [],
   "source": [
    "def makeArrow(ax,pos1,pos2,direction):\n",
    "    delta = 0.0001 if direction >= 0 else -0.0001\n",
    "    posx = (pos1[0]+pos2[0])/2\n",
    "    posy = (pos1[1]+pos2[1])/2\n",
    "    ax.arrow(posx,posy,delta,delta*(pos1[1]-pos2[1])/(pos1[0]-pos2[0]),\n",
    "             head_width=0.01,head_length=0.01,color='black',alpha=0.5)"
   ]
  },
  {
   "cell_type": "code",
   "execution_count": null,
   "metadata": {},
   "outputs": [],
   "source": [
    "print(np.mean(J_H_errs),np.mean(H_K_errs))"
   ]
  },
  {
   "cell_type": "code",
   "execution_count": 54,
   "metadata": {
    "scrolled": false
   },
   "outputs": [
    {
     "name": "stderr",
     "output_type": "stream",
     "text": [
      "/home/lyhee/anaconda3/lib/python3.7/site-packages/ipykernel_launcher.py:36: DeprecationWarning: object of type <class 'float'> cannot be safely interpreted as an integer.\n"
     ]
    }
   ],
   "source": [
    "TCs_terms = []\n",
    "TCs_av_terms = []\n",
    "LCs_terms = []\n",
    "mags_J_terms= [];mags_H_terms= [];mags_K_terms= []\n",
    "i = 0\n",
    "plt.close()\n",
    "fig, ax = plt.subplots(figsize=[9,7])\n",
    "colormap = plt.cm.Paired(np.linspace(0,1,12))\n",
    "for Obs_term in Obs_terms:\n",
    "    TCs_terms.append([H_Ks[Obs_term[0]:(Obs_term[1]+1)],J_Hs[Obs_term[0]:(Obs_term[1]+1)],\n",
    "                          J_H_errs[Obs_term[0]:(Obs_term[1]+1)],H_K_errs[Obs_term[0]:(Obs_term[1]+1)]])\n",
    "    TCs_av_terms.append([np.mean(H_Ks[Obs_term[0]:(Obs_term[1]+1)]),np.mean(J_Hs[Obs_term[0]:(Obs_term[1]+1)]),\n",
    "                          2*np.std(H_Ks[Obs_term[0]:(Obs_term[1]+1)]),2*np.std(J_Hs[Obs_term[0]:(Obs_term[1]+1)])])\n",
    "    mags_J_terms.append([Js[Obs_term[0]:(Obs_term[1]+1)],Std_Js[Obs_term[0]:(Obs_term[1]+1)]])\n",
    "    mags_H_terms.append([Hs[Obs_term[0]:(Obs_term[1]+1)],Std_Hs[Obs_term[0]:(Obs_term[1]+1)]])\n",
    "    mags_K_terms.append([Ks[Obs_term[0]:(Obs_term[1]+1)],Std_Ks[Obs_term[0]:(Obs_term[1]+1)]])\n",
    "    LCs_terms.append([Ks[Obs_term[0]:(Obs_term[1]+1)],Std_Ks[Obs_term[0]:(Obs_term[1]+1)]])\n",
    "beg = 0\n",
    "end = len(TCs_terms)\n",
    "for j in range(beg,end):\n",
    "    i = j +1\n",
    "    #if j == beg:\n",
    "    #    ax.plot([x[0] for x in TCs_av_terms[beg:end]],[x[1] for x in TCs_av_terms[beg:end]],\n",
    "    #            alpha=0.5,color='black', linewidth=2)\n",
    "    ax.scatter(TCs_terms[j][0],TCs_terms[j][1],color=colormap[j],alpha=0.2)\n",
    "    #ells = patches.Ellipse((TCs_av_terms[j][0],TCs_av_terms[j][1]),TCs_av_terms[j][2],TCs_av_terms[j][3],\n",
    "    #                         alpha=0.3,color=colormap[j])\n",
    "    ax.errorbar(TCs_av_terms[j][0],TCs_av_terms[j][1],xerr=TCs_av_terms[j][2],yerr=TCs_av_terms[j][3],\n",
    "                fmt=\"o-\",label=str(i),color=colormap[j],alpha=1)\n",
    "    #if not j == beg:\n",
    "    #    makeArrow(ax, TCs_av_terms[j-1],TCs_av_terms[j],TCs_av_terms[j][0]-TCs_av_terms[j-1][0])\n",
    "    #ax.add_artist(ells)\n",
    "ell_err = patches.Ellipse((2.2,2.1),2*np.mean(H_K_errs),2*np.mean(J_H_errs),\n",
    "                             alpha=0.3,color=\"black\")\n",
    "ax.add_artist(ell_err)\n",
    "x = np.linspace(1.7,0.01,2.4)\n",
    "plt.plot(H_Ks,H_Ks*0.58+1.08,dashes=[5,5],linewidth=2,color='grey')\n",
    "plt.arrow(1.9,2.5,0.065,0.11,head_width=0.01,head_length=0.005)\n",
    "plt.annotate(r\"1 A$_{V}$\",xy=[1.9,2.57], fontsize=13)\n",
    "#arrowsz =[TCs_av_terms[3][0]-TCs_av_terms[2][0]+0.02, TCs_av_terms[3][1]-TCs_av_terms[2][1]+0.02]\n",
    "#plt.arrow(TCs_av_terms[2][0],TCs_av_terms[2][1],arrowsz[0],arrowsz[1],width=0.01,head_width=0.02,head_length=0.03,alpha=0.5,color=\"blue\")\n",
    "#arrowsz =[TCs_av_terms[1][0]-TCs_av_terms[0][0]-0.02, TCs_av_terms[1][1]-TCs_av_terms[0][1]-0.02]\n",
    "#plt.arrow(TCs_av_terms[0][0],TCs_av_terms[0][1],arrowsz[0],arrowsz[1],width=0.01,head_width=0.02,head_length=0.03,alpha=0.5,color=\"red\")\n",
    "#arrowsz =[TCs_av_terms[4][0]-TCs_av_terms[3][0]-0.02, TCs_av_terms[4][1]-TCs_av_terms[3][1]-0.02]\n",
    "#plt.arrow(TCs_av_terms[3][0],TCs_av_terms[3][1],arrowsz[0],arrowsz[1],width=0.01,head_width=0.02,head_length=0.03,alpha=0.5,color=\"red\")\n",
    "#arrowsz =[TCs_av_terms[7][0]-TCs_av_terms[6][0]-0.02, TCs_av_terms[7][1]-TCs_av_terms[6][1]-0.02]\n",
    "#plt.arrow(TCs_av_terms[6][0],TCs_av_terms[6][1],arrowsz[0],arrowsz[1],width=0.01,head_width=0.02,head_length=0.03,alpha=0.5,color=\"red\")\n",
    "#arrowsz =[TCs_av_terms[11][0]-TCs_av_terms[10][0]-0.02, TCs_av_terms[11][1]-TCs_av_terms[10][1]-0.02]\n",
    "#plt.arrow(TCs_av_terms[10][0],TCs_av_terms[10][1],arrowsz[0],arrowsz[1],width=0.01,head_width=0.02,head_length=0.03,alpha=0.5,color=\"red\")\n",
    "#arrowsz =[TCs_av_terms[6][0]-TCs_av_terms[5][0]+0.02, TCs_av_terms[6][1]-TCs_av_terms[5][1]+0.02]\n",
    "#plt.arrow(TCs_av_terms[5][0],TCs_av_terms[5][1],arrowsz[0],arrowsz[1],width=0.01,head_width=0.02,head_length=0.03,alpha=0.5,color=\"blue\")\n",
    "#arrowsz =[TCs_av_terms[9][0]-TCs_av_terms[8][0]+0.02, TCs_av_terms[9][1]-TCs_av_terms[8][1]+0.02]\n",
    "#plt.arrow(TCs_av_terms[8][0],TCs_av_terms[8][1],arrowsz[0],arrowsz[1],width=0.01,head_width=0.02,head_length=0.03,alpha=0.5,color=\"blue\")\n",
    "#plt.arrow(TCs_av_terms[2][0],TCs_av_terms[2][1],-0.16,-0.13,head_width=0.01,head_length=0.005,alpha=0.7)\n",
    "\n",
    "ax.legend(loc=\"upper left\",fontsize=13)\n",
    "ax.set_ylim([2.02,2.68])\n",
    "ax.set_xlim([1.71,2.31])\n",
    "ax.set_ylabel(\"J-H\",size=17)\n",
    "ax.set_xlabel(\"H-K\",size=17)\n",
    "plt.tick_params(axis='x',labelsize=17)\n",
    "plt.tick_params(axis='y',labelsize=17)\n",
    "fig.savefig(output_dir + region+'_'+k+'_TCD_191216_Scatter.pdf')"
   ]
  },
  {
   "cell_type": "code",
   "execution_count": null,
   "metadata": {},
   "outputs": [],
   "source": [
    "plt.close(fig)\n",
    "fig, ax = plt.subplots(figsize=[9,7])\n",
    "\n",
    "for j in range(0,len(TCs_terms)):\n",
    "    i = j +1\n",
    "    ax.scatter(TCs_terms[j][0],mags_H_terms[j][0],color=colormap[j],alpha=0.2)\n",
    "    #ells = patches.Ellipse((TCs_av_terms[j][0],TCs_av_terms[j][1]),TCs_av_terms[j][2],TCs_av_terms[j][3],\n",
    "    #                         alpha=0.3,color=colormap[j])\n",
    "    ax.errorbar(TCs_av_terms[j][0],np.mean(mags_H_terms[j][0]),\n",
    "                yerr=np.std(mags_H_terms[j][0]),xerr=TCs_av_terms[j][2],\n",
    "                fmt=\"o-\",label=str(i),color=colormap[j],alpha=1)\n",
    "ell_err = patches.Ellipse((1.8,14.2),2*np.mean(H_K_errs),2*np.mean(Std_Ks),\n",
    "                             alpha=0.3,color=\"black\")\n",
    "ax.add_artist(ell_err)\n",
    "ax.legend(loc=\"upper right\",fontsize=13)\n",
    "ax.set_ylabel(\"K\",size=17)\n",
    "ax.set_xlabel(\"H-K\",size=17)\n",
    "plt.gca().invert_yaxis()\n",
    "plt.tick_params(axis='x',labelsize=17)\n",
    "plt.tick_params(axis='y',labelsize=17)\n",
    "fig.savefig(output_dir + region+'_'+k+'_KtoK-H_191204_Scatter.pdf')"
   ]
  },
  {
   "cell_type": "code",
   "execution_count": 96,
   "metadata": {},
   "outputs": [],
   "source": [
    "importlib.reload(LCP)\n",
    "region = \"SERPM\"\n",
    "wl = \"K-band\"\n",
    "plt.close()\n",
    "fig, ax1 = plt.subplots()\n",
    "\n",
    "colorH = \"green\"\n",
    "colorHK = \"mediumblue\"\n",
    "ax1.set_xlabel(\"MJD\")\n",
    "ax1.set_ylabel(\"Liverpool H-band [mag]\",color=colorH)\n",
    "ax1.errorbar([x-2400000.5 for x in dates_LH], mags_LH,yerr=noises_LH,\n",
    "             color=colorH, fmt='o')\n",
    "ax1.tick_params(axis='y',labelcolor=colorH)\n",
    "plt.gca().invert_yaxis()\n",
    "\n",
    "ax2 = ax1.twinx()\n",
    "\n",
    "ax2.set_ylabel(\"(H-K)\",color=colorHK)\n",
    "ini = 150\n",
    "ax2.errorbar([x-2400000.5 for x in JDs[ini:]], H_Ks[ini:], yerr=H_K_errs[ini:],\n",
    "             color=colorHK, fmt='o',fillstyle='none')\n",
    "ax2.tick_params(axis='y',labelcolor=colorHK)\n",
    "#plt.xlim([58200,58800])\n",
    "fig.tight_layout()\n",
    "plt.show()\n",
    "\n",
    "\n",
    "plt.savefig(output_dir + region+'_'+k+'_K_H-K_LC_191226.pdf')"
   ]
  },
  {
   "cell_type": "code",
   "execution_count": 69,
   "metadata": {},
   "outputs": [
    {
     "data": {
      "text/plain": [
       "317"
      ]
     },
     "execution_count": 69,
     "metadata": {},
     "output_type": "execute_result"
    }
   ],
   "source": []
  },
  {
   "cell_type": "code",
   "execution_count": 84,
   "metadata": {},
   "outputs": [
    {
     "data": {
      "text/plain": [
       "'/mnt/Secdrive/TSmain/SERPM/Results_191021/EC53/SERPM_EC53_TCD_191029_arrow.pdf'"
      ]
     },
     "execution_count": 84,
     "metadata": {},
     "output_type": "execute_result"
    }
   ],
   "source": [
    "output_dir + region+'_'+k+'_TCD_191029_arrow.pdf'"
   ]
  },
  {
   "cell_type": "code",
   "execution_count": 52,
   "metadata": {},
   "outputs": [],
   "source": [
    "importlib.reload(LCP)\n",
    "region = \"SERPM\"\n",
    "wl = \"K-band\"\n",
    "plt.close()\n",
    "plt.figure(figsize=[9,7])\n",
    "for j in range(0,len(TCs_terms)):\n",
    "    i = j +1\n",
    "    LCP.LCplot([x-2400000.5 for x in JDs[Obs_terms[j][0]:(Obs_terms[j][1]+1)]], LCs_terms[j][0],LCs_terms[j][1]\n",
    "               ,mod_date,region,k,wl,mag=1,save=0,newplot=0,markersize=5,capsize=0\n",
    "               ,color=colormap[j],ecolor = 'black',figureindex=1,alpha = 1,label=str(i))\n",
    "    \n",
    "plt.legend(loc=\"upper left\",fontsize=13)\n",
    "plt.gca().invert_yaxis()\n",
    "plt.ylabel(\"Magnitude [mag]\",size=17)\n",
    "plt.xlabel(\"MJD\",size=17)\n",
    "\n",
    "plt.tick_params(axis='x',labelsize=17)\n",
    "plt.tick_params(axis='y',labelsize=17)\n",
    "plt.savefig(output_dir + region+'_'+k+'_K_LC_191216.pdf')"
   ]
  },
  {
   "cell_type": "code",
   "execution_count": null,
   "metadata": {
    "scrolled": true
   },
   "outputs": [],
   "source": [
    "importlib.reload(LCP)\n",
    "region = \"SERPM\"\n",
    "wl = \"K-band\"\n",
    "plt.close()\n",
    "plt.figure(figsize=[9,7])\n",
    "for j in range(0,len(TCs_terms)):\n",
    "    i = j +1\n",
    "    correction = [(x-JDs[0]) for x in JDs[Obs_terms[j][0]:(Obs_terms[j][1]+1)]][0]/365.24\n",
    "    LCP.LCplot([(x-JDs[0])%543/543 for x in JDs[Obs_terms[j][0]:(Obs_terms[j][1]+1)]]\n",
    "               ,LCs_terms[j][0],LCs_terms[j][1]\n",
    "               ,mod_date,region,k,wl,mag=1,save=0,newplot=0,markersize=5,capsize=0\n",
    "               ,color=colormap[j],ecolor = 'black',figureindex=1,alpha = 1,label=str(i))\n",
    "plt.legend(loc=\"upper left\",fontsize=13)\n",
    "plt.gca().invert_yaxis()\n",
    "plt.xlabel(\"Phase\")\n",
    "plt.tick_params(axis='x',labelsize=17)\n",
    "plt.tick_params(axis='y',labelsize=17)\n",
    "plt.ylabel(\"Magnitude [mag]\",size=17)\n",
    "plt.xlabel(\"Phase\",size=17)\n",
    "plt.savefig(output_dir + region+'_'+k+'_K_543PD_191014.pdf')"
   ]
  },
  {
   "cell_type": "code",
   "execution_count": null,
   "metadata": {},
   "outputs": [],
   "source": [
    "#Liverpool H & H-K color variation time series\n",
    "importlib.reload(LCP)\n",
    "region = \"SERPM\"\n",
    "wl = \"LiverpoolH\"\n",
    "plt.close()\n",
    "plt.figure(figsize=[9,7])\n",
    "\n",
    "\n",
    "LCP.LCplot([x-dates_LH[0] for x in dates_LH], mags_LH,LCs_terms[j][1]\n",
    "               ,mod_date,region,k,wl,mag=1,save=0,newplot=0,markersize=5,capsize=0\n",
    "               ,color=colormap[j],ecolor = 'black',figureindex=1,alpha = 1,label=str(i))\n",
    "    \n",
    "plt.legend(loc=\"upper left\",fontsize=13)\n",
    "plt.gca().invert_yaxis()\n",
    "plt.ylabel(\"Magnitude [mag]\",size=17)\n",
    "plt.xlabel(\"MJD\",size=17)\n",
    "\n",
    "plt.tick_params(axis='x',labelsize=17)\n",
    "plt.tick_params(axis='y',labelsize=17)\n",
    "plt.savefig(output_dir + region+'_'+k+'_'+wl+'_LC_191216.pdf')"
   ]
  }
 ],
 "metadata": {
  "kernelspec": {
   "display_name": "Python 3",
   "language": "python",
   "name": "python3"
  },
  "language_info": {
   "codemirror_mode": {
    "name": "ipython",
    "version": 3
   },
   "file_extension": ".py",
   "mimetype": "text/x-python",
   "name": "python",
   "nbconvert_exporter": "python",
   "pygments_lexer": "ipython3",
   "version": "3.7.1"
  }
 },
 "nbformat": 4,
 "nbformat_minor": 2
}
