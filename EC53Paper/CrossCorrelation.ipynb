{
 "cells": [
  {
   "cell_type": "code",
   "execution_count": 16,
   "metadata": {},
   "outputs": [
    {
     "data": {
      "text/plain": [
       "<module 'LCCall' from '/mnt/Secdrive/TSmain/Pip_test/trigger_codes_github/LCCall.py'>"
      ]
     },
     "execution_count": 16,
     "metadata": {},
     "output_type": "execute_result"
    }
   ],
   "source": [
    "import importlib\n",
    "import numpy as np\n",
    "#import readcol\n",
    "import TCTriggerFunctions as TF\n",
    "import matplotlib.pyplot as plt\n",
    "import LCAnalyses as LCA\n",
    "import LCPlot as LCP\n",
    "import LCCall as LCC\n",
    "from mpl_toolkits.axes_grid1.inset_locator import (inset_axes, InsetPosition, mark_inset)\n",
    "importlib.reload(TF)\n",
    "importlib.reload(LCA)\n",
    "importlib.reload(LCP)\n",
    "importlib.reload(LCC)"
   ]
  },
  {
   "cell_type": "code",
   "execution_count": 17,
   "metadata": {},
   "outputs": [],
   "source": [
    "k = \"EC53\"\n",
    "mod_date = \"191021\"\n",
    "datadir = '/mnt/Secdrive/TSmain/SERPM/'\n",
    "output_dir = datadir + 'Results_'+mod_date+\"/EC53/\"\n",
    "\n",
    "dates_K, mags_K, noises_K = LCC.EC53IR(\"UKIRT_K\",imeunit=\"day\",addLiverpool=0,timeunit=\"day\")\n",
    "dates_H, mags_H, noises_H = LCC.EC53IR(\"UKIRT_H\",imeunit=\"day\",addLiverpool=1,timeunit=\"day\")\n",
    "dates_J, mags_J, noises_J = LCC.EC53IR(\"UKIRT_J\",imeunit=\"day\",addLiverpool=0,timeunit=\"day\")\n",
    "dates_LH, mags_LH, noises_LH = LCC.EC53IR(\"Liverpool_H\",imeunit=\"day\",timeunit=\"day\")\n",
    "dates_850, fluxes_850, noises_850 = LCC.JCMTTRansientSource(k,'SERPM',\"850\",mod_date)\n",
    "JDs_W1, mags_W1, noises_W1 = LCC.EC53IR(\"WISE_W1_avg\")\n",
    "JDs_W2, mags_W2, noises_W2 = LCC.EC53IR(\"WISE_W2_avg\")\n",
    "JDs_W3, mags_W3, noises_W3 = LCC.EC53IR(\"WISE_W3_avg\")\n",
    "JDs_W4, mags_W4, noises_W4 = LCC.EC53IR(\"WISE_W4_avg\")\n",
    "dates_HK, mags_HK, noises_HK = LCC.EC53IR(\"Hodapp_K\")\n",
    "JDs_K = [x-2400000.5 for x in dates_K]\n",
    "JDs_H = [x-2400000.5 for x in dates_H]\n",
    "JDs_J = [x-2400000.5 for x in dates_J]\n",
    "JDs_LH = [x-2400000.5 for x in dates_LH]\n",
    "JDs_850 = [x-2400000.5 for x in dates_850]\n",
    "JDs_HK = [x-2400000.5 for x in dates_HK]\n",
    "mags_850,mnoises_850 = LCC.Mag2flux(\"850\",fluxes_850,noises_850, reverse=1)\n",
    "fluxes_K,fnoises_K = LCC.Mag2flux(\"UKIRT_K\",mags_K,noises_K)\n",
    "#fluxes_HK, fnoise_HK = LCC.Mag2flux(\"Hodapp_K\",mags_HK,noises_HK)\n",
    "fluxes_LH,fnoises_LH = LCC.Mag2flux(\"Liverpool_H\",mags_LH,noises_LH)\n",
    "fluxes_H,fnoises_H = LCC.Mag2flux(\"UKIRT_H\",mags_H,noises_H)\n",
    "fluxes_J,fnoises_J = LCC.Mag2flux(\"UKIRT_J\",mags_J,noises_J)\n",
    "fluxes_W1,fnoises_W1 = LCC.Mag2flux(\"WISE_W1\",mags_W1,noises_W1)\n",
    "fluxes_W2,fnoises_W2 = LCC.Mag2flux(\"WISE_W2\",mags_W2,noises_W2)\n",
    "fluxes_W3,fnoises_W3 = LCC.Mag2flux(\"WISE_W3\",mags_W3,noises_W3)\n",
    "fluxes_W4,fnoises_W4 = LCC.Mag2flux(\"WISE_W4\",mags_W4,noises_W4)"
   ]
  },
  {
   "cell_type": "code",
   "execution_count": null,
   "metadata": {},
   "outputs": [],
   "source": [
    "print(np.where(JDs_850<np.array(JDs_LH).max()))\n",
    "print(np.where(JDs_850>np.array(JDs_LH).min()))\n",
    "print(len(JDs_850))"
   ]
  },
  {
   "cell_type": "code",
   "execution_count": 18,
   "metadata": {
    "scrolled": true
   },
   "outputs": [],
   "source": [
    "interval = 5\n",
    "r_dates, r_mags_850, r_noises_850, acf = LCA.AutoCorrelation(JDs_850[25:49], mags_850[25:49],mnoises_850[25:49],interval=interval)\n",
    "r_dates, r_fluxes_850, r_noises_850, acf = LCA.AutoCorrelation(JDs_850[25:49], fluxes_850[25:49],noises_850[25:49],interval=interval)\n",
    "#r_dates, r_mags_H, r_noises_H = LCA.LCResample(JDs_H, mags_H,noises_H,r_dates) # to 41\n",
    "r_dates, r_mags_LH, r_noises_LH = LCA.LCResample(JDs_LH, mags_LH,noises_LH,r_dates) # to 34\n",
    "r_dates, r_fluxes_LH, r_fnoises_LH = LCA.LCResample(JDs_LH, fluxes_LH,fnoises_LH,r_dates) # to 34\n",
    "\n",
    "#r_dates, r_mags_K, r_noises_K = LCA.LCResample(JDs_K, mags_K,noises_K,r_dates) # to 34"
   ]
  },
  {
   "cell_type": "code",
   "execution_count": null,
   "metadata": {},
   "outputs": [],
   "source": [
    "len(r_mags_850)"
   ]
  },
  {
   "cell_type": "code",
   "execution_count": 4,
   "metadata": {},
   "outputs": [
    {
     "data": {
      "image/png": "[encoded data removed]",
      "text/plain": [
       "<Figure size 432x288 with 1 Axes>"
      ]
     },
     "metadata": {
      "needs_background": "light"
     },
     "output_type": "display_data"
    }
   ],
   "source": [
    "plt.close()\n",
    "wl = 'LH'\n",
    "#plt.scatter(r_dates,[x*5+14 for x in r_mags_850],color='red',label='m$_{850} \\\\times$ 5')\n",
    "#plt.scatter(r_dates,np.array(r_mags_H),color='blue', label='m$_{'+wl+'}$')\n",
    "plt.errorbar(JDs_LH,mags_LH,yerr=noises_LH,fmt='o',color='blue', label='m$_{'+wl+'}$')\n",
    "plt.errorbar(JDs_850,[x*5+13.5 for x in mags_850],yerr=[x*5 for x in mnoises_850],fmt='o',color='red',label='m$_{850} \\\\times$ 5 + 13.5')\n",
    "\n",
    "plt.xlim([r_dates.min()-100,r_dates.max()+100])\n",
    "plt.ylabel(\"Magnitude\")\n",
    "plt.xlabel(\"MJD\")\n",
    "#plt.scatter(r_dates,np.array(r_mags_H),color='blue', label='H band')\n",
    "plt.legend(loc='lower right')\n",
    "#plt.title(\"Light curves of EC 53\")\n",
    "plt.gca().invert_yaxis()\n",
    "plt.savefig(output_dir + k + '_LCs_'+str(interval)+ '_850&'+wl+'.pdf')"
   ]
  },
  {
   "cell_type": "code",
   "execution_count": 19,
   "metadata": {},
   "outputs": [],
   "source": [
    "\n",
    "ccf = []\n",
    "#n_mags_J = [x-np.mean(r_mags_J) for x in r_mags_J]\n",
    "#n_mags_H = [x-np.mean(r_mags_H) for x in r_mags_H]\n",
    "#n_mags_K = [x-np.mean(r_mags_K) for x in r_mags_K]\n",
    "n_mags_LH = [x-np.mean(r_mags_LH) for x in r_mags_LH]\n",
    "n_mags_850 = [x-np.mean(r_mags_850) for x in r_mags_850]\n",
    "#ccf.append(np.correlate(n_mags_J,n_mags_850))\n",
    "#for j in range(1,len(r_mags_850)):\n",
    "    \n",
    "#    ccf.append(np.correlate(n_mags_J,n_mags_850))\n",
    "\n",
    "#ccff = np.correlate(n_mags_H,n_mags_850,'full')\n",
    "#ccff = np.correlate(r_mags_J,r_mags_H,'full')\n",
    "#ccff = ccff[:-int(len(n_mags_850))+1]\n",
    "#cff = np.correlate(r_mags_J,[x*5+14 for x in r_mags_850])\n",
    "#nccf = ccf/np.sum([x*y for x,y in zip(r_noises_850,r_noises_J)])"
   ]
  },
  {
   "cell_type": "code",
   "execution_count": null,
   "metadata": {},
   "outputs": [],
   "source": []
  },
  {
   "cell_type": "code",
   "execution_count": null,
   "metadata": {},
   "outputs": [],
   "source": [
    "plt.close()\n",
    "plt.errorbar(r_dates,r_mags_LH,yerr=r_noises_LH,fmt='o',color='blue')\n",
    "plt.errorbar(r_dates,[x*5+12 for x in n_mags_850],yerr=[x*5 for x in r_noises_850],fmt='o',color='red',label='m$_{850} \\\\times$ 5 + 13.5')\n",
    "plt.gca().invert_yaxis()"
   ]
  },
  {
   "cell_type": "code",
   "execution_count": 6,
   "metadata": {},
   "outputs": [],
   "source": [
    "ACF = []\n",
    "#########################\n",
    "n_mags_IR = n_mags_LH\n",
    "r_mags_IR = r_mags_LH\n",
    "r_noises_IR = r_noises_LH\n",
    "wl = \"LH\"\n",
    "########################\n",
    "ACF.append(np.correlate(n_mags_IR,n_mags_850))\n",
    "ACF[0] = ACF[0]#/np.sum([x**2 for x in n_mags_IR])\n",
    "for j in range(1,int(len(n_mags_850))):\n",
    "    i = len(n_mags_850)-j\n",
    "    shifted = list(n_mags_850)[i:]+list(n_mags_850)[:i]\n",
    "    #point_ACF = np.correlate(n_mags_IR,np.array(shifted))\n",
    "    point_ACF = np.correlate(n_mags_IR[j:],n_mags_850[:-j])\n",
    "    #point_ACF = point_ACF/np.sum([x*y for x,y in zip(n_mags_IR[j:],n_mags_850[:-j])])\n",
    "    ACF.append(point_ACF)\n",
    "\n",
    "ACF = np.array(ACF)"
   ]
  },
  {
   "cell_type": "code",
   "execution_count": null,
   "metadata": {
    "scrolled": true
   },
   "outputs": [],
   "source": [
    "np.correlate(n_mags_IR[1:],n_mags_850[:-1])"
   ]
  },
  {
   "cell_type": "code",
   "execution_count": null,
   "metadata": {},
   "outputs": [],
   "source": [
    "len(n_mags_850)"
   ]
  },
  {
   "cell_type": "code",
   "execution_count": 66,
   "metadata": {
    "scrolled": true
   },
   "outputs": [
    {
     "data": {
      "image/png": "[encoded data removed]",
      "text/plain": [
       "<Figure size 360x288 with 2 Axes>"
      ]
     },
     "metadata": {
      "needs_background": "light"
     },
     "output_type": "display_data"
    },
    {
     "name": "stdout",
     "output_type": "stream",
     "text": [
      "/mnt/Secdrive/TSmain/SERPM/Results_191021/EC53/EC53_CCF_5_850&LH_zoom.pdf\n"
     ]
    }
   ],
   "source": [
    "r_dates_plot = np.array([x-r_dates[0] for x in r_dates[0:int(len(r_dates))]])\n",
    "fig, ax = plt.subplots(figsize=(5,4))\n",
    "start_ind = int(400/interval)\n",
    "j = start_ind + np.where(ACF[start_ind:int(len(r_dates))] == ACF[start_ind:int(len(r_dates))].max())[0]\n",
    "j = j[0]\n",
    "#j = 16\n",
    "i = len(r_dates)-j\n",
    "\n",
    "#ax[0].errorbar(r_dates[j:],n_mags_IR[:i],yerr=r_noises_IR[:i], fmt='o', color='orange')\n",
    "#ax[0].errorbar([x-r_dates[0] for x in r_dates],n_mags_IR,yerr=r_noises_IR, fmt='o', color='orange')\n",
    "#ax[0].errorbar([x-r_dates[0] for x in r_dates],[x*5 for x in n_mags_850],yerr=r_noises_850,fmt='o', color='firebrick')\n",
    "#ax[0].invert_yaxis()\n",
    "#ax[0].set(xlabel = 'Relative Dates [days]',ylabel = 'Flux [mJy]')\n",
    "#ax[0].set(xlabel = 'Relative Dates [days]',ylabel = 'Magnitudes [mag]')\n",
    "ax.scatter(r_dates_plot,ACF)\n",
    "ax.plot([j*interval,j*interval],[ACF.min(),ACF.max()/4],color=\"orange\")\n",
    "ax.annotate(\"Peak at {0:3.0f}$\\pm${1:2.1f} days\".format(j*interval,interval/2),xy=[0.5,0.43], xycoords=\"figure fraction\")\n",
    "ax.set(xlabel = 'Shifted Days [days]', ylabel = 'CF')\n",
    "ax.set_xlim([0,600])\n",
    "#ax[1].set_ylim([2,4.5])\n",
    "ax2 = plt.axes([0,0,1,1])\n",
    "ip = InsetPosition(ax, [0.4, 0.6, 0.5, 0.3])\n",
    "ax2.set_axes_locator(ip)\n",
    "ax2.scatter(r_dates_plot[np.where(r_dates_plot<100)],ACF[np.where(r_dates_plot<100)])\n",
    "ax2.set_ylim([1.5,ACF.max()+0.2])\n",
    "mark_inset(ax, ax2, loc1=1, loc2=4, fc=\"none\",ec=\"0.5\")\n",
    "#ax2.set(xlabel = 'Shifted Days [days]', ylabel = 'CF')\n",
    "\n",
    "datadir = \"/mnt/Secdrive/TSmain/SERPM\"\n",
    "output_dir = datadir+\"/Results_\"+mod_date+\"/EC53/\"\n",
    "output = output_dir+ \"EC53\" + '_CCF_'+str(interval)+ '_850&'+wl+'_zoom.pdf'\n",
    "plt.show()\n",
    "fig.savefig(output)\n",
    "print(output)"
   ]
  },
  {
   "cell_type": "code",
   "execution_count": 27,
   "metadata": {},
   "outputs": [
    {
     "data": {
      "text/plain": [
       "15.0"
      ]
     },
     "execution_count": 27,
     "metadata": {},
     "output_type": "execute_result"
    }
   ],
   "source": [
    "r_dates_plot[3]"
   ]
  },
  {
   "cell_type": "code",
   "execution_count": null,
   "metadata": {},
   "outputs": [],
   "source": [
    "ACF = []\n",
    "#########################\n",
    "n_mags_IR = [x-np.mean(r_fluxes_LH) for x in r_fluxes_LH]\n",
    "n_mags_850 = [x-np.mean(r_fluxes_850) for x in r_fluxes_850]\n",
    "#r_fluxes_IR = r_fluxes_LH\n",
    "r_fnoises_IR = r_fnoises_LH\n",
    "wl = \"LH\"\n",
    "########################\n",
    "ACF.append(np.correlate(n_mags_IR,n_mags_850))\n",
    "ACF[0] = ACF[0]#/np.sum([x**2 for x in n_mags_IR])\n",
    "for j in range(1,int(len(n_mags_850))):\n",
    "    i = len(n_mags_850)-j\n",
    "    shifted = list(n_mags_850)[i:]+list(n_mags_850)[:i]\n",
    "    #point_ACF = np.correlate(n_mags_IR,np.array(shifted))\n",
    "    point_ACF = np.correlate(n_mags_IR[j:],n_mags_850[:-j])\n",
    "    #point_ACF = point_ACF/np.sum([x*y for x,y in zip(n_mags_IR[j:],n_mags_850[:-j])])\n",
    "    ACF.append(point_ACF)\n",
    "\n",
    "ACF = np.array(ACF)"
   ]
  },
  {
   "cell_type": "code",
   "execution_count": null,
   "metadata": {},
   "outputs": [],
   "source": []
  },
  {
   "cell_type": "code",
   "execution_count": null,
   "metadata": {},
   "outputs": [],
   "source": [
    "r_dates_plot = [x-r_dates[0] for x in r_dates[0:int(len(r_dates))]]\n",
    "fig, ax = plt.subplots(2,1,figsize=(5,8))\n",
    "start_ind = int(400/interval)\n",
    "j = start_ind + np.where(ACF[start_ind:int(len(r_dates))] == ACF[start_ind:int(len(r_dates))].max())[0]\n",
    "j = j[0]\n",
    "#j = 16\n",
    "i = len(r_dates)-j\n",
    "\n",
    "#ax[0].errorbar(r_dates[j:],n_mags_IR[:i],yerr=r_noises_IR[:i], fmt='o', color='orange')\n",
    "ax[0].errorbar(r_dates,n_mags_IR,yerr=r_fnoises_IR, fmt='o', color='orange')\n",
    "ax[0].errorbar(r_dates,n_mags_850,yerr=r_noises_850,fmt='o', color='firebrick')\n",
    "#ax[0].invert_yaxis()\n",
    "#ax[0].set(xlabel = 'Relative Dates [days]',ylabel = 'Flux [mJy]')\n",
    "ax[0].set(xlabel = 'Relative Dates [days]',ylabel = 'Magnitudes [mag]')\n",
    "ax[1].scatter(r_dates_plot,ACF)\n",
    "ax[1].plot([j*interval,j*interval],[ACF.min(),ACF.max()],color=\"orange\")\n",
    "ax[1].annotate(\"Peak at {0:3.0f}$\\pm${1:2.0f} days\".format(j*interval,interval/2),xy=[0.40,0.3], xycoords=\"figure fraction\")\n",
    "ax[1].set(xlabel = 'Shifted Days [days]', ylabel = 'CF')\n",
    "#ax[1].set_xlim([0,100])\n",
    "#ax[1].set_ylim([0.02,0.045])\n",
    "\n",
    "datadir = \"/mnt/Secdrive/TSmain/SERPM\"\n",
    "output_dir = datadir+\"/Results_191021/\"\n",
    "output = output_dir+ \"EC53/\" + 'EC53_CCF_'+str(interval)+ '_f850&'+wl+'_whole.pdf'\n",
    "plt.savefig(output)\n"
   ]
  },
  {
   "cell_type": "code",
   "execution_count": null,
   "metadata": {},
   "outputs": [],
   "source": []
  }
 ],
 "metadata": {
  "kernelspec": {
   "display_name": "Python 3",
   "language": "python",
   "name": "python3"
  },
  "language_info": {
   "codemirror_mode": {
    "name": "ipython",
    "version": 3
   },
   "file_extension": ".py",
   "mimetype": "text/x-python",
   "name": "python",
   "nbconvert_exporter": "python",
   "pygments_lexer": "ipython3",
   "version": "3.7.1"
  }
 },
 "nbformat": 4,
 "nbformat_minor": 2
}
