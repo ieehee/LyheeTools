{
 "cells": [
  {
   "cell_type": "code",
   "execution_count": 88,
   "metadata": {},
   "outputs": [
    {
     "data": {
      "text/plain": [
       "<module 'LCPlot' from '/mnt/Secdrive/TSmain/Pip_test/trigger_codes_github/LCPlot.py'>"
      ]
     },
     "execution_count": 88,
     "metadata": {},
     "output_type": "execute_result"
    }
   ],
   "source": [
    "import LCCall as LCC\n",
    "import LCAnalyses as LCA\n",
    "import LCPlot as LCP\n",
    "import importlib\n",
    "import matplotlib.pyplot as plt\n",
    "import numpy as np\n",
    "from matplotlib import patches\n",
    "importlib.reload(LCC)\n",
    "importlib.reload(LCA)\n",
    "importlib.reload(LCP)"
   ]
  },
  {
   "cell_type": "code",
   "execution_count": 89,
   "metadata": {},
   "outputs": [],
   "source": [
    "%matplotlib tk\n",
    "k = \"EC53\"\n",
    "mod_date = \"191021\"\n",
    "wl = \"UKIRT_K\"\n",
    "region = \"SERPM\"\n",
    "input_dir = '/mnt/Secdrive/TSmain/SERPM/EC53/EC53/'\n",
    "output_dir = \"/mnt/Secdrive/TSmain/SERPM/EC53/InCanada/\"\n",
    "dates_K, mags_K, noises_K = LCC.EC53IR(\"UKIRT_K\",imeunit=\"day\",addLiverpool=0,timeunit=\"day\")\n",
    "dates_H, mags_H, noises_H = LCC.EC53IR(\"UKIRT_H\",imeunit=\"day\",addLiverpool=0,timeunit=\"day\")\n",
    "dates_J, mags_J, noises_J = LCC.EC53IR(\"UKIRT_J\",imeunit=\"day\",addLiverpool=0,timeunit=\"day\")\n",
    "dates_LH, mags_LH, noises_LH = LCC.EC53IR(\"Liverpool_H\",imeunit=\"day\",timeunit=\"day\")\n",
    "JDs_W1, mags_W1, noises_W1 = LCC.EC53IR(\"WISE_W1_avg\")\n",
    "JDs_W2, mags_W2, noises_W2 = LCC.EC53IR(\"WISE_W2_avg\")\n",
    "\n",
    "JDs,Js,Std_Js,Hs,Std_Hs,Ks,Std_Ks,J_Hs,J_H_errs,H_Ks,H_K_errs, = np.loadtxt(input_dir +\"/EC53_UKIRT_JHK_combined_fin.dat\", unpack=True, dtype='float')\n",
    "dates_850, fluxes_850, noises_850 = LCC.JCMTTRansientSource(k,\"SERPM\",\"850\",'0410',test=1)\n",
    "dates_850 = dates_850[:-1]\n",
    "fluxes_850 = fluxes_850[:-1]\n",
    "noises_850 = [np.sqrt((x**2+0.02*0.02*np.mean(fluxes_850)**2)) for x in noises_850[:-1]]\n",
    "lc = LCC.EC53call()\n"
   ]
  },
  {
   "cell_type": "code",
   "execution_count": 90,
   "metadata": {},
   "outputs": [],
   "source": [
    "plt.close()\n",
    "plt.scatter(JDs,Js)\n",
    "plt.gca().invert_yaxis()"
   ]
  },
  {
   "cell_type": "code",
   "execution_count": 179,
   "metadata": {},
   "outputs": [],
   "source": [
    "JDs_W1 += 2400000.5\n",
    "JDs_W2 += 2400000.5"
   ]
  },
  {
   "cell_type": "code",
   "execution_count": 37,
   "metadata": {},
   "outputs": [],
   "source": [
    "crosspoints = [(2457161.555120096, 14.6161034454326),\n",
    " (2457211.107483692, 13.002953466189865),\n",
    " (2457620.4539564606, 14.65195122274963),\n",
    " (2457704.142392756, 11.927520146693496),\n",
    " (2458202.47722917, 13.934995676418112),\n",
    " (2458263.0412291205, 11.963367924010527),\n",
    " (2458752.47722917, 13.93499567641993)]\n",
    "crossx = np.array([x[0] for x in crosspoints])\n",
    "crossy = np.array([x[1] for x in crosspoints])"
   ]
  },
  {
   "cell_type": "code",
   "execution_count": 91,
   "metadata": {},
   "outputs": [],
   "source": [
    "importlib.reload(LCA)\n",
    "offset_factors1 = [1.0, 0.95, 0.79, 0.79]\n",
    "offset_factors = [1.01, 0.96, 0.78, 0.74]\n",
    "offset_factors = [1.01, 0.96, 0.78, 0.75]\n",
    "offset2_factors = [0.6,0.55,0.44,0.24]\n",
    "per = 530\n",
    "phoff = 200 #former 170\n",
    "subphoff=phoff\n",
    "#subphoff = (dates_850[0]-JDs[0]+phoff)%525/525*565\n",
    "\n",
    "check_phup = LCA.LCphaseup(crossx,crossy,\"UKIRT_H\",offset=offset_factors[1],offset2=offset2_factors[1],period=per,offset_date=phoff)\n",
    "\n",
    "J_phup = LCA.LCphaseup(JDs,Js,\"UKIRT_J\",offset=offset_factors[0],offset2=offset2_factors[0],period=per,offset_date=phoff)\n",
    "H_phup = LCA.LCphaseup(JDs,Hs,\"UKIRT_H\",offset=offset_factors[1],offset2=offset2_factors[1],period=per,offset_date=phoff)\n",
    "K_phup = LCA.LCphaseup(JDs,Ks,\"UKIRT_K\",offset=offset_factors[2],offset2=offset2_factors[2],period=per,offset_date=phoff)\n",
    "Sub_phup = LCA.LCphaseup(np.array(dates_850),np.array(fluxes_850),\"SCUBA2_850\",offset=offset_factors[3],offset2=offset2_factors[3],offset_date=subphoff,period=per)\n",
    "W1_phup = LCA.LCphaseup(JDs_W1,mags_W1,\"WISE_W1\",offset=0.8,period=per,offset_date=phoff)\n",
    "JH_phup = LCA.LCphaseup(JDs,J_Hs,'UKIRT_JH',offset=offset_factors[0]-offset_factors[1],offset2=offset2_factors[0]-offset2_factors[1],period=per,offset_date=phoff)\n",
    "HK_phup = LCA.LCphaseup(JDs,H_Ks,'UKIRT_HK',offset=offset_factors[1]-offset_factors[2],offset2=offset2_factors[1]-offset2_factors[2],period=per,offset_date=phoff)\n",
    "\n",
    "phases = [0.4,0.7]\n",
    "burstlabel = '{0:0.1f}'.format(phases[0])+\" < Phase < \" + '{0:0.1f}'.format(phases[1])\n",
    "HK_burstx,HK_burst = HK_phup.Phasepickup(phases)\n",
    "JH_burstx,JH_burst = JH_phup.Phasepickup(phases)\n",
    "H_burstx,H_burst = H_phup.Phasepickup(phases)\n",
    "J_burstx,J_burst = J_phup.Phasepickup(phases)\n",
    "K_burstx, K_burst = K_phup.Phasepickup(phases)\n",
    "Sub_burstx,Sub_burst = Sub_phup.Phasepickup(phases)\n",
    "spliter = [0.1,0.3,0.5,0.7,0.9]\n",
    "J_splitx,J_split = J_phup.Phasesplit(spliter)\n",
    "JH_splitx,JH_split = JH_phup.Phasesplit(spliter)\n",
    "H_splitx,H_split = H_phup.Phasesplit(spliter)\n",
    "HK_splitx,HK_split = HK_phup.Phasesplit(spliter)\n",
    "J_phup.Phasextend()\n",
    "H_phup.Phasextend()\n",
    "K_phup.Phasextend()\n",
    "Sub_phup.Phasextend()\n",
    "W1_phup.Phasextend()\n",
    "JH_phup.Phasextend()\n",
    "HK_phup.Phasextend()\n",
    "check_phup.Phasextend()\n",
    "\n",
    "Jcut= J_phup.cut_ind\n",
    "Jcut2 = J_phup.cut_ind2\n",
    "Hcut= H_phup.cut_ind\n",
    "Hcut2= H_phup.cut_ind2\n",
    "Kcut= K_phup.cut_ind\n",
    "Kcut2= K_phup.cut_ind2\n",
    "Subcut= Sub_phup.cut_ind\n",
    "Subcut2= Sub_phup.cut_ind2\n",
    "W1cut= W1_phup.cut_ind\n"
   ]
  },
  {
   "cell_type": "code",
   "execution_count": 93,
   "metadata": {},
   "outputs": [],
   "source": [
    "save =0"
   ]
  },
  {
   "cell_type": "code",
   "execution_count": null,
   "metadata": {},
   "outputs": [],
   "source": [
    "asdf = 0\n",
    "fdsa = 0\n",
    "for i in [0,1,2,3]:\n",
    "    asdf += np.size(JH_split[i])\n",
    "    fdsa += np.size(J_split[i])\n",
    "    \n"
   ]
  },
  {
   "cell_type": "code",
   "execution_count": 25,
   "metadata": {},
   "outputs": [
    {
     "data": {
      "text/plain": [
       "51"
      ]
     },
     "execution_count": 25,
     "metadata": {},
     "output_type": "execute_result"
    }
   ],
   "source": [
    "len(Sub_phup.xplot)"
   ]
  },
  {
   "cell_type": "code",
   "execution_count": 75,
   "metadata": {},
   "outputs": [],
   "source": [
    "save =1\n",
    "exterr = list(lc.mnoises_850[:-1]) + list(lc.mnoises_850[:-1]) + list(lc.mnoises_850[:-1])"
   ]
  },
  {
   "cell_type": "code",
   "execution_count": 59,
   "metadata": {
    "scrolled": true
   },
   "outputs": [
    {
     "name": "stdout",
     "output_type": "stream",
     "text": [
      "0\n",
      "[13.6561034454326, 12.042953466189864, 13.69195122274963, 11.927520146693496, 13.934995676418112, 11.963367924010527, 13.93499567641993]\n",
      "7\n",
      "[13.6561034454326, 12.042953466189864, 13.69195122274963, 11.927520146693496, 13.934995676418112, 11.963367924010527, 13.93499567641993]\n",
      "14\n",
      "[13.6561034454326, 12.042953466189864, 13.69195122274963, 11.927520146693496, 13.934995676418112, 11.963367924010527, 13.93499567641993]\n"
     ]
    }
   ],
   "source": [
    "for i in range(0,21,7):\n",
    "    print(check_phup.yplott[i:i+7])"
   ]
  },
  {
   "cell_type": "code",
   "execution_count": 92,
   "metadata": {
    "scrolled": true
   },
   "outputs": [],
   "source": [
    "plt.close()\n",
    "fig, ax = plt.subplots(4,figsize = [6,12])\n",
    "simsize = 30\n",
    "ax[3].scatter(Sub_phup.xplott,np.array(Sub_phup.yplott)/5.5,s= simsize,color='grey')\n",
    "ax[3].errorbar(np.array(Sub_phup.xplott),np.array(Sub_phup.yplott)/5.5,yerr=exterr,mfc='none',color='grey', fmt=',')\n",
    "#ax[3].scatter(W1_phup.xplott,W1_phup.yplott,s= simsize,color='red',label=\"W1\")\n",
    "ax[0].scatter(J_phup.xplott,J_phup.yplott,s= simsize,color = \"grey\")\n",
    "ax[1].scatter(H_phup.xplott,H_phup.yplott,s= simsize,color = \"grey\")\n",
    "ax[2].scatter(K_phup.xplott,K_phup.yplott,s= simsize,color = \"grey\")\n",
    "\n",
    "\n",
    "#for i in range(0,21,7):\n",
    "colors = ['green','orange','red']\n",
    "for i in range(7,13,2):\n",
    "    j = int((i-7)/2)\n",
    "    ax[1].errorbar(check_phup.xplott[i:i+2],check_phup.yplott[i:i+2],mfc='none',fmt='s-',color = colors[j],mec=colors[j])\n",
    "    \n",
    "for i in range(7,1,2):\n",
    "    j = i+8\n",
    "    h = int((i)/2)\n",
    "    x = [check_phup.xplott[i],check_phup.xplott[j]]\n",
    "    y = [check_phup.yplott[i],check_phup.yplott[j]]\n",
    "    ax[1].errorbar(x,y,mfc='none',fmt='s-',color = colors[h],mec=colors[h])\n",
    "ax[1].errorbar(check_phup.xplott,check_phup.yplott,mfc='none',fmt='s',color=\"red\",mec='red')\n",
    "#ax[1].errorbar(check_phup.xplott[7:14],check_phup.yplott[7:14],mfc='none',fmt='s-',color = \"red\",mec='red')\n",
    "\n",
    "\n",
    "#ax[2].scatter(W1_phup.xplott,np.array(W1_phup.yplott)+5.5,color='red',label=\"W1\")\n",
    "\n",
    "\n",
    "for i in range(-1,2):\n",
    "    ax[3].scatter(np.array(Sub_phup.xplot)[:Subcut]+i,np.array(Sub_phup.yplot[:Subcut])/5.5,s= simsize,facecolors= \"none\",edgecolor='black')\n",
    "    #ax[3].scatter(np.array(W1_phup.xplot[:13])+i,W1_phup.yplot[:13],s= simsize,facecolors= \"none\",edgecolor='black')\n",
    "    ax[0].scatter(np.array(J_phup.xplot[:Jcut])+i,J_phup.yplot[:Jcut],s= simsize,facecolors= \"none\",edgecolor='black')\n",
    "    ax[1].scatter(np.array(H_phup.xplot[:Jcut])+i,H_phup.yplot[:Jcut],s= simsize,facecolors= \"none\",edgecolor='black')\n",
    "    ax[2].scatter(np.array(K_phup.xplot[:Jcut])+i,K_phup.yplot[:Jcut],s= simsize,facecolors= \"none\",edgecolor='black')\n",
    "    ax[3].scatter(np.array(Sub_phup.xplot[Subcut2:])+i,np.array(Sub_phup.yplot[Subcut2:])/5.5,s= simsize+5,marker=\"s\",facecolors= \"none\",edgecolor='black')\n",
    "    ax[0].scatter(np.array(J_phup.xplot[Jcut2:])+i,J_phup.yplot[Jcut2:],s= simsize+5,marker=\"s\",facecolors= \"none\",edgecolor='black')\n",
    "    ax[1].scatter(np.array(H_phup.xplot[Jcut2:])+i,H_phup.yplot[Jcut2:],s= simsize+5,marker=\"s\",facecolors= \"none\",edgecolor='black')\n",
    "    ax[2].scatter(np.array(K_phup.xplot[Jcut2:])+i,K_phup.yplot[Jcut2:],s= simsize+5,marker=\"s\",facecolors= \"none\",edgecolor='black')\n",
    "#ax[0].scatter(K_phup.xplot[:55],K_phup.data[:55],color = \"red\",alpha=0.2)\n",
    "#ax.tick_params('x')\n",
    "for eachax in ax:\n",
    "    eachax.label_outer()\n",
    "    eachax.grid(axis='y',color='gray',lw=0.2,alpha=0.5)\n",
    "    eachax.grid(axis='x',color='gray',lw=0.2,alpha=0.5)\n",
    "    eachax.set_xlim(-0.5,1.5)\n",
    "    #eachax.set_xlabel(r\"Phase\")\n",
    "    #ax.legend()\n",
    "    eachax.invert_yaxis()\n",
    "    #eachax.tick_params(axis='y',width=0.5)\n",
    "#ax[3].legend(loc='upper right',fontsize=9)\n",
    "ax[3].set_ylabel(r\"m$_{850}$ [mag]\")\n",
    "ax[0].set_ylabel(\"J [mag]\")\n",
    "ax[1].set_ylabel(\"H [mag]\")\n",
    "ax[2].set_ylabel(\"K [mag]\")\n",
    "ax[3].set_xlabel(\"Phase\")\n",
    "plt.subplots_adjust(hspace=0)\n",
    "if save:\n",
    "    plt.savefig(output_dir+'PhaseD_LC_1Poffset_withcheckline.pdf')\n"
   ]
  },
  {
   "cell_type": "code",
   "execution_count": 71,
   "metadata": {},
   "outputs": [
    {
     "data": {
      "text/plain": [
       "3.0"
      ]
     },
     "execution_count": 71,
     "metadata": {},
     "output_type": "execute_result"
    }
   ],
   "source": [
    "(i-1)/2"
   ]
  },
  {
   "cell_type": "code",
   "execution_count": 29,
   "metadata": {},
   "outputs": [
    {
     "data": {
      "text/plain": [
       "array([0.01272434, 0.01220401, 0.01393143, 0.01134586, 0.01550201,\n",
       "       0.01290181, 0.01175163, 0.01172211, 0.00798045, 0.00885373,\n",
       "       0.00892813, 0.00754904, 0.00662576, 0.01015805, 0.00858286,\n",
       "       0.00941041, 0.00986803, 0.00895983, 0.00856453, 0.0083052 ,\n",
       "       0.00932815, 0.00843354, 0.01031132, 0.01196383, 0.01045008,\n",
       "       0.00950561, 0.00769993, 0.00806452, 0.00965809, 0.00758811,\n",
       "       0.00751979, 0.00767007, 0.01109934, 0.0123913 , 0.00901889,\n",
       "       0.00819397, 0.01005231, 0.01241434, 0.00971789, 0.00815259,\n",
       "       0.0108632 , 0.01092035, 0.00822511, 0.01043903, 0.01353572,\n",
       "       0.00794442, 0.01400394, 0.01036816, 0.01220165, 0.01000339,\n",
       "       0.00691474, 0.00739746])"
      ]
     },
     "execution_count": 29,
     "metadata": {},
     "output_type": "execute_result"
    }
   ],
   "source": [
    "np.array(lc.mnoises_850)"
   ]
  },
  {
   "cell_type": "code",
   "execution_count": 167,
   "metadata": {},
   "outputs": [
    {
     "data": {
      "text/plain": [
       "'/mnt/Secdrive/TSmain/SERPM/EC53/InCanada/New2_PhaseD_LC_1Poffset.pdf'"
      ]
     },
     "execution_count": 167,
     "metadata": {},
     "output_type": "execute_result"
    }
   ],
   "source": [
    "output_dir+'PhaseD_LC_1Poffset.pdf'"
   ]
  },
  {
   "cell_type": "code",
   "execution_count": 95,
   "metadata": {},
   "outputs": [],
   "source": [
    "save=1\n",
    "splitcolors = [\"purple\",\"orange\",\"red\",\"green\",\"blue\"]\n",
    "marks = ['o','^','s']\n",
    "simsize = 15"
   ]
  },
  {
   "cell_type": "code",
   "execution_count": 94,
   "metadata": {
    "scrolled": true
   },
   "outputs": [
    {
     "ename": "NameError",
     "evalue": "name 'splitcolors' is not defined",
     "output_type": "error",
     "traceback": [
      "\u001b[0;31m---------------------------------------------------------------------------\u001b[0m",
      "\u001b[0;31mNameError\u001b[0m                                 Traceback (most recent call last)",
      "\u001b[0;32m<ipython-input-94-d6d0c08dd1bb>\u001b[0m in \u001b[0;36m<module>\u001b[0;34m\u001b[0m\n\u001b[1;32m      2\u001b[0m \u001b[0mfig\u001b[0m\u001b[0;34m,\u001b[0m \u001b[0max\u001b[0m \u001b[0;34m=\u001b[0m \u001b[0mplt\u001b[0m\u001b[0;34m.\u001b[0m\u001b[0msubplots\u001b[0m\u001b[0;34m(\u001b[0m\u001b[0;36m2\u001b[0m\u001b[0;34m,\u001b[0m\u001b[0mfigsize\u001b[0m \u001b[0;34m=\u001b[0m \u001b[0;34m[\u001b[0m\u001b[0;36m6\u001b[0m\u001b[0;34m,\u001b[0m\u001b[0;36m6\u001b[0m\u001b[0;34m]\u001b[0m\u001b[0;34m)\u001b[0m\u001b[0;34m\u001b[0m\u001b[0;34m\u001b[0m\u001b[0m\n\u001b[1;32m      3\u001b[0m \u001b[0;34m\u001b[0m\u001b[0m\n\u001b[0;32m----> 4\u001b[0;31m \u001b[0max\u001b[0m\u001b[0;34m[\u001b[0m\u001b[0;36m0\u001b[0m\u001b[0;34m]\u001b[0m\u001b[0;34m.\u001b[0m\u001b[0mscatter\u001b[0m\u001b[0;34m(\u001b[0m\u001b[0mJH_phup\u001b[0m\u001b[0;34m.\u001b[0m\u001b[0mxplott\u001b[0m\u001b[0;34m,\u001b[0m\u001b[0mJH_phup\u001b[0m\u001b[0;34m.\u001b[0m\u001b[0myplott\u001b[0m\u001b[0;34m,\u001b[0m\u001b[0ms\u001b[0m\u001b[0;34m=\u001b[0m \u001b[0msimsize\u001b[0m\u001b[0;34m,\u001b[0m\u001b[0mcolor\u001b[0m \u001b[0;34m=\u001b[0m \u001b[0msplitcolors\u001b[0m\u001b[0;34m[\u001b[0m\u001b[0;36m4\u001b[0m\u001b[0;34m]\u001b[0m\u001b[0;34m)\u001b[0m\u001b[0;34m\u001b[0m\u001b[0;34m\u001b[0m\u001b[0m\n\u001b[0m\u001b[1;32m      5\u001b[0m \u001b[0;34m\u001b[0m\u001b[0m\n\u001b[1;32m      6\u001b[0m \u001b[0max\u001b[0m\u001b[0;34m[\u001b[0m\u001b[0;36m1\u001b[0m\u001b[0;34m]\u001b[0m\u001b[0;34m.\u001b[0m\u001b[0mscatter\u001b[0m\u001b[0;34m(\u001b[0m\u001b[0mHK_phup\u001b[0m\u001b[0;34m.\u001b[0m\u001b[0mxplott\u001b[0m\u001b[0;34m,\u001b[0m\u001b[0mHK_phup\u001b[0m\u001b[0;34m.\u001b[0m\u001b[0myplott\u001b[0m\u001b[0;34m,\u001b[0m\u001b[0ms\u001b[0m\u001b[0;34m=\u001b[0m \u001b[0msimsize\u001b[0m\u001b[0;34m,\u001b[0m\u001b[0mcolor\u001b[0m \u001b[0;34m=\u001b[0m \u001b[0msplitcolors\u001b[0m\u001b[0;34m[\u001b[0m\u001b[0;36m4\u001b[0m\u001b[0;34m]\u001b[0m\u001b[0;34m)\u001b[0m\u001b[0;34m\u001b[0m\u001b[0;34m\u001b[0m\u001b[0m\n",
      "\u001b[0;31mNameError\u001b[0m: name 'splitcolors' is not defined"
     ]
    }
   ],
   "source": [
    "plt.close()\n",
    "fig, ax = plt.subplots(2,figsize = [6,6])\n",
    "\n",
    "ax[0].scatter(JH_phup.xplott,JH_phup.yplott,s= simsize,color = splitcolors[4])\n",
    "\n",
    "ax[1].scatter(HK_phup.xplott,HK_phup.yplott,s= simsize,color = splitcolors[4])\n",
    "for i in range(-1,2):\n",
    "    for j in range(0,4):\n",
    "        ax[0].scatter(np.array(JH_splitx[j])+i,JH_split[j],s= simsize,color =splitcolors[j],marker=marks[0])\n",
    "        ax[1].scatter(np.array(HK_splitx[j])+i,HK_split[j],s= simsize,color =splitcolors[j],marker=marks[0])\n",
    "    ax[0].scatter(np.array(JH_phup.xplot[:Jcut])+i,JH_phup.yplot[:Jcut],s= simsize+5,facecolor = \"none\",edgecolor='black')\n",
    "    ax[1].scatter(np.array(HK_phup.xplot[:Jcut])+i,HK_phup.yplot[:Jcut],s= simsize+5,facecolor = \"none\",edgecolor='black')\n",
    "    ax[0].scatter(np.array(JH_phup.xplot[Jcut2:])+i,JH_phup.yplot[Jcut2:],s= simsize+10,marker=\"s\",facecolors= \"none\",edgecolor='black')\n",
    "    ax[1].scatter(np.array(HK_phup.xplot[Jcut2:])+i,HK_phup.yplot[Jcut2:],s= simsize+10,marker=\"s\",facecolors= \"none\",edgecolor='black')\n",
    "    \n",
    "#ax.tick_params('x')\n",
    "for eachax in ax.flat:\n",
    "    eachax.label_outer()\n",
    "    eachax.grid(color='gray',ls='-',lw=0.2,alpha=0.5)\n",
    "    eachax.set_xlim(-0.5,1.5)\n",
    "    #eachax.plot([0.1,0.1],[1.5,3])\n",
    "    #eachax.plot([0.3,0.3],[1.5,3])\n",
    "    #eachax.plot([0.5,0.5],[1.5,3])\n",
    "    #eachax.plot([0.7,0.7],[1.5,3])\n",
    "    #eachax.plot([0.9,0.9],[1.5,3])\n",
    "    #eachax.set_ylim(1.8,2.6)\n",
    "    #eachax.set_xlabel(r\"Phase\")\n",
    "    #ax.legend()\n",
    "    #eachax.invert_yaxis()\n",
    "    #plt.savefig(output_dir+'PhaseD_'+wl+'1Poffset.pdf')\n",
    "ax[1].set_ylabel(\"H-K [mag]\")\n",
    "ax[0].set_ylabel(\"J-H [mag]\")\n",
    "ax[1].set_xlabel(\"Phase\")\n",
    "plt.subplots_adjust(hspace=0)\n",
    "if save:\n",
    "    plt.savefig(output_dir+'PhaseD_CC_1Poffset.pdf')\n"
   ]
  },
  {
   "cell_type": "code",
   "execution_count": null,
   "metadata": {},
   "outputs": [],
   "source": [
    "len(JH_burst),len(J_burst)"
   ]
  },
  {
   "cell_type": "markdown",
   "metadata": {},
   "source": [
    "plt.close()\n",
    "fig, ax = plt.subplots(2, figsize= [6,10])\n",
    "ax[0].scatter(JH_phup.yplot,J_phup.yplot,color = 'grey')\n",
    "ax[0].set_xlabel(\"J-H [mag]\")\n",
    "ax[0].set_ylabel(\"J [mag]\")\n",
    "ax[0].scatter(JH_burst, J_burst, color= 'red',label=burstlabel)\n",
    "ax[0].annotate('',xy=[2.1+0.11*3,15.3+0.265*3],xytext=[2.1,15.3],xycoords='data',arrowprops={'color':'black','arrowstyle':'->'})\n",
    "ax[0].annotate('',xy=[2.1,14.5],xytext=[2.1+0.11*3,14.5+0.265*3],xycoords='data',arrowprops={'color':'black','arrowstyle':'->'})\n",
    "\n",
    "ax[1].scatter(HK_phup.yplot,H_phup.yplot,color = 'grey')\n",
    "ax[1].set_xlabel(\"H-K [mag]\")\n",
    "ax[1].set_ylabel(\"H [mag]\")\n",
    "ax[1].scatter(HK_burst, H_burst, color= 'red')\n",
    "ax[1].annotate('',xy=[1.85+0.065*3,13.25+0.155*3],xytext=[1.85,13.25],xycoords='data',arrowprops={'color':'black','arrowstyle':'->'})\n",
    "ax[1].annotate('',xy=[1.85,12.25],xytext=[1.85+0.065*3,12.25+0.155*3],xycoords='data',arrowprops={'color':'black','arrowstyle':'->'})\n",
    "\n",
    "ax[0].scatter(JH_phup.yplot[:55], J_phup.yplot[:55],\n",
    "              s=50,facecolor = \"none\",edgecolor=\"black\",linewidths=1.3)\n",
    "ax[0].legend()\n",
    "ax[1].scatter(HK_phup.yplot[:55], H_phup.yplot[:55],\n",
    "              s=50,facecolor = \"none\",edgecolor=\"black\",linewidths=1.3)\n",
    "\n",
    "for eachax in ax:\n",
    "    eachax.invert_yaxis()\n",
    "if save:\n",
    "    plt.savefig(output_dir+\"CMDs_JHK.pdf\")"
   ]
  },
  {
   "cell_type": "code",
   "execution_count": null,
   "metadata": {},
   "outputs": [],
   "source": [
    "print(len(JH_split[1]))\n",
    "print(len(J_split[1]))"
   ]
  },
  {
   "cell_type": "code",
   "execution_count": 97,
   "metadata": {},
   "outputs": [],
   "source": [
    "save=1\n",
    "import matplotlib.patches as patches\n",
    "from matplotlib.markers import MarkerStyle"
   ]
  },
  {
   "cell_type": "code",
   "execution_count": 99,
   "metadata": {
    "scrolled": true
   },
   "outputs": [],
   "source": [
    "plt.close()\n",
    "\n",
    "splitlabels = []\n",
    "\n",
    "for i in range(1,len(spliter)):\n",
    "    splitlabels.append(\"{0:0.1f}\".format(spliter[i-1]) + \" < Phase < \" + '{0:0.1f}'.format(spliter[i]))\n",
    "fig, ax = plt.subplots(2, figsize= [6,10])\n",
    "ax[0].scatter(JH_phup.yplot,J_phup.yplot,color = splitcolors[-1],\n",
    "             label=\"{0:0.1f}\".format(-0.1) + \" < Phase < \" + '{0:0.1f}'.format(0.1))\n",
    "ax[0].set_xlabel(\"J-H [mag]\")\n",
    "ax[0].set_ylabel(\"J [mag]\")\n",
    "ax[1].scatter(HK_phup.yplot,H_phup.yplot,color = splitcolors[-1],)\n",
    "for i in range(0,len(spliter)-1):\n",
    "    ax[0].scatter(JH_split[i], J_split[i], color= splitcolors[i],label=splitlabels[i])\n",
    "    ax[1].scatter(HK_split[i], H_split[i], color= splitcolors[i],label=splitlabels[i])\n",
    "\n",
    "# A_v (cohen81) : J 0.265, H 0.155, K 0.090\n",
    "# A_v (Rieke & Lebofsky) : J 0.282, H 0.175, K 0.112\n",
    "# A_v (CCM89) : J 0.282, H 0.190, K 0.114\n",
    "aJ,aH,aK = 0.282, 0.190, 0.114\n",
    "\n",
    "ax[0].annotate('',xy=[2.12+(aJ-aH)*3,15.3+aJ*3],xytext=[2.12,15.3],xycoords='data',arrowprops={'color':'black','arrowstyle':'->'})\n",
    "ax[0].annotate(r'A$_{v}$ = 3',xy=[2.12+(aJ-aH)*2.4,15.3+aJ*2.8],xycoords='data',rotation=-30)\n",
    "ax[0].annotate('',xy=[2.16,14.5],xytext=[2.16+(aJ-aH)*3,14.5+aJ*3],xycoords='data',arrowprops={'color':'black','arrowstyle':'->'})\n",
    "ax[0].annotate(r'A$_{v}$ = -3',xy=[2.16+(aJ-aH)*2.4,14.5+aJ*2.8],xycoords='data',rotation=-30)\n",
    "#ax[0].annotate(u\"\\u21BA\",xy=[2.3,15.25],xycoords='data',rotation = -120,size=10)\n",
    "\n",
    "#style=\"Simple,tail_width=0.5,head_width=4,head_length=8\"\n",
    "#kw = dict(arrowstyle=style, color=\"k\")\n",
    "#a3 = patches.FancyArrowPatch((2.4,15.50), (2.4,15.55),connectionstyle=\"arc3,rad=5\", **kw)\n",
    "#ax[0].add_patch(a3)\n",
    "m = MarkerStyle(r\"$\\circlearrowleft$\")\n",
    "#m = MarkerStyle(u\"\\u21BA\")\n",
    "m._transform.rotate_deg(250)\n",
    "\n",
    "#ax[0].scatter([2.3],[15.4],marker=m,color ='grey',s=1000)\n",
    "#ax[1].scatter([1.93],[12.95],marker=m,color='grey',s=1000)\n",
    "ax[1].set_xlabel(\"H-K [mag]\")\n",
    "ax[1].set_ylabel(\"H [mag]\")\n",
    "ax[1].annotate('',xy=[1.8+(aH-aK)*3,13.25+aH*3],xytext=[1.8,13.25],xycoords='data',arrowprops={'color':'black','arrowstyle':'->'})\n",
    "ax[1].annotate(r'A$_{v}$ = 3',xy=[1.8+(aH-aK)*2.0,13.25+aH*2.45],xycoords='data',rotation=-25)\n",
    "ax[1].annotate('',xy=[1.84,12.25],xytext=[1.84+(aH-aK)*3,12.25+aH*3],xycoords='data',arrowprops={'color':'black','arrowstyle':'->'})\n",
    "ax[1].annotate(r'A$_{v}$ = -3',xy=[1.84+(aH-aK)*2.6,12.25+aH*3.1],xycoords='data', rotation=-25)\n",
    "\n",
    "ax[0].scatter(JH_phup.yplot[:Jcut], J_phup.yplot[:Jcut],\n",
    "              s=50,facecolor = \"none\",edgecolor=\"black\",linewidths=1.3)\n",
    "ax[1].scatter(HK_phup.yplot[:Jcut], H_phup.yplot[:Jcut],\n",
    "              s=50,facecolor = \"none\",edgecolor=\"black\",linewidths=1.3)\n",
    "\n",
    "ax[0].scatter(JH_phup.yplot[Jcut2:], J_phup.yplot[Jcut2:],\n",
    "              s= simsize+18,marker=\"s\",facecolors= \"none\",edgecolor='black')\n",
    "ax[1].scatter(HK_phup.yplot[Jcut2:], H_phup.yplot[Jcut2:],\n",
    "              s= simsize+18,marker=\"s\",facecolors= \"none\",edgecolor='black')\n",
    "\n",
    "for eachax in ax:\n",
    "    eachax.invert_yaxis()\n",
    "if save:\n",
    "    plt.savefig(output_dir+\"CMDs_JHK_phasesplit_pure.eps\")"
   ]
  },
  {
   "cell_type": "code",
   "execution_count": null,
   "metadata": {},
   "outputs": [],
   "source": [
    "print([len(JH_split[i]),len(J_split[i])])"
   ]
  },
  {
   "cell_type": "code",
   "execution_count": 192,
   "metadata": {},
   "outputs": [
    {
     "data": {
      "text/plain": [
       "156"
      ]
     },
     "execution_count": 192,
     "metadata": {},
     "output_type": "execute_result"
    }
   ],
   "source": [
    "Jcut2"
   ]
  },
  {
   "cell_type": "code",
   "execution_count": 85,
   "metadata": {},
   "outputs": [
    {
     "data": {
      "text/plain": [
       "(0.076, 0.09199999999999997)"
      ]
     },
     "execution_count": 85,
     "metadata": {},
     "output_type": "execute_result"
    }
   ],
   "source": [
    "aH-aK, aJ-aH"
   ]
  },
  {
   "cell_type": "code",
   "execution_count": 141,
   "metadata": {},
   "outputs": [],
   "source": [
    "plt.close()\n",
    "\n",
    "fig, ax = plt.subplots(figsize= [6,5])\n",
    "ax.scatter(HK_phup.yplot,JH_phup.yplot,color = splitcolors[-1],\n",
    "             label=\"{0:0.1f}\".format(-0.1) + \" < Phase < \" + '{0:0.1f}'.format(0.1))\n",
    "ax.set_xlabel(\"H-K [mag]\")\n",
    "ax.set_ylabel(\"J-H [mag]\")\n",
    "for i in range(0,len(spliter)-1):\n",
    "    ax.scatter(HK_split[i], JH_split[i], color= splitcolors[i],label=splitlabels[i])\n",
    "ax.plot(HK_phup.yplot,np.array(HK_phup.yplot)*0.58+1.12,ls='--', color= 'gray')\n",
    "ax.annotate('',xy=[1.8+(aH-aK),2.3+(aJ-aH)],xytext=[1.8,2.3],xycoords='data',arrowprops={'color':'gray','arrowstyle':'->'})\n",
    "ax.annotate(r'A$_{v}$ = 1',xy=[1.8,2.3+0.05],xycoords='data',color='grey',rotation=35)\n",
    "#ax.legend()\n",
    "ax.scatter(HK_phup.yplot[:55], JH_phup.yplot[:55],\n",
    "              s=50,facecolor = \"none\",edgecolor=\"black\",linewidths=1.3)\n",
    "if save:\n",
    "    plt.savefig(output_dir+\"TCD_phasesplit.pdf\")"
   ]
  },
  {
   "cell_type": "code",
   "execution_count": null,
   "metadata": {},
   "outputs": [],
   "source": [
    "plt.close()\n",
    "fig, ax = plt.subplots(1,figsize=[6,5])\n",
    "\n",
    "ax.scatter(HK_phup.yplot,JH_phup.yplot, color='grey')\n",
    "ax.scatter(HK_burst, JH_burst,color ='red',label =burstlabel)\n",
    "ax.scatter(HK_phup.yplot[:55], JH_phup.yplot[:55], s=50,facecolor = \"none\",edgecolors=\"black\")\n",
    "ax.annotate('',xy=[1.9+0.065,2.35+0.11],xytext=[1.9,2.35],xycoords='data',arrowprops={'color':'black','arrowstyle':'->'})\n",
    "ax.plot(HK_phup.yplot,np.array(HK_phup.yplot)*0.58+1.12,ls=':', color= 'gray')\n",
    "ax.set_ylabel('J-H [mag]')\n",
    "ax.legend(loc='upper left')\n",
    "#plt.subplots_adjust(hspace=0)\n",
    "if save:\n",
    "    plt.savefig(output_dir+'TCD_1Poffset_burstmark.pdf')\n"
   ]
  },
  {
   "cell_type": "code",
   "execution_count": null,
   "metadata": {},
   "outputs": [],
   "source": [
    "a= np.array([0,1,2,3,4,5,6])\n",
    "np.select([a>3,a>5],[a,a])\n"
   ]
  },
  {
   "cell_type": "code",
   "execution_count": null,
   "metadata": {},
   "outputs": [],
   "source": [
    "plt.close()\n",
    "fig, ax = plt.subplots(2,figsize=[6,9])\n",
    "\n",
    "ax[0].scatter(HK_phup.yplot,JH_phup.yplot, color='black')\n",
    "ax[0].plot(HK_phup.yplot,np.array(HK_phup.yplot)*0.58+1.12,ls=':', color= 'gray')\n",
    "ax[0].scatter(HK_burst, JH_burst, color='red',edgecolor = \"black\",label='0.4 < Phase < 0.7')\n",
    "ax[0].annotate('',xy=[1.9+0.065,2.5+0.11],xytext=[1.9,2.5],xycoords='data',arrowprops={'color':'gray','arrowstyle':'->'})\n",
    "ax[1].scatter(HK_phup.yplot,H_phup.yplot, color= 'black')\n",
    "ax[1].scatter(HK_burst, H_burst, color='red',edgecolor = \"black\",label='0.4 < Phase < 0.7')\n",
    "ax[1].annotate('',xy=[1.85,12.25],xytext=[1.85+0.065*3,12.25+0.155*3],xycoords='data',arrowprops={'color':'gray','arrowstyle':'->'})\n",
    "ax[1].annotate('',xy=[1.85+0.065*3,13.25+0.155*3],xytext=[1.85,13.25],xycoords='data',arrowprops={'color':'gray','arrowstyle':'->'})\n",
    "ax[1].invert_yaxis()\n",
    "ax[1].set_xlabel('H-K [mag]')\n",
    "ax[1].set_ylabel('H [mag]')\n",
    "ax[0].set_ylabel('J-H [mag]')\n",
    "plt.subplots_adjust(hspace=0)\n",
    "ax[0].legend()\n",
    "if save:\n",
    "    plt.savefig(output_dir+'TCD_burstmark.pdf')"
   ]
  },
  {
   "cell_type": "code",
   "execution_count": null,
   "metadata": {},
   "outputs": [],
   "source": [
    "#plt.close()\n",
    "fig, ax = plt.subplots(2,figsize=[6,9])\n",
    "J_burst = J_phup.Phasepickup([0.4,0.6])\n",
    "ax[0].scatter(JH_phup.yplot, J_phup.yplot, color= 'black')\n",
    "ax[0].scatter(JH_phup.yplot[:55], J_phup.yplot[:55], color= 'red',label='1st Period')\n",
    "ax[0].invert_yaxis()\n",
    "ax[0].set_ylabel('J [mag]')\n",
    "ax[0].annotate('',xy=[2.15,14.6],xytext=[2.15+0.11*2,14.6+0.265*2],xycoords='data',arrowprops={'color':'gray','arrowstyle':'->'})\n",
    "ax[0].annotate('',xy=[2.15+0.11*2,15.5+0.265*2],xytext=[2.15,15.5],xycoords='data',arrowprops={'color':'gray','arrowstyle':'->'})\n",
    "ax[1].scatter(JH_phup.yplot, J_phup.yplot, color = 'black')\n",
    "ax[1].scatter(JH_burst,J_burst,color= 'black', edgecolor='red', label='0.4 < Phase < 0.6')\n",
    "ax[1].invert_yaxis()\n",
    "ax[1].annotate('',xy=[2.15,14.6],xytext=[2.15+0.11*2,14.6+0.265*2],xycoords='data',arrowprops={'color':'gray','arrowstyle':'->'})\n",
    "ax[1].annotate('',xy=[2.15+0.11*2,15.5+0.265*2],xytext=[2.15,15.5],xycoords='data',arrowprops={'color':'gray','arrowstyle':'->'})\n",
    "ax[1].set_ylabel('J [mag]')\n",
    "ax[1].set_xlabel('J-H [mag]')\n",
    "plt.subplots_adjust(hspace=0)\n",
    "ax[0].legend(loc='upper right')\n",
    "ax[1].legend(loc='upper right')"
   ]
  },
  {
   "cell_type": "code",
   "execution_count": null,
   "metadata": {},
   "outputs": [],
   "source": [
    "plt.close()\n"
   ]
  },
  {
   "cell_type": "code",
   "execution_count": 9,
   "metadata": {},
   "outputs": [
    {
     "data": {
      "text/plain": [
       "214.83452149811873"
      ]
     },
     "execution_count": 9,
     "metadata": {},
     "output_type": "execute_result"
    }
   ],
   "source": [
    "149597870700/696340000"
   ]
  },
  {
   "cell_type": "code",
   "execution_count": null,
   "metadata": {},
   "outputs": [],
   "source": []
  }
 ],
 "metadata": {
  "kernelspec": {
   "display_name": "Python 3",
   "language": "python",
   "name": "python3"
  },
  "language_info": {
   "codemirror_mode": {
    "name": "ipython",
    "version": 3
   },
   "file_extension": ".py",
   "mimetype": "text/x-python",
   "name": "python",
   "nbconvert_exporter": "python",
   "pygments_lexer": "ipython3",
   "version": "3.7.1"
  }
 },
 "nbformat": 4,
 "nbformat_minor": 2
}
