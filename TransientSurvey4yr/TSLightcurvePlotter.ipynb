{
 "cells": [
  {
   "cell_type": "code",
   "execution_count": 35,
   "metadata": {},
   "outputs": [
    {
     "data": {
      "text/plain": [
       "<module 'Table_Reader' from '/media/lyhee/Secdrive/TSmain/Pip_test/trigger_codes_github/Table_Reader.py'>"
      ]
     },
     "execution_count": 35,
     "metadata": {},
     "output_type": "execute_result"
    }
   ],
   "source": [
    "import Table_Reader as TR\n",
    "import LCCall as LCC\n",
    "import LCAnalyses as LCA\n",
    "import LCPlot as LCP\n",
    "import importlib\n",
    "import matplotlib.pyplot as plt\n",
    "from astropy.timeseries import LombScargle as LS\n",
    "import scipy.special as fc\n",
    "from astropy.coordinates import Angle\n",
    "from astropy import units as u\n",
    "import numpy as np\n",
    "importlib.reload(LCC)\n",
    "importlib.reload(LCA)\n",
    "importlib.reload(LCP)\n",
    "importlib.reload(TR)"
   ]
  },
  {
   "cell_type": "code",
   "execution_count": 36,
   "metadata": {},
   "outputs": [],
   "source": [
    "%matplotlib tk\n",
    "input_dir = \"/mnt/Secdrive/TSmain/TSmain/\"\n",
    "rgs = ['IC348','NGC1333','NGC2024','NGC2068','OMC23','OPHCORE','SERPM','SERPS']\n",
    "rra  =[56.075, 52.225, 85.42083, 86.55417, 83.87917, 246.77083, 277.45417, 277.50833]\n",
    "rdec =[32.08306, 31.28111, -1.8975, -0.10139, -5.01056, -24.54361, 1.25556, -2.04667]\n",
    "table = TR.All_Table(input_dir+'All_Bright_deg.tab')\n",
    "Ps = np.where(np.array(table.Type) == \"P\")\n",
    "Ds = np.where(np.array(table.Type) == \"D\")\n",
    "#indices = np.where(np.sqrt(np.array(data.RAs)**2+np.array(data.DECs)**2)/60 < 18)\n",
    "output_dir = input_dir+\"IndivLCs/\"\n",
    "output_dir = input_dir+\"LCsforPaper/\"\n",
    "output_dir = input_dir+\"PaperFigs/\"\n",
    "#output_dir = input_dir+\"LCs_test/New/\"\n",
    "\n",
    "varind = []\n",
    "temp = []\n",
    "for i in range(0,len(table.FAP_Lin)):\n",
    "    if table.F_mean[i] > 0.14:\n",
    "        temp.append(i)\n",
    "        #if table.FAP_Lin[i] < 1e-3 or table.modFAP_Sin[i] < 1e-3:\n",
    "        if table.modFAP_Sin[i] < 1e-3:\n",
    "            varind.append(i)\n",
    "#STCHs = np.array([ 86, 101, 106, 123, 137, 250])\n",
    "STCH_epochs = np.array([ 30, 5, 10, 20, 3, 34 ])\n",
    "STCH_vars = np.array([[3,12,30],[3,30,5],[4,1,10],[4,18,20],[4,40,3],[7,1,34]])\n"
   ]
  },
  {
   "cell_type": "code",
   "execution_count": 37,
   "metadata": {},
   "outputs": [],
   "source": [
    "var = []\n",
    "for k in varind:\n",
    "    i=np.where([np.array(table.Region)[k] == x for x in rgs])[0][0]\n",
    "    var.append([k,i,table.Indice[k]])"
   ]
  },
  {
   "cell_type": "code",
   "execution_count": 38,
   "metadata": {},
   "outputs": [
    {
     "data": {
      "text/plain": [
       "[[0, 0, 0],\n",
       " [1, 0, 1],\n",
       " [9, 1, 0],\n",
       " [11, 1, 2],\n",
       " [17, 1, 8],\n",
       " [77, 3, 1],\n",
       " [80, 3, 4],\n",
       " [86, 3, 12],\n",
       " [88, 3, 14],\n",
       " [102, 3, 32],\n",
       " [148, 4, 52],\n",
       " [200, 5, 1],\n",
       " [232, 6, 0],\n",
       " [233, 6, 1],\n",
       " [234, 6, 2],\n",
       " [235, 6, 3],\n",
       " [248, 7, 0],\n",
       " [278, 7, 46]]"
      ]
     },
     "execution_count": 38,
     "metadata": {},
     "output_type": "execute_result"
    }
   ],
   "source": [
    "var"
   ]
  },
  {
   "cell_type": "code",
   "execution_count": 197,
   "metadata": {},
   "outputs": [
    {
     "name": "stdout",
     "output_type": "stream",
     "text": [
      "[82, 19]\n",
      "295\n"
     ]
    }
   ],
   "source": [
    "print([len(temp),len(varind)])\n",
    "#Ps = np.where(np.array(table.Type) == \"P\")\n",
    "print(len(table.F_mean))\n",
    "#STCHs\n"
   ]
  },
  {
   "cell_type": "code",
   "execution_count": 51,
   "metadata": {},
   "outputs": [
    {
     "name": "stdout",
     "output_type": "stream",
     "text": [
      "2458880.5\n",
      "2458872.846\n",
      "17\n",
      "20\n",
      "28\n"
     ]
    }
   ],
   "source": [
    "#data.FindIndex(ID=\"JCMTPP_J162821.6-243624\") #(48)\n",
    "#data.FindIndex(ID=\"JCMTPP_J162727.0-244052\") #(29)\n",
    "data = TR.ReadTable(input_dir+'Data/Recal/'+rgs[1]+'_source_data.dat',raw=1,datecut=2458880.5,recal=1)\n",
    "#print(data.FindIndex(ID=\"JCMTPP_J032907.1+311722\"))\n",
    "\n",
    "#print(data.FindIndex(ID=\"JCMTPP_J032903.4+311558\")) #SVS13 (2)\n",
    "#print(data.FindIndex(ID=\"JCMTPP_J032855.6+311434\")) #IRAS2A (3)\n",
    "#print(data.FindIndex(ID=\"JCMTPP_J032910.4+311331\")) #IRAS4A (0)\n",
    "#print(data.FindIndex(ID=\"JCMTPP_J032912.0+311307\")) #IRAS4B (1)\n",
    "#print(data.FindIndex(ID=\"JCMTPP_J182949.8+011520\")) #SMM1\n",
    "#print(data.FindIndex(ID=\"JCMTPP_J182956.6+011311\")) #SMM4\n",
    "print(data.FindIndex(ID=\"JCMTPP_J032911.1+311828\")) #NGC1333 _new sec 1, [1,17]\n",
    "print(data.FindIndex(ID=\"JCMTPP_J032907.1+311722\")) #NGC1333 _new STCH 1, [1,20]\n",
    "print(data.FindIndex(ID=\"JCMTPP_J032915.5+312031\")) #NGC1333 _new STCH 2, [1,28]\n",
    "\n",
    "#print(data.FindIndex(ID=\"JCMTPP_J053523.4-051202\")) #OMC23 _new sec 2 [4,6]\n",
    "#print(data.FindIndex(ID=\"JCMTPP_J053506.5-045441\")) #OMC23 _new sec 3 [4,56]\n"
   ]
  },
  {
   "cell_type": "code",
   "execution_count": 10,
   "metadata": {},
   "outputs": [
    {
     "name": "stdout",
     "output_type": "stream",
     "text": [
      "2016-02-05\n",
      "2017-12-08\n",
      "2018-07-07\n",
      "2016-02-05T\n",
      "2017-12-08T\n",
      "2018-07-07T\n",
      "2458880.5\n",
      "2458872.8455555993\n"
     ]
    }
   ],
   "source": [
    "i = 6 # \n",
    "j = 2# EC53(2)\n",
    "sname = \"OphIRS43\" #\n",
    "sname = \"IRAS16253-2429\" #\n",
    "sname = \"GSS30IRS3\" #\n",
    "sname = \"SMM1\"\n",
    "sname = 'SERPS_MM19'\n",
    "sname = \"HOPS358\"\n",
    "sname = 'G205.46-14.56S2'\n",
    "sname = \"HOPS373\"\n",
    "#data = TR.ReadTable(input_dir+'Data/New/'+rgs[i]+'_source_data.dat')\n",
    "data = TR.ReadTable(input_dir+'Data/Recal/'+rgs[1]+'_source_data.dat',raw=0,datecut=2458880.5)\n",
    "data = TR.ReadTable(input_dir+'Data/'+rgs[1]+'_source_data.dat',raw=0,datecut=2458880.5)\n",
    "xlimits = [np.min(data.JDs)-100,np.max(data.JDs)+100]"
   ]
  },
  {
   "cell_type": "code",
   "execution_count": 74,
   "metadata": {},
   "outputs": [
    {
     "name": "stdout",
     "output_type": "stream",
     "text": [
      "2458880.5\n",
      "2458872.8455555993\n",
      "295\n"
     ]
    }
   ],
   "source": [
    "k = 0\n",
    "var = []\n",
    "for i in range(0,8):\n",
    "    data = TR.ReadTable(input_dir+'Data/'+rgs[i]+'_source_data.dat',raw=0,datecut=2458880.5,recal=0)\n",
    "    #print(np.sum([x > 0.14 for x in data.mean_pfluxes]))\n",
    "    for j in range(0,len(data.IDs)):\n",
    "        Dist = np.sqrt((rra[i]-data.RAs[j])**2+(rdec[i]-data.DECs[j])**2)*60*60\n",
    "        if data.mean_pfluxes[j] < 0.14 or Dist > 1080:\n",
    "            \n",
    "            continue\n",
    "        else:\n",
    "            #if np.sum([k==x for x in STCHs]):   \n",
    "            #    var.append([k,i,j])\n",
    "            if np.sum([k==x for x in varind]):\n",
    "                var.append([k,i,j])\n",
    "            #print(k)\n",
    "            k +=1\n",
    "            #if i == STCH_vars[2][0] and j == STCH_vars[2][1]:\n",
    "            #    print(data.IDs[j])\n",
    "            \n",
    "\n",
    "\n",
    "print(k)"
   ]
  },
  {
   "cell_type": "code",
   "execution_count": 72,
   "metadata": {},
   "outputs": [
    {
     "data": {
      "text/plain": [
       "[[0, 0, 0],\n",
       " [1, 0, 1],\n",
       " [9, 1, 0],\n",
       " [11, 1, 2],\n",
       " [17, 1, 8],\n",
       " [77, 3, 1],\n",
       " [80, 3, 4],\n",
       " [86, 3, 12],\n",
       " [88, 3, 14],\n",
       " [102, 3, 32],\n",
       " [148, 4, 51],\n",
       " [200, 5, 0],\n",
       " [232, 5, 49],\n",
       " [233, 6, 0],\n",
       " [234, 6, 1],\n",
       " [235, 6, 2],\n",
       " [248, 6, 23],\n",
       " [278, 7, 43]]"
      ]
     },
     "execution_count": 72,
     "metadata": {},
     "output_type": "execute_result"
    }
   ],
   "source": [
    "var"
   ]
  },
  {
   "cell_type": "code",
   "execution_count": 60,
   "metadata": {},
   "outputs": [
    {
     "name": "stdout",
     "output_type": "stream",
     "text": [
      "2016-02-05T\n",
      "2017-12-08T\n",
      "2018-07-07T\n",
      "2458880.5\n",
      "2458872.8455555993\n"
     ]
    }
   ],
   "source": [
    "data = TR.ReadTable(input_dir+'Data/'+rgs[1]+'_source_data.dat',raw=0,datecut=2458880.5,recal=1)\n"
   ]
  },
  {
   "cell_type": "code",
   "execution_count": 61,
   "metadata": {},
   "outputs": [],
   "source": [
    "ls_source = LCA.LCLombscargle(data.JDs,data.pfluxes[j],data.sd_fids[j])\n",
    "modelpar = ls_source.modelpara()\n",
    "sinfit = ls_source.mulsin(data.JDs, modelpar)\n",
    "indices = [int(x) for x in data.Indices]\n",
    "fid_err = np.sqrt(0.014**2+(0.02*data.mean_pfluxes[j])**2)\n",
    "xlimits = [np.min(data.JDs)-100,np.max(data.JDs)+100]\n",
    "xplot = np.linspace(xlimits[0],xlimits[1],1000)\n",
    "xtest = np.linspace(-2000,2000,1000)\n",
    "phasetest = np.linspace(0, 2, 100)\n",
    "\n",
    "sinfit_plot = ls_source.mulsin(xplot, modelpar)\n",
    "sinfit_test = ls_source.mulsin(xtest, modelpar)\n",
    "\n",
    "#if data.JDs[0] > 2400000:\n",
    "#    data.JDs = np.array(data.JDs) - 2455266\n",
    "xlimits = [np.min(data.JDs)-100,np.max(data.JDs)+100]\n"
   ]
  },
  {
   "cell_type": "code",
   "execution_count": 87,
   "metadata": {},
   "outputs": [
    {
     "data": {
      "text/plain": [
       "[<matplotlib.lines.Line2D at 0x7f3ebc5bf590>]"
      ]
     },
     "execution_count": 87,
     "metadata": {},
     "output_type": "execute_result"
    }
   ],
   "source": [
    "plt.close()\n",
    "plt.plot()"
   ]
  },
  {
   "cell_type": "code",
   "execution_count": 81,
   "metadata": {},
   "outputs": [],
   "source": [
    "x = np.linspace(0,1,1000)\n",
    "FAP_A = ls_source.ls_pf.false_alarm_probability(x,method='single')\n",
    "FAP_baluev = ls_source.ls_pf.false_alarm_probability(x)\n",
    "FAP_boot = ls_source.ls_pf.false_alarm_probability(x,method='bootstrap',method_kwds={'n_bootstraps':10000})\n"
   ]
  },
  {
   "cell_type": "code",
   "execution_count": 90,
   "metadata": {},
   "outputs": [
    {
     "data": {
      "text/plain": [
       "<matplotlib.legend.Legend at 0x7f3ebc496a90>"
      ]
     },
     "execution_count": 90,
     "metadata": {},
     "output_type": "execute_result"
    }
   ],
   "source": [
    "plt.figure()\n",
    "plt.plot(x,FAP_A, label='single')\n",
    "plt.plot(x,FAP_baluev, label='Baluev')\n",
    "plt.plot(x,FAP_boot, label='Bootstrap')\n",
    "plt.yscale('log')\n",
    "plt.legend(loc='best')"
   ]
  },
  {
   "cell_type": "code",
   "execution_count": 30,
   "metadata": {},
   "outputs": [
    {
     "data": {
      "text/plain": [
       "<matplotlib.collections.PathCollection at 0x7f3ebd5f4f10>"
      ]
     },
     "execution_count": 30,
     "metadata": {},
     "output_type": "execute_result"
    }
   ],
   "source": [
    "plt.scatter(data.JDs, data.pfluxes[j])"
   ]
  },
  {
   "cell_type": "code",
   "execution_count": 24,
   "metadata": {},
   "outputs": [
    {
     "name": "stdout",
     "output_type": "stream",
     "text": [
      "0.0007461546167490044\n",
      "0.3452903310910876\n",
      "0.3452903310298752\n",
      "0.0007461546179349592\n"
     ]
    }
   ],
   "source": [
    "print(ls_source.FAP_single)\n",
    "print(np.max(power))\n",
    "\n",
    "chi_sin =np.sum((sinfit-np.array(data.pfluxes[j]))**2)/data.sd_fids[j]**2\n",
    "chi_null =np.sum((np.array(data.pfluxes[j])-np.mean(data.pfluxes[j]))**2)/data.sd_fids[j]**2\n",
    "stat_power = (chi_null-chi_sin)/chi_null\n",
    "print(stat_power)\n",
    "FAP_A = (1-stat_power)**((len(data.pfluxes[j])-3)/2)\n",
    "print(FAP_A)"
   ]
  },
  {
   "cell_type": "code",
   "execution_count": null,
   "metadata": {},
   "outputs": [],
   "source": []
  },
  {
   "cell_type": "code",
   "execution_count": 89,
   "metadata": {},
   "outputs": [
    {
     "name": "stdout",
     "output_type": "stream",
     "text": [
      "6.692812893850642e-05\n"
     ]
    },
    {
     "data": {
      "text/plain": [
       "[<matplotlib.lines.Line2D at 0x7f3ebc441310>]"
      ]
     },
     "execution_count": 89,
     "metadata": {},
     "output_type": "execute_result"
    }
   ],
   "source": [
    "print(ls_source.detected_freq)\n",
    "freq, power = ls_source.Periodogram()\n",
    "plt.plot(freq, power)"
   ]
  },
  {
   "cell_type": "code",
   "execution_count": null,
   "metadata": {},
   "outputs": [],
   "source": [
    "ls_source."
   ]
  },
  {
   "cell_type": "code",
   "execution_count": 50,
   "metadata": {},
   "outputs": [
    {
     "data": {
      "text/plain": [
       "0.3854164519585496"
      ]
     },
     "execution_count": 50,
     "metadata": {},
     "output_type": "execute_result"
    }
   ],
   "source": [
    "modelpar[3]/np.pi"
   ]
  },
  {
   "cell_type": "code",
   "execution_count": 12,
   "metadata": {},
   "outputs": [
    {
     "data": {
      "text/plain": [
       "'/mnt/Secdrive/TSmain/TSmain/LCsforPaper/'"
      ]
     },
     "execution_count": 12,
     "metadata": {},
     "output_type": "execute_result"
    }
   ],
   "source": [
    "output_dir"
   ]
  },
  {
   "cell_type": "code",
   "execution_count": 40,
   "metadata": {},
   "outputs": [
    {
     "data": {
      "text/plain": [
       "Text(0, 0.5, 'Peak flux [Jy/beam]')"
      ]
     },
     "execution_count": 40,
     "metadata": {},
     "output_type": "execute_result"
    }
   ],
   "source": [
    "plt.close()\n",
    "fig, ax = plt.subplots(figsize=[10,5])\n",
    "ax.set_title(rgs[i]+\" \"+ str(j) + \"_\" +data.IDs[j])\n",
    "\n",
    "modelpar_test = modelpar\n",
    "\n",
    "#ax.errorbar(data.JDs,data.pfluxes[j],yerr = fid_err,color='C0',fmt='o')\n",
    "#ax.set_xlim(xlimits)\n",
    "#ax.plot(xlimits,[data.mean_pfluxes[j]+obs_err,data.mean_pfluxes[j]+obs_err],color='black',ls='--')\n",
    "#ax.plot(xlimits,[data.mean_pfluxes[j]-obs_err,data.mean_pfluxes[j]-obs_err],color='black',ls='--')\n",
    "#ax.plot(xlimits,[data.mean_pfluxes[j]+fid_err,data.mean_pfluxes[j]+fid_err],color='blue',ls=':')\n",
    "#ax.plot(xlimits,[data.mean_pfluxes[j]-fid_err,data.mean_pfluxes[j]-fid_err],color='blue',ls=':')\n",
    "for phase in np.pi*np.array([0.5,1,2]):\n",
    "    modelpar_test[3] = phase\n",
    "    sinfit_phase = ls_source.mulsin(xtest,modelpar_test)\n",
    "    ax.plot(xtest,sinfit_phase,label=str(phase/np.pi))\n",
    "#ax.plot(xtest,sinfit_test,color='C1')\n",
    "ax.legend()\n",
    "\n",
    "ax.set_xlabel(\"JD\")\n",
    "plt.setp(ax.get_xticklabels(), rotation =0)\n",
    "ax.set_ylabel(\"Peak flux [Jy/beam]\")\n",
    "#fig.savefig(output_dir+rgs[i]+'_'+str(j)+'_'+data.IDs[j]+'_sample.jpg')"
   ]
  },
  {
   "cell_type": "code",
   "execution_count": 116,
   "metadata": {},
   "outputs": [],
   "source": [
    "var = [[9  ],\n",
    "       [11  ],\n",
    "       [17  ]]\n",
    "var = [[0,1,0  ],\n",
    "       [0,1,2  ],\n",
    "       [0,1,8  ]]\n"
   ]
  },
  {
   "cell_type": "code",
   "execution_count": 9,
   "metadata": {},
   "outputs": [
    {
     "data": {
      "text/plain": [
       "[[0, 6, 2], [0, 3, 12], [0, 3, 1], [0, 1, 2]]"
      ]
     },
     "execution_count": 9,
     "metadata": {},
     "output_type": "execute_result"
    }
   ],
   "source": [
    "var"
   ]
  },
  {
   "cell_type": "code",
   "execution_count": null,
   "metadata": {},
   "outputs": [],
   "source": [
    "%matplotlib tk"
   ]
  },
  {
   "cell_type": "markdown",
   "metadata": {},
   "source": [
    "# 4 Examples"
   ]
  },
  {
   "cell_type": "code",
   "execution_count": 26,
   "metadata": {},
   "outputs": [
    {
     "name": "stdout",
     "output_type": "stream",
     "text": [
      "['JCMTPP_J182951.2+011638', [0, 6, 2]]\n",
      "['EC 53', [0, 6, 2]]\n",
      "['JCMTPP_J054631.0-000232', [0, 3, 12]]\n",
      "['HOPS 373', [0, 3, 12]]\n",
      "['JCMTPP_J054607.2-001332', [0, 3, 1]]\n",
      "['HOPS 358', [0, 3, 1]]\n",
      "2458880.5\n",
      "2458872.8455555993\n",
      "['JCMTPP_J032903.4+311558', [0, 1, 2]]\n",
      "['VLA 3', [0, 1, 2]]\n",
      "/mnt/Secdrive/TSmain/TSmain/PaperFigs/LCs/Vars_forPaper/LC_examples.pdf\n"
     ]
    }
   ],
   "source": [
    "importlib.reload(LCP)\n",
    "from matplotlib.ticker import FormatStrFormatter\n",
    "plot = 1\n",
    "n=0\n",
    "var = [[0,6,2],[0,3,12],[0,3,1],[0,1,2]] # EC53, HOPS373, HOPS358, VLA 3\n",
    "ypos = [1.24,1.42,1.12,3.1]\n",
    "\n",
    "plt.close()\n",
    "fig, ax = plt.subplots(4,figsize=[8,14], sharex=True)\n",
    "for ind in var:\n",
    "    i=ind[1]\n",
    "    j=ind[2]\n",
    "    data = TR.ReadTable(input_dir+'Data/'+rgs[i]+'_source_data.dat',datecut=2458880.5)\n",
    "    data.JDs = np.array(data.JDs)-2400000.5\n",
    "    xlimits = [np.min(data.JDs)-100,np.max(data.JDs)+100]\n",
    "    xlimits = [57299.5, 58949.5]\n",
    "    fid_err = np.sqrt(0.014**2+(0.02*data.mean_pfluxes[j])**2)\n",
    "    obs_err = np.std(data.pfluxes[j])\n",
    "    ls_source = LCA.LCLombscargle(data.JDs,data.pfluxes[j],data.sd_fids[j])\n",
    "    FAP_Sin = ls_source.FAPs[np.where(ls_source.powers == np.max(ls_source.powers))][0]\n",
    "    JD_center = (min(data.JDs) + max(data.JDs)) / 2\n",
    "    Power_Sin = np.max(ls_source.powers)\n",
    "    dfreq = ls_source.freqs[1]-ls_source.freqs[0]\n",
    "    FAP_Sin_single = ls_source.FAP_single\n",
    "    #FAPs_Sin.append(FAP_Sin_single)\n",
    "    modelpar = ls_source.modelpara()\n",
    "    xplot = np.linspace(xlimits[0],xlimits[1],1000)\n",
    "    sinfit_plot = ls_source.mulsin(xplot, modelpar)\n",
    "    num_freqs=int(modelpar[1]/dfreq)+1\n",
    "    FAP_Mod = (FAP_Sin_single*num_freqs)\n",
    "    \n",
    "    sol_para,sol_err=LCA.LCLinearfit(data.JDs,data.pfluxes[j],[fid_err for x in data.pfluxes[j]])\n",
    "    Slope = sol_para[0]\n",
    "    dSlope = sol_err[0]\n",
    "    num = len(data.pfluxes[j])\n",
    "    linfit = np.array(data.JDs)*sol_para[0] + sol_para[1]\n",
    "    chi2_Null = np.sum(abs(np.array(data.pfluxes[j])-data.mean_pfluxes[j])**2/fid_err**2)\n",
    "\n",
    "    chi2_Lin = np.sum(abs(np.array(data.pfluxes[j])-linfit)**2/fid_err**2)\n",
    "    P_Lin = fc.gammainc((num-2)/2, chi2_Lin/2)\n",
    "    Pow_Lin = (chi2_Null-chi2_Lin)/chi2_Null\n",
    "    FAP_Lin = (1-Pow_Lin)**(num/2)\n",
    "    linfit_plot = xplot*sol_para[0] + sol_para[1]\n",
    "    \n",
    "    xplot_obs = np.linspace(np.min(data.JDs), np.max(data.JDs),1000)\n",
    "    sinfit_plot_obswin = ls_source.mulsin(data.JDs, modelpar)\n",
    "    sinmax = np.max(sinfit_plot_obswin)\n",
    "    sinmin = np.min(sinfit_plot_obswin)\n",
    "    obsmax = np.max(data.pfluxes[j])\n",
    "    obsmin = np.min(data.pfluxes[j])\n",
    "    \n",
    "    print([data.IDs[j],ind])\n",
    "    data.Identifier()\n",
    "    print([data.IDs[j],ind])\n",
    "    #print([sinmax,sinmin,(sinmax-sinmin)/sinmin, (sinmax-sinmin)/fid_err] )\n",
    "    #print([obsmax, obsmin, (obsmax-obsmin)/obsmin,(obsmax-obsmin)/fid_err])\n",
    "    #print((sinmax-sinmin)/sinmin)\n",
    "    #print((obsmax-obsmin)/obsmin)\n",
    "#ax.plot(data.JDs,sinfit_plot_obswin,color='C2')\n",
    "    #data.FAP_Sin[j]\n",
    "    \n",
    "    \n",
    "    ax[n].annotate(r\"log FAP$_{\\rm Mod}$ =\"+\" {:5.2f}\".format(np.log10(FAP_Mod))+\"\\n\"\n",
    "               +r\"log FAP$_{\\rm Lin}$ =\"+\" {:5.2f}\".format(np.log10(FAP_Lin)),\n",
    "               xy=[57349,ypos[n]], xycoords=\"data\", fontsize=13)\n",
    "    \n",
    "    if n == 3:\n",
    "        ax[n].annotate(rgs[i]+ \" \" + data.IDs[j],fontsize=15,xy=[57880,np.max(data.pfluxes[j])],xycoords='data')\n",
    "    else:\n",
    "        ax[n].annotate(data.IDs[j],fontsize=15,xy=[57880,np.max(data.pfluxes[j])-0.03],xycoords='data')\n",
    "\n",
    "    ax[n].errorbar(data.JDs,data.pfluxes[j],yerr = fid_err,color='C0',fmt='o')\n",
    "    #ax.scatter(data.JDs[oversig],data.pfluxes[j][oversig],s=100,edgecolors='red',facecolors='none',lw=1.5)\n",
    "    ax[n].set_xlim(xlimits)\n",
    "    ax[n].plot(xlimits,[data.mean_pfluxes[j],data.mean_pfluxes[j]],color='black',ls='--')\n",
    "    #ax[n].plot(xlimits,[data.mean_pfluxes[j]+obs_err,data.mean_pfluxes[j]+obs_err],color='black',ls='--')\n",
    "    #ax[n].plot(xlimits,[data.mean_pfluxes[j]-obs_err,data.mean_pfluxes[j]-obs_err],color='black',ls='--')\n",
    "    #ax[n].plot(xlimits,[data.mean_pfluxes[j]+fid_err,data.mean_pfluxes[j]+fid_err],color='blue',ls=':')\n",
    "    #ax[n].plot(xlimits,[data.mean_pfluxes[j]-fid_err,data.mean_pfluxes[j]-fid_err],color='blue',ls=':')\n",
    "    ax[n].plot(xplot,sinfit_plot,color='C1')\n",
    "    if FAP_Lin < 1e-3:\n",
    "        ax[n].plot(xplot,linfit_plot,color='C1',ls=\"--\")\n",
    "    #ax[n].grid(alpha=0.5)\n",
    "    \n",
    "    #\n",
    "    plt.setp(ax[n].get_yticklabels(), rotation =0, fontsize=14)\n",
    "    #ax[n].tick_params(fontsize=14)\n",
    "    ax[n].xaxis.set_major_formatter(FormatStrFormatter('% 7.0F'))\n",
    "\n",
    "    #if n!=2:\n",
    "    #    ax[n].set_xticklabels([])\n",
    "    LCP.JDUTPlot(ax[n],MJD=1,nolabel=n,spacing=\"       \",fs=14,noedge=[0,1])\n",
    "    \n",
    "    n+=1\n",
    "    \n",
    "ax[3].set_xlabel(\"MJD\", fontsize=14)\n",
    "ax[2].set_ylabel(r\"$\\quad$\", fontsize=14)\n",
    "plt.setp(ax[3].get_xticklabels(), rotation =20, fontsize=14)\n",
    "#fig.ylabel(\"Peak flux [Jy/beam]\", fontsize=14)\n",
    "fig.text(0.02, 0.45, \"Peak flux [Jy/beam]\",fontsize=15,rotation='vertical')\n",
    "output = output_dir+'LC_examples'+'.pdf'\n",
    "\n",
    "fig.subplots_adjust(hspace=0)\n",
    "#fig.tight_layout()\n",
    "fig.savefig(output)\n",
    "print(output)\n",
    "\n",
    "        #aaa=aaa"
   ]
  },
  {
   "cell_type": "code",
   "execution_count": 20,
   "metadata": {},
   "outputs": [
    {
     "data": {
      "text/plain": [
       "array([1.04355511, 0.98929679, 0.9445635 , 0.99905034, 0.97143287,\n",
       "       1.00647898, 1.02553162, 1.15593435, 1.38634395, 1.29742968,\n",
       "       1.23797489, 1.28650903, 1.3233802 , 1.29009362, 1.27892036,\n",
       "       1.22414053, 1.23228736, 1.25177097, 1.17757795, 1.17931254,\n",
       "       1.18954234, 1.19123437, 1.16351637, 1.12622657, 1.12728714,\n",
       "       1.1168492 , 1.26468319, 1.30619281, 1.24445966, 1.34527505,\n",
       "       1.3511444 , 1.33273995, 1.19242483, 1.2599878 , 1.16195324,\n",
       "       1.18988821, 1.15893256, 1.1247127 , 1.15412431, 1.14372204,\n",
       "       1.12739397, 1.13342474, 1.13693817, 1.134721  , 1.11415385,\n",
       "       1.13351227, 1.09085805, 1.10791976, 1.06690293, 1.13312486])"
      ]
     },
     "execution_count": 20,
     "metadata": {},
     "output_type": "execute_result"
    }
   ],
   "source": [
    "data.pfluxes[j]"
   ]
  },
  {
   "cell_type": "markdown",
   "metadata": {},
   "source": [
    "# Variable Lightcurves Plotter"
   ]
  },
  {
   "cell_type": "code",
   "execution_count": 31,
   "metadata": {},
   "outputs": [
    {
     "name": "stdout",
     "output_type": "stream",
     "text": [
      "MMS 1\t03:43:56.5\t32:00:49.9\tPeriodic\n",
      "/mnt/Secdrive/TSmain/TSmain/PaperFigs/LCs/Vars_forPaper/IC348_MMS1.pdf\n",
      "HH 211\t03:43:57.0\t32:03:04.9\tCurved\n",
      "/mnt/Secdrive/TSmain/TSmain/PaperFigs/LCs/Vars_forPaper/IC348_HH211.pdf\n",
      "2458880.5\n",
      "2458872.8455555993\n",
      "IRAS 4A\t03:29:10.4\t31:13:30.9\tCurved\n",
      "/mnt/Secdrive/TSmain/TSmain/PaperFigs/LCs/Vars_forPaper/NGC1333_IRAS4A.pdf\n",
      "2458880.5\n",
      "2458872.8455555993\n",
      "VLA 3\t03:29:03.4\t31:15:58.0\tLinear\n",
      "/mnt/Secdrive/TSmain/TSmain/PaperFigs/LCs/Vars_forPaper/NGC1333_VLA3.pdf\n",
      "2458880.5\n",
      "2458872.8455555993\n",
      "West 40\t03:29:03.8\t31:14:49.0\tCurved\n",
      "/mnt/Secdrive/TSmain/TSmain/PaperFigs/LCs/Vars_forPaper/NGC1333_West40.pdf\n",
      "HOPS 358\t05:46:07.2\t-00:13:32.0\tLinear\n",
      "/mnt/Secdrive/TSmain/TSmain/PaperFigs/LCs/Vars_forPaper/NGC2068_HOPS358.pdf\n",
      "HOPS 315\t05:46:03.6\t-00:14:47.0\tCurved\n",
      "/mnt/Secdrive/TSmain/TSmain/PaperFigs/LCs/Vars_forPaper/NGC2068_HOPS315.pdf\n",
      "HOPS 373\t05:46:31.0\t-00:02:32.0\tCurved\n",
      "/mnt/Secdrive/TSmain/TSmain/PaperFigs/LCs/Vars_forPaper/NGC2068_HOPS373.pdf\n",
      "HOPS 389\t05:46:47.4\t00:00:28.0\tCurved\n",
      "/mnt/Secdrive/TSmain/TSmain/PaperFigs/LCs/Vars_forPaper/NGC2068_HOPS389.pdf\n",
      "V1647 Ori\t05:46:13.2\t-00:06:02.0\tCurved\n",
      "/mnt/Secdrive/TSmain/TSmain/PaperFigs/LCs/Vars_forPaper/NGC2068_V1647Ori.pdf\n",
      "HOPS 383\t05:35:29.8\t-4:59:44.0\tCurved\n",
      "/mnt/Secdrive/TSmain/TSmain/PaperFigs/LCs/Vars_forPaper/OMC23_HOPS383.pdf\n",
      "VLA 1623-243\t16:26:26.8\t-24:24:30.7\tCurved\n",
      "/mnt/Secdrive/TSmain/TSmain/PaperFigs/LCs/Vars_forPaper/OPHCORE_VLA1623-243.pdf\n",
      "SMM 1\t18:29:49.8\t01:15:20.0\tLinear\n",
      "/mnt/Secdrive/TSmain/TSmain/PaperFigs/LCs/Vars_forPaper/SERPM_SMM1.pdf\n",
      "SH 2-68 N\t18:29:48.2\t01:16:44.0\tLinear\n",
      "/mnt/Secdrive/TSmain/TSmain/PaperFigs/LCs/Vars_forPaper/SERPM_SH2-68N.pdf\n",
      "EC 53\t18:29:51.2\t01:16:38.0\tPeriodic\n",
      "/mnt/Secdrive/TSmain/TSmain/PaperFigs/LCs/Vars_forPaper/SERPM_EC53.pdf\n",
      "SMM 10\t18:29:52.0\t01:15:50.0\tCurved\n",
      "/mnt/Secdrive/TSmain/TSmain/PaperFigs/LCs/Vars_forPaper/SERPM_SMM10.pdf\n",
      "CARMA 7\t18:30:04.0\t-2:03:06.0\tLinear\n",
      "/mnt/Secdrive/TSmain/TSmain/PaperFigs/LCs/Vars_forPaper/SERPS_CARMA7.pdf\n",
      "IRAS 18720-0153\t18:29:37.8\t-1:51:03.0\tCurved\n",
      "/mnt/Secdrive/TSmain/TSmain/PaperFigs/LCs/Vars_forPaper/SERPS_IRAS18720-0153.pdf\n"
     ]
    }
   ],
   "source": [
    "importlib.reload(LCP)\n",
    "plot = 1\n",
    "output_dir = \"/mnt/Secdrive/TSmain/TSmain/PaperFigs/LCs/Vars_forPaper/\"\n",
    "for ind in var:\n",
    "    i=ind[1]\n",
    "    j=ind[2]\n",
    "    data = TR.ReadTable(input_dir+'Data/'+rgs[i]+'_source_data.dat',datecut=2458880.5)\n",
    "    data.JDs = np.array(data.JDs)-2400000.5\n",
    "    xlimits = [np.min(data.JDs)-100,np.max(data.JDs)+100]\n",
    "    fid_err = np.sqrt(0.014**2+(0.02*data.mean_pfluxes[j])**2)\n",
    "    obs_err = np.std(data.pfluxes[j])\n",
    "    ls_source = LCA.LCLombscargle(data.JDs,data.pfluxes[j],data.sd_fids[j])\n",
    "    FAP_Sin = ls_source.FAPs[np.where(ls_source.powers == np.max(ls_source.powers))][0]\n",
    "    JD_center = (min(data.JDs) + max(data.JDs)) / 2\n",
    "    Power_Sin = np.max(ls_source.powers)\n",
    "\n",
    "    FAP_Sin_single = ls_source.FAP_single\n",
    "    #FAPs_Sin.append(FAP_Sin_single)\n",
    "    modelpar = ls_source.modelpara()\n",
    "    xplot = np.linspace(xlimits[0],xlimits[1],1000)\n",
    "    sinfit_plot = ls_source.mulsin(xplot, modelpar)\n",
    "    \n",
    "    sol_para,sol_err=LCA.LCLinearfit(data.JDs,data.pfluxes[j],[fid_err for x in data.pfluxes[j]])\n",
    "    Slope = sol_para[0]\n",
    "    dSlope = sol_err[0]\n",
    "    num = len(data.pfluxes[j])\n",
    "    linfit = np.array(data.JDs)*sol_para[0] + sol_para[1]\n",
    "    chi2_Null = np.sum(abs(np.array(data.pfluxes[j])-data.mean_pfluxes[j])**2/fid_err**2)\n",
    "\n",
    "    chi2_Lin = np.sum(abs(np.array(data.pfluxes[j])-linfit)**2/fid_err**2)\n",
    "    P_Lin = fc.gammainc((num-2)/2, chi2_Lin/2)\n",
    "    Pow_Lin = (chi2_Null-chi2_Lin)/chi2_Null\n",
    "    FAP_Lin = (1-Pow_Lin)**(num/2)\n",
    "    linfit_plot = xplot*sol_para[0] + sol_para[1]\n",
    "    \n",
    "    xplot_obs = np.linspace(np.min(data.JDs), np.max(data.JDs),1000)\n",
    "    sinfit_plot_obswin = ls_source.mulsin(data.JDs, modelpar)\n",
    "    Vtype = \"\"\n",
    "    period = 1/modelpar[1]/365.24\n",
    "    if period < 4:\n",
    "        Vtype = \"Periodic\"\n",
    "    elif period < 20:\n",
    "        Vtype = \"Curved\"\n",
    "    else:\n",
    "        Vtype = \"Linear\"\n",
    "        \n",
    "    sinmax = np.max(sinfit_plot_obswin)\n",
    "    sinmin = np.min(sinfit_plot_obswin)\n",
    "    obsmax = np.max(data.pfluxes[j])\n",
    "    obsmin = np.min(data.pfluxes[j])\n",
    "    \n",
    "    #print([data.IDs[j],ind])\n",
    "    data.Identifier()\n",
    "    #print([data.IDs[j],ind])\n",
    "    \n",
    "    #print([sinmax,sinmin,(sinmax-sinmin)/sinmin, (sinmax-sinmin)/fid_err] )\n",
    "    #print([obsmax, obsmin, (obsmax-obsmin)/obsmin,(obsmax-obsmin)/fid_err])\n",
    "    #print((sinmax-sinmin)/sinmin)\n",
    "    #print((obsmax-obsmin)/obsmin)\n",
    "#ax.plot(data.JDs,sinfit_plot_obswin,color='C2')\n",
    "\n",
    "    ratemp = Angle(data.RAs[j],u.degree)\n",
    "    RAout = '{:02d}'.format(int(ratemp.hms[0]))+':'+'{:02d}'.format(int(ratemp.hms[1]))+':'+ '{:04.1f}'.format(ratemp.hms[2])\n",
    "    dectemp = Angle(data.DECs[j],u.degree)\n",
    "    msign =0\n",
    "    if data.DECs[j] < 0 and data.DECs[j] > -1:\n",
    "        msign =1\n",
    "    DECout= '{:02d}'.format(int(dectemp.dms[0]))+':'+'{:02d}'.format(abs(int(dectemp.dms[1])))+':'+'{:04.1f}'.format(abs(dectemp.dms[2]))\n",
    "    if msign:\n",
    "        DECout = '-'+DECout\n",
    "    \n",
    "    \n",
    "    if plot:\n",
    "        plt.close()\n",
    "        fig, ax = plt.subplots(figsize=[7,5])\n",
    "        ax.set_title(rgs[i]+ \" \" + data.IDs[j] +' ('+Vtype+')',fontsize=15)\n",
    "        \n",
    "\n",
    "\n",
    "        ax.errorbar(data.JDs,data.pfluxes[j],yerr = fid_err,color='C0',fmt='o')\n",
    "        \n",
    "        #ax.annotate(RAout +' '+ DECout, xy=[0.65,0.18],xycoords='figure fraction',fontsize=12)\n",
    "        \n",
    "        #ax.scatter(data.JDs[oversig],data.pfluxes[j][oversig],s=100,edgecolors='red',facecolors='none',lw=1.5)\n",
    "        ax.set_xlim(xlimits)\n",
    "        ax.plot(xlimits,[data.mean_pfluxes[j],data.mean_pfluxes[j]],color='black')\n",
    "#         tester = np.arange(57388,59000,365)\n",
    "#         for test in tester:\n",
    "#             ax.plot([test,test],[6.5,7.8],color='black')\n",
    "        \n",
    "        ax.plot(xlimits,[data.mean_pfluxes[j]+obs_err,data.mean_pfluxes[j]+obs_err],color='black',ls='--')\n",
    "        ax.plot(xlimits,[data.mean_pfluxes[j]-obs_err,data.mean_pfluxes[j]-obs_err],color='black',ls='--')\n",
    "        ax.plot(xlimits,[data.mean_pfluxes[j]+fid_err,data.mean_pfluxes[j]+fid_err],color='blue',ls=':')\n",
    "        ax.plot(xlimits,[data.mean_pfluxes[j]-fid_err,data.mean_pfluxes[j]-fid_err],color='blue',ls=':')\n",
    "        ax.plot(xplot,sinfit_plot,color='C1')\n",
    "        if FAP_Lin < 1e-3:\n",
    "            ax.plot(xplot,linfit_plot,color='C1',ls=\"--\")\n",
    "        ax.set_xlabel(\"MJD\", fontsize=14)\n",
    "        plt.setp(ax.get_xticklabels(), rotation =20, fontsize=12)\n",
    "        plt.setp(ax.get_yticklabels(), rotation =0, fontsize=12)\n",
    "        ax.set_ylabel(\"Peak flux [Jy/beam]\", fontsize=14)\n",
    "        LCP.JDUTPlot(ax,MJD=1,nolabel=0,spacing=\"       \",fs=14,noedge=[0,1])\n",
    "        \n",
    "        #output_dir= '/mnt/Secdrive/TSmain/TSmain/PaperFigs/LCs/'\n",
    "        output = output_dir+rgs[i]+'_'+data.IDs[j]+'.pdf'\n",
    "        output_sub = output.split(' ')\n",
    "        if len(output_sub) > 2:\n",
    "            output = output_sub[0]+output_sub[1]+output_sub[2]\n",
    "        else:\n",
    "            output = output_sub[0]+output_sub[1]\n",
    "        \n",
    "        print(data.IDs[j] +'\\t'+ RAout +'\\t'+DECout+'\\t'+Vtype)\n",
    "        fig.tight_layout()\n",
    "        #aaa=aaa\n",
    "        fig.savefig(output)\n",
    "        print(output)\n",
    "        "
   ]
  },
  {
   "cell_type": "code",
   "execution_count": 14,
   "metadata": {},
   "outputs": [
    {
     "data": {
      "text/plain": [
       "'test   test   test.pdf'"
      ]
     },
     "execution_count": 14,
     "metadata": {},
     "output_type": "execute_result"
    }
   ],
   "source": []
  },
  {
   "cell_type": "code",
   "execution_count": 81,
   "metadata": {},
   "outputs": [
    {
     "data": {
      "text/plain": [
       "'/mnt/Secdrive/TSmain/TSmain/PaperFigs/SERPM_EC 53.jpg'"
      ]
     },
     "execution_count": 81,
     "metadata": {},
     "output_type": "execute_result"
    }
   ],
   "source": [
    "output"
   ]
  },
  {
   "cell_type": "code",
   "execution_count": 146,
   "metadata": {
    "scrolled": true
   },
   "outputs": [],
   "source": [
    "ls_pf = LS(data.JDs,data.pfluxes[j],data.sd_fids[j])\n",
    "freqs, powers = ls_pf.autopower()\n",
    "modeldata = ls_pf.model(xplot,freqs[0])\n",
    "fap01 = ls_pf.false_alarm_level(0.001)"
   ]
  },
  {
   "cell_type": "code",
   "execution_count": 280,
   "metadata": {},
   "outputs": [
    {
     "name": "stdout",
     "output_type": "stream",
     "text": [
      "12\n",
      "-8.780976566457596\n"
     ]
    }
   ],
   "source": [
    "np.log10(FAP_Sin_single)\n",
    "print(num_freqs)\n",
    "print(np.log10(FAP_Sin))"
   ]
  },
  {
   "cell_type": "code",
   "execution_count": 76,
   "metadata": {},
   "outputs": [
    {
     "name": "stdout",
     "output_type": "stream",
     "text": [
      "['JCMTPP_J182951.2+011638', [0, 6, 2]]\n",
      "['EC 53', [0, 6, 2]]\n",
      "/mnt/Secdrive/TSmain/TSmain/LCs_test/New/SERPM_EC 53_2panel.pdf\n"
     ]
    }
   ],
   "source": [
    "# For example...\n",
    "ind = [0,6,2]#EC 53\n",
    "#ind = [0,3,]\n",
    "\n",
    "i=ind[1]\n",
    "j=ind[2]\n",
    "data = TR.ReadTable(input_dir+'Data/'+rgs[i]+'_source_data.dat')\n",
    "xlimits = [np.min(data.JDs)-100,np.max(data.JDs)+100]\n",
    "fid_err = np.sqrt(0.014**2+(0.02*data.mean_pfluxes[j])**2)\n",
    "obs_err = np.std(data.pfluxes[j])\n",
    "ls_source = LCA.LCLombscargle(data.JDs,data.pfluxes[j],data.sd_fids[j])\n",
    "FAP_Sin = ls_source.FAPs[np.where(ls_source.powers == np.max(ls_source.powers))][0]\n",
    "JD_center = (min(data.JDs) + max(data.JDs)) / 2\n",
    "Power_Sin = np.max(ls_source.powers)\n",
    "\n",
    "FAP_Sin_single = ls_source.FAP_single\n",
    "#FAPs_Sin.append(FAP_Sin_single)\n",
    "modelpar = ls_source.modelpara()\n",
    "xplot = np.linspace(xlimits[0],xlimits[1],1000)\n",
    "sinfit_plot = ls_source.mulsin(xplot, modelpar)\n",
    "period = np.round(1/modelpar[1])\n",
    "freq_min = np.min(ls_source.freqs)\n",
    "freq_max = np.max(ls_source.freqs)\n",
    "dfreq = ls_source.freqs[1]-ls_source.freqs[0]\n",
    "num_freqs=int(modelpar[1]/dfreq)+1\n",
    "\n",
    "sol_para,sol_err=LCA.LCLinearfit(data.JDs,data.pfluxes[j],[fid_err for x in data.pfluxes[j]])\n",
    "Slope = sol_para[0]\n",
    "dSlope = sol_err[0]\n",
    "num = len(data.pfluxes[j])\n",
    "linfit = np.array(data.JDs)*sol_para[0] + sol_para[1]\n",
    "chi2_Null = np.sum(abs(np.array(data.pfluxes[j])-data.mean_pfluxes[j])**2/fid_err**2)\n",
    "\n",
    "chi2_Lin = np.sum(abs(np.array(data.pfluxes[j])-linfit)**2/fid_err**2)\n",
    "P_Lin = fc.gammainc((num-2)/2, chi2_Lin/2)\n",
    "Pow_Lin = (chi2_Null-chi2_Lin)/chi2_Null\n",
    "FAP_Lin = (1-Pow_Lin)**(num/2)\n",
    "linfit_plot = xplot*sol_para[0] + sol_para[1]\n",
    "\n",
    "xplot_obs = np.linspace(np.min(data.JDs), np.max(data.JDs),1000)\n",
    "sinfit_plot_obswin = ls_source.mulsin(data.JDs, modelpar)\n",
    "sinmax = np.max(sinfit_plot_obswin)\n",
    "sinmin = np.min(sinfit_plot_obswin)\n",
    "obsmax = np.max(data.pfluxes[j])\n",
    "obsmin = np.min(data.pfluxes[j])\n",
    "\n",
    "print([data.IDs[j],ind])\n",
    "data.Identifier()\n",
    "print([data.IDs[j],ind])\n",
    "#print([sinmax,sinmin,(sinmax-sinmin)/sinmin, (sinmax-sinmin)/fid_err] )\n",
    "#print([obsmax, obsmin, (obsmax-obsmin)/obsmin,(obsmax-obsmin)/fid_err])\n",
    "#print((sinmax-sinmin)/sinmin)\n",
    "#print((obsmax-obsmin)/obsmin)\n",
    "#ax.plot(data.JDs,sinfit_plot_obswin,color='C2')\n",
    "if plot:\n",
    "    plt.close()\n",
    "    fig, ax = plt.subplots(2,figsize=[7,8])\n",
    "    #ax[1].set_title(rgs[i]+ \" \" + data.IDs[j],fontsize=15)\n",
    "    ax[0].set_title(\"Light curve\",fontsize=15)\n",
    "    ax[1].set_title(\"Periodogram\",fontsize=15)\n",
    "    \n",
    "\n",
    "    \n",
    "    ax[0].errorbar(data.JDs,data.pfluxes[j],yerr = fid_err,color='C0',fmt='o')\n",
    "    ax[1].annotate(r\"log FAP$_{\\rm Sin}$ = -11.8\"+'\\n'\n",
    "                   +r\"log FAP$_{\\rm LSP}$ = -8.78\"+'\\n'\n",
    "                   +r\"log FAP$_{\\rm Mod}$ = -10.7\"+\"\\n\"\n",
    "                   +r\"log FAP$_{\\rm Lin}$ = -0.29 \",\n",
    "                   xy = [0.65,0.25], xycoords=\"figure fraction\",\n",
    "                  fontsize=13)\n",
    "    #ax.scatter(data.JDs[oversig],data.pfluxes[j][oversig],s=100,edgecolors='red',facecolors='none',lw=1.5)\n",
    "    ax[0].set_xlim(xlimits)\n",
    "    ax[0].plot(xlimits,[data.mean_pfluxes[j],data.mean_pfluxes[j]],color='black')\n",
    "    ax[0].plot(xlimits,[data.mean_pfluxes[j]+obs_err,data.mean_pfluxes[j]+obs_err],color='black',ls='--')\n",
    "    ax[0].plot(xlimits,[data.mean_pfluxes[j]-obs_err,data.mean_pfluxes[j]-obs_err],color='black',ls='--')\n",
    "    ax[0].plot(xlimits,[data.mean_pfluxes[j]+fid_err,data.mean_pfluxes[j]+fid_err],color='blue',ls=':')\n",
    "    ax[0].plot(xlimits,[data.mean_pfluxes[j]-fid_err,data.mean_pfluxes[j]-fid_err],color='blue',ls=':')\n",
    "    ax[0].plot(xplot,sinfit_plot,color='C1')\n",
    "    ax[0].plot(xplot,linfit_plot,color='C1',linestyle='--')\n",
    "    ax[0].set_xlabel(\"JD\", fontsize=14)\n",
    "    plt.setp(ax[0].get_xticklabels(), rotation =20, fontsize=12)\n",
    "    plt.setp(ax[0].get_yticklabels(), rotation =0, fontsize=12)\n",
    "    ax[0].set_ylabel(\"Peak flux [Jy/beam]\", fontsize=14)\n",
    "    \n",
    "    ax[1].plot(ls_source.freqs, ls_source.powers,color='C0')\n",
    "    #ax[1].plot(ls_source.freqs, ls_source.powers)\n",
    "    pos_max = np.where(ls_source.powers==np.max(ls_source.powers))\n",
    "    ax[1].plot([ls_source.freqs[pos_max],ls_source.freqs[pos_max]],[0,1],color='C1')\n",
    "    #ax[1].scatter(ls_source.freqs[pos_max],ls_source.powers[pos_max],color='red',)\n",
    "    ax[1].set_ylim(0,1)\n",
    "    ax[1].set_xlim(0,0.01)\n",
    "    ax[1].set_xlabel(\"Frequency\",fontsize=14)\n",
    "    ax[1].set_ylabel(\"Power\",fontsize=14)\n",
    "    ax[1].annotate(r\"Period = 1.61 yr\",xy = [1/563, 0.8], xycoords=\"data\",fontsize=13)\n",
    "    plt.setp(ax[1].get_xticklabels(), rotation =0, fontsize=12)\n",
    "    plt.setp(ax[1].get_yticklabels(), rotation =0, fontsize=12)\n",
    "    \n",
    "    \n",
    "    output = output_dir+rgs[i]+'_'+data.IDs[j]+'_2panel.pdf'\n",
    "    fig.tight_layout()\n",
    "    #fig.savefig(output)\n",
    "    print(output)"
   ]
  },
  {
   "cell_type": "markdown",
   "metadata": {},
   "source": [
    "# EC 53 example in 3 panel"
   ]
  },
  {
   "cell_type": "code",
   "execution_count": 34,
   "metadata": {},
   "outputs": [
    {
     "name": "stdout",
     "output_type": "stream",
     "text": [
      "['JCMTPP_J182951.2+011638', [0, 6, 2]]\n",
      "['EC 53', [0, 6, 2]]\n",
      "/mnt/Secdrive/TSmain/TSmain/PaperFigs/LCs/Vars_forPaper/SERPM_EC 53_3panel.pdf\n"
     ]
    }
   ],
   "source": [
    "# For example...\n",
    "importlib.reload(LCP)\n",
    "ind = [0,6,2]\n",
    "i=ind[1]\n",
    "j=ind[2]\n",
    "data = TR.ReadTable(input_dir+'Data/'+rgs[i]+'_source_data.dat')\n",
    "data.JDs = np.array(data.JDs) - 2400000.5\n",
    "xlimits = [np.min(data.JDs)-100,np.max(data.JDs)+100]\n",
    "fid_err = np.sqrt(0.014**2+(0.02*data.mean_pfluxes[j])**2)\n",
    "obs_err = np.std(data.pfluxes[j])\n",
    "ls_source = LCA.LCLombscargle(data.JDs,data.pfluxes[j],data.sd_fids[j])\n",
    "FAP_Sin = ls_source.FAPs[np.where(ls_source.powers == np.max(ls_source.powers))][0]\n",
    "JD_center = (min(data.JDs) + max(data.JDs)) / 2\n",
    "Power_Sin = np.max(ls_source.powers)\n",
    "\n",
    "FAP_Sin_single = ls_source.FAP_single\n",
    "#FAPs_Sin.append(FAP_Sin_single)\n",
    "modelpar = ls_source.modelpara()\n",
    "xplot = np.linspace(xlimits[0],xlimits[1],1000)\n",
    "sinfit_plot = ls_source.mulsin(xplot, modelpar)\n",
    "period = np.round(1/modelpar[1])\n",
    "freq_min = np.min(ls_source.freqs)\n",
    "freq_max = np.max(ls_source.freqs)\n",
    "dfreq = ls_source.freqs[1]-ls_source.freqs[0]\n",
    "num_freqs=int(modelpar[1]/dfreq)+1\n",
    "\n",
    "sol_para,sol_err=LCA.LCLinearfit(data.JDs,data.pfluxes[j],[fid_err for x in data.pfluxes[j]])\n",
    "Slope = sol_para[0]\n",
    "dSlope = sol_err[0]\n",
    "num = len(data.pfluxes[j])\n",
    "linfit = np.array(data.JDs)*sol_para[0] + sol_para[1]\n",
    "chi2_Null = np.sum(abs(np.array(data.pfluxes[j])-data.mean_pfluxes[j])**2/fid_err**2)\n",
    "\n",
    "chi2_Lin = np.sum(abs(np.array(data.pfluxes[j])-linfit)**2/fid_err**2)\n",
    "P_Lin = fc.gammainc((num-2)/2, chi2_Lin/2)\n",
    "Pow_Lin = (chi2_Null-chi2_Lin)/chi2_Null\n",
    "FAP_Lin = (1-Pow_Lin)**(num/2)\n",
    "linfit_plot = xplot*sol_para[0] + sol_para[1]\n",
    "\n",
    "xplot_obs = np.linspace(np.min(data.JDs), np.max(data.JDs),1000)\n",
    "sinfit_plot_obswin = ls_source.mulsin(data.JDs, modelpar)\n",
    "sinmax = np.max(sinfit_plot_obswin)\n",
    "sinmin = np.min(sinfit_plot_obswin)\n",
    "obsmax = np.max(data.pfluxes[j])\n",
    "obsmin = np.min(data.pfluxes[j])\n",
    "\n",
    "phaseX = [x -data.JDs[0] for x in data.JDs]%period/period\n",
    "\n",
    "print([data.IDs[j],ind])\n",
    "data.Identifier()\n",
    "print([data.IDs[j],ind])\n",
    "#print([sinmax,sinmin,(sinmax-sinmin)/sinmin, (sinmax-sinmin)/fid_err] )\n",
    "#print([obsmax, obsmin, (obsmax-obsmin)/obsmin,(obsmax-obsmin)/fid_err])\n",
    "#print((sinmax-sinmin)/sinmin)\n",
    "#print((obsmax-obsmin)/obsmin)\n",
    "#ax.plot(data.JDs,sinfit_plot_obswin,color='C2')\n",
    "if plot:\n",
    "    plt.close()\n",
    "    #fig, ax = plt.subplots(211,figsize=[7,8])\n",
    "    plt.figure(figsize=[9,8])\n",
    "    #ax[1].set_title(rgs[i]+ \" \" + data.IDs[j],fontsize=15)\n",
    "    ax0 = plt.subplot(212)\n",
    "    #ax1.margins(0.05)\n",
    "    ax1 = plt.subplot(221)\n",
    "    ax2 = plt.subplot(222)\n",
    "    ax0.set_title(\"Light curve\",fontsize=15, pad=-30)\n",
    "    ax1.set_title(\"Periodogram\",fontsize=15)\n",
    "    ax2.set_title(\"Phase Diagram\",fontsize=15)\n",
    "    ax2.set_xlim([-0.05,1.05])\n",
    "    ax2.errorbar(phaseX,data.pfluxes[j],yerr=fid_err,color='C0',fmt='o')\n",
    "    ax2.set_xlabel(\"Phase\", fontsize=15)\n",
    "    \n",
    "    #ax2.yaxis.set_ticks_position('right')\n",
    "    #ax2.yaxis.set_label_position('right')\n",
    "    ax2.set_ylabel(\"Peak flux [Jy/beam]\", fontsize=15,labelpad=-2)\n",
    "    ax2.tick_params(labelsize=14)\n",
    "    #phasefitx= np.linspace(-0.05,1.05,200)\n",
    "    #sinfit1 = modelpar[2]*np.sin(phasefitx*2*np.pi-modelpar[3]-np.pi/2)+modelpar[0]\n",
    "    #ax2.plot(phasefitx,sinfit1,color='C1')\n",
    "    \n",
    "    ax0.errorbar(data.JDs,data.pfluxes[j],yerr = fid_err,color='C0',fmt='o')\n",
    "    ax1.annotate(r\"log FAP$_{\\rm Sin}$ = -11.8\"+'\\n'\n",
    "                   +r\"log FAP$_{\\rm LSP}$ = -8.78\"+'\\n'\n",
    "                   +r\"log FAP$_{\\rm Mod}$ = -10.7\"+\"\\n\"\n",
    "                   +r\"log FAP$_{\\rm Lin}$ = -0.29 \",\n",
    "                   xy = [0.004*365.24,0.25], xycoords=\"data\",\n",
    "                  fontsize=13)\n",
    "    ax0.set_xlim(xlimits)\n",
    "    ax0.plot(xlimits,[data.mean_pfluxes[j],data.mean_pfluxes[j]],color='black')\n",
    "    ax0.plot(xlimits,[data.mean_pfluxes[j]+obs_err,data.mean_pfluxes[j]+obs_err],color='black',ls='--')\n",
    "    ax0.plot(xlimits,[data.mean_pfluxes[j]-obs_err,data.mean_pfluxes[j]-obs_err],color='black',ls='--')\n",
    "    ax0.plot(xlimits,[data.mean_pfluxes[j]+fid_err,data.mean_pfluxes[j]+fid_err],color='blue',ls=':')\n",
    "    ax0.plot(xlimits,[data.mean_pfluxes[j]-fid_err,data.mean_pfluxes[j]-fid_err],color='blue',ls=':')\n",
    "    ax0.plot(xplot,sinfit_plot,color='C1')\n",
    "    ax0.plot(xplot,linfit_plot,color='C1',linestyle='--')\n",
    "    ax0.set_xlabel(\"JD\", fontsize=15)\n",
    "    plt.setp(ax0.get_xticklabels(), rotation =20, fontsize=14)\n",
    "    plt.setp(ax0.get_yticklabels(), rotation =0, fontsize=14)\n",
    "    ax0.set_ylabel(\"Peak flux [Jy/beam]\", fontsize=15)\n",
    "    \n",
    "    ls_source.freqs= ls_source.freqs*365.24\n",
    "    ax1.plot(ls_source.freqs, ls_source.powers,color='C0')\n",
    "    #ax[1].plot(ls_source.freqs, ls_source.powers)\n",
    "    pos_max = np.where(ls_source.powers==np.max(ls_source.powers))\n",
    "    ax1.plot([ls_source.freqs[pos_max],ls_source.freqs[pos_max]],[0,1],color='C1')\n",
    "    #ax[1].scatter(ls_source.freqs[pos_max],ls_source.powers[pos_max],color='red',)\n",
    "    ax1.set_ylim(0,1)\n",
    "    ax1.set_xlim(0,5)\n",
    "    ax1.set_xlabel(r\"Frequency [yr$^{-1}$]\",fontsize=15)\n",
    "    ax1.set_ylabel(\"Power\",fontsize=15)\n",
    "    ax1.annotate(r\"Period = 1.61 yr\",xy = [1/1.61+0.1, 0.8], xycoords=\"data\",fontsize=13)\n",
    "    plt.setp(ax1.get_xticklabels(), rotation =0, fontsize=14)\n",
    "    plt.setp(ax1.get_yticklabels(), rotation =0, fontsize=14)\n",
    "    axUT = LCP.JDUTPlot(ax0,MJD=1,nolabel=0,spacing=\"\\n\"+\"       \",fs=15,noedge=[0,1])\n",
    "    axUT.set_xlabel(\"UT\",labelpad=-18)\n",
    "    ax0.xaxis.set_major_formatter(FormatStrFormatter('% 7.0F'))\n",
    "    #plt.setp(axUT.get_xticklabels(), direction='in')\n",
    "    plt.subplots_adjust(hspace=0.4)\n",
    "    \n",
    "    output = output_dir+rgs[i]+'_'+data.IDs[j]+'_3panel.pdf'\n",
    "    #fig.tight_layout()\n",
    "    plt.savefig(output)\n",
    "    print(output)"
   ]
  },
  {
   "cell_type": "code",
   "execution_count": 156,
   "metadata": {},
   "outputs": [
    {
     "data": {
      "text/plain": [
       "True"
      ]
     },
     "execution_count": 156,
     "metadata": {},
     "output_type": "execute_result"
    }
   ],
   "source": [
    "len(phaseX) == len(data.pfluxes[j])"
   ]
  },
  {
   "cell_type": "code",
   "execution_count": 26,
   "metadata": {},
   "outputs": [],
   "source": [
    "data = TR.ReadTable(input_dir+'Data/'+rgs[0]+'_source_data.dat')\n",
    "\n"
   ]
  },
  {
   "cell_type": "code",
   "execution_count": 24,
   "metadata": {},
   "outputs": [
    {
     "name": "stdout",
     "output_type": "stream",
     "text": [
      "['JCMTPP_J054631.0-000232', array([ 3, 12, 30])]\n",
      "['HOPS 373', array([ 3, 12, 30])]\n",
      "/mnt/Secdrive/TSmain/TSmain/PaperFigs/LCs/Var/NGC2068_HOPS 373.pdf\n",
      "['JCMTPP_J054645.6+000719', array([ 3, 30,  5])]\n",
      "['JCMTPP_J054645.6+000719', array([ 3, 30,  5])]\n",
      "/mnt/Secdrive/TSmain/TSmain/PaperFigs/LCs/Var/NGC2068_JCMTPP_J054645.6+000719.pdf\n",
      "['JCMTPP_J053527.4-050929', array([ 4,  1, 10])]\n",
      "['HOPS 370', array([ 4,  1, 10])]\n",
      "/mnt/Secdrive/TSmain/TSmain/PaperFigs/LCs/Var/OMC23_HOPS 370.pdf\n",
      "['JCMTPP_J053524.2-050932', array([ 4, 18, 20])]\n",
      "['JCMTPP_J053524.2-050932', array([ 4, 18, 20])]\n",
      "/mnt/Secdrive/TSmain/TSmain/PaperFigs/LCs/Var/OMC23_JCMTPP_J053524.2-050932.pdf\n",
      "['JCMTPP_J053522.4-050111', array([ 4, 40,  3])]\n",
      "['HOPS 88', array([ 4, 40,  3])]\n",
      "/mnt/Secdrive/TSmain/TSmain/PaperFigs/LCs/Var/OMC23_HOPS 88.pdf\n",
      "['JCMTPP_J183002.6-020248', array([ 7,  1, 34])]\n",
      "['CARMA 3', array([ 7,  1, 34])]\n",
      "/mnt/Secdrive/TSmain/TSmain/PaperFigs/LCs/Var/SERPS_CARMA 3.pdf\n"
     ]
    }
   ],
   "source": [
    "\n",
    "\n",
    "i = 0\n",
    "for ind in STCH_vars:\n",
    "    i = ind[0]\n",
    "    j = ind[1]\n",
    "    data = TR.ReadTable(input_dir+'Data/'+rgs[i]+'_source_data.dat')\n",
    "    plt.close()\n",
    "    fig, ax = plt.subplots(figsize=[7,5])\n",
    "    ax.set_title(rgs[i]+ \" \" + data.IDs[j],fontsize=15)\n",
    "    xlimits = [np.min(data.JDs)-100,np.max(data.JDs)+100]\n",
    "    fid_err = np.sqrt(0.014**2+(0.02*data.mean_pfluxes[j])**2)\n",
    "    obs_err = np.std(data.pfluxes[j])\n",
    "    ls_source = LCA.LCLombscargle(data.JDs,data.pfluxes[j],data.sd_fids[j])\n",
    "    FAP_Sin = ls_source.FAPs[np.where(ls_source.powers == np.max(ls_source.powers))][0]\n",
    "    JD_center = (min(data.JDs) + max(data.JDs)) / 2\n",
    "    Power_Sin = np.max(ls_source.powers)\n",
    "\n",
    "    FAP_Sin_single = ls_source.FAP_single\n",
    "    #FAPs_Sin.append(FAP_Sin_single)\n",
    "    modelpar = ls_source.modelpara()\n",
    "    xplot = np.linspace(xlimits[0],xlimits[1],1000)\n",
    "    sinfit_plot = ls_source.mulsin(xplot, modelpar)\n",
    "    \n",
    "    sol_para,sol_err=LCA.LCLinearfit(data.JDs,data.pfluxes[j],[fid_err for x in data.pfluxes[j]])\n",
    "    Slope = sol_para[0]\n",
    "    dSlope = sol_err[0]\n",
    "    num = len(data.pfluxes[j])\n",
    "    linfit = np.array(data.JDs)*sol_para[0] + sol_para[1]\n",
    "    chi2_Null = np.sum(abs(np.array(data.pfluxes[j])-data.mean_pfluxes[j])**2/fid_err**2)\n",
    "\n",
    "    chi2_Lin = np.sum(abs(np.array(data.pfluxes[j])-linfit)**2/fid_err**2)\n",
    "    P_Lin = fc.gammainc((num-2)/2, chi2_Lin/2)\n",
    "    Pow_Lin = (chi2_Null-chi2_Lin)/chi2_Null\n",
    "    FAP_Lin = (1-Pow_Lin)**(num/2)\n",
    "    linfit_plot = xplot*sol_para[0] + sol_para[1]\n",
    "    \n",
    "    xplot_obs = np.linspace(np.min(data.JDs), np.max(data.JDs),1000)\n",
    "    sinfit_plot_obswin = ls_source.mulsin(data.JDs, modelpar)\n",
    "    sinmax = np.max(sinfit_plot_obswin)\n",
    "    sinmin = np.min(sinfit_plot_obswin)\n",
    "    obsmax = np.max(data.pfluxes[j])\n",
    "    obsmin = np.min(data.pfluxes[j])\n",
    "    \n",
    "    print([data.IDs[j],ind])\n",
    "    data.Identifier()\n",
    "    print([data.IDs[j],ind])\n",
    "    \n",
    "    ratemp = Angle(data.RAs[j],u.degree)\n",
    "    RAout = '{:02d}'.format(int(ratemp.hms[0]))+':'+'{:02d}'.format(int(ratemp.hms[1]))+':'+ '{:04.1f}'.format(ratemp.hms[2])\n",
    "    dectemp = Angle(data.DECs[j],u.degree)\n",
    "    DECout= '{:02d}'.format(int(dectemp.dms[0]))+':'+'{:02d}'.format(abs(int(dectemp.dms[1])))+':'+ '{:04.1f}'.format(abs(dectemp.dms[2]))\n",
    "#     if dectemp.degree<0:\n",
    "#         DECout = \"-\"+ DECout\n",
    "#     else :\n",
    "#         DECout = \"+\"+ DECout\n",
    "    \n",
    "    ax.errorbar(data.JDs,data.pfluxes[j],yerr = fid_err,color='C0',fmt='o')\n",
    "    \n",
    "    ax.scatter(data.JDs[ind[2]],data.pfluxes[j][ind[2]],s=100,edgecolors='red',facecolors='none',lw=1.5)\n",
    "    ax.set_xlim(xlimits)\n",
    "    ax.plot(xlimits,[data.mean_pfluxes[j],data.mean_pfluxes[ind[1]]],color='black')\n",
    "    ax.plot(xlimits,[data.mean_pfluxes[j]+obs_err,data.mean_pfluxes[j]+obs_err],color='black',ls='--')\n",
    "    ax.plot(xlimits,[data.mean_pfluxes[j]-obs_err,data.mean_pfluxes[j]-obs_err],color='black',ls='--')\n",
    "    ax.plot(xlimits,[data.mean_pfluxes[j]+fid_err,data.mean_pfluxes[j]+fid_err],color='blue',ls=':')\n",
    "    ax.plot(xlimits,[data.mean_pfluxes[j]-fid_err,data.mean_pfluxes[j]-fid_err],color='blue',ls=':')\n",
    "    if i == 3 and j == 12:\n",
    "        ax.plot(xplot,sinfit_plot,color='C1')\n",
    "    if FAP_Lin < 1e-3:\n",
    "        ax.plot(xplot,linfit_plot,color='C1',ls=\"--\")\n",
    "    ax.set_xlabel(\"JD\", fontsize=14)\n",
    "    plt.setp(ax.get_xticklabels(), rotation =0, fontsize=12)\n",
    "    plt.setp(ax.get_yticklabels(), rotation =0, fontsize=12)\n",
    "    ax.set_ylabel(\"Peak flux [Jy/beam]\", fontsize=14)\n",
    "    \n",
    "\n",
    "    output = output_dir+rgs[i]+'_'+data.IDs[j]+'.pdf'\n",
    "    fig.tight_layout()\n",
    "    #fig.savefig(output)\n",
    "    print(output)\n",
    "    i += 1"
   ]
  },
  {
   "cell_type": "code",
   "execution_count": 188,
   "metadata": {},
   "outputs": [
    {
     "data": {
      "text/plain": [
       "(0, 1)"
      ]
     },
     "execution_count": 188,
     "metadata": {},
     "output_type": "execute_result"
    }
   ],
   "source": [
    "plt.close()\n",
    "fig, ax = plt.subplots(figsize=[7,5])\n",
    "\n",
    "ax.set_title(\"Periodogram\")\n",
    "ax.plot(freqs*365,powers)\n",
    "ax.plot([0,20],[fap01,fap01])\n",
    "ax.set_xlim(0,6)\n",
    "ax.set_xlabel(\"Frequency [/year]\")\n",
    "ax.set_ylabel(\"Power\")\n",
    "ax.set_ylim(0,1)\n",
    "#ax.scatter(freqs[92]*365,powers[92])\n"
   ]
  },
  {
   "cell_type": "code",
   "execution_count": 90,
   "metadata": {},
   "outputs": [],
   "source": [
    "fig.savefig(output_dir+sname+\"_PD.pdf\")"
   ]
  },
  {
   "cell_type": "code",
   "execution_count": 43,
   "metadata": {},
   "outputs": [
    {
     "data": {
      "text/plain": [
       "'/mnt/Secdrive/TSmain/TSmain/IndivLCs/'"
      ]
     },
     "execution_count": 43,
     "metadata": {},
     "output_type": "execute_result"
    }
   ],
   "source": [
    "output_dir"
   ]
  },
  {
   "cell_type": "code",
   "execution_count": 180,
   "metadata": {},
   "outputs": [],
   "source": [
    "data = TR.ReadTable(input_dir+'Data/New/'+rgs[i]+'_source_data.dat')\n",
    "xlimits = [np.min(data.JDs)-100,np.max(data.JDs)+100]\n",
    "fid_err = np.sqrt(0.014**2+(0.02*data.mean_pfluxes[j])**2)\n",
    "obs_err = np.std(data.pfluxes[j])\n",
    "ls_source = LCA.LCLombscargle(data.JDs,data.pfluxes[j],data.sd_fids[j])\n",
    "FAP_Sin = ls_source.FAPs[np.where(ls_source.powers == np.max(ls_source.powers))][0]\n",
    "JD_center = (min(data.JDs) + max(data.JDs)) / 2\n",
    "Power_Sin = np.max(ls_source.powers)\n",
    "\n",
    "FAP_Sin_single = ls_source.FAP_single\n",
    "#FAPs_Sin.append(FAP_Sin_single)\n",
    "modelpar = ls_source.modelpara()\n",
    "xplot = np.linspace(xlimits[0],xlimits[1],1000)\n",
    "sinfit_plot = ls_source.mulsin(xplot, modelpar)\n",
    "\n",
    "sol_para,sol_err=LCA.LCLinearfit(data.JDs,data.pfluxes[j],[fid_err for x in data.pfluxes[j]])\n",
    "Slope = sol_para[0]\n",
    "dSlope = sol_err[0]\n",
    "num = len(data.pfluxes[j])\n",
    "linfit = np.array(data.JDs)*sol_para[0] + sol_para[1]\n",
    "chi2_Null = np.sum(abs(np.array(data.pfluxes[j])-data.mean_pfluxes[j])**2/fid_err**2)\n",
    "\n",
    "chi2_Lin = np.sum(abs(np.array(data.pfluxes[j])-linfit)**2/fid_err**2)\n",
    "P_Lin = fc.gammainc((num-2)/2, chi2_Lin/2)\n",
    "Pow_Lin = (chi2_Null-chi2_Lin)/chi2_Null\n",
    "FAP_Lin = (1-Pow_Lin)**(num/2)\n",
    "linfit_plot = xplot*sol_para[0] + sol_para[1]\n",
    "\n",
    "xplot_obs = np.linspace(np.min(data.JDs), np.max(data.JDs),1000)\n",
    "sinfit_plot_obswin = ls_source.mulsin(data.JDs, modelpar)\n",
    "sinmax = np.max(sinfit_plot_obswin)\n",
    "sinmin = np.min(sinfit_plot_obswin)\n",
    "obsmax = np.max(data.pfluxes[j])\n",
    "obsmin = np.min(data.pfluxes[j])\n",
    "\n",
    "plt.close()\n",
    "fig, ax = plt.subplots(figsize=[7,5])\n",
    "ax.set_title(rgs[i]+ \" \" + data.IDs[j],fontsize=15)\n",
    "ax.set_title(rgs[i]+ \" \" + sname,fontsize=15)\n",
    "\n",
    "\n",
    "\n",
    "ax.errorbar(data.JDs,data.pfluxes[j],yerr = fid_err,color='C0',fmt='o')\n",
    "ax.set_xlim(xlimits)\n",
    "ax.plot(xlimits,[data.mean_pfluxes[j],data.mean_pfluxes[j]],color='black')\n",
    "ax.plot(xlimits,[data.mean_pfluxes[j]+obs_err,data.mean_pfluxes[j]+obs_err],color='black',ls='--')\n",
    "ax.plot(xlimits,[data.mean_pfluxes[j]-obs_err,data.mean_pfluxes[j]-obs_err],color='black',ls='--')\n",
    "ax.plot(xlimits,[data.mean_pfluxes[j]+fid_err,data.mean_pfluxes[j]+fid_err],color='blue',ls=':')\n",
    "ax.plot(xlimits,[data.mean_pfluxes[j]-fid_err,data.mean_pfluxes[j]-fid_err],color='blue',ls=':')\n",
    "ax.plot(xplot,sinfit_plot,color='C1')\n",
    "if FAP_Lin < 1e-3:\n",
    "    ax.plot(xplot,linfit_plot,color='C1',ls=\"--\")\n",
    "ax.set_xlabel(\"JD\", fontsize=14)\n",
    "plt.setp(ax.get_xticklabels(), rotation =20, fontsize=12)\n",
    "plt.setp(ax.get_yticklabels(), rotation =0, fontsize=12)\n",
    "ax.set_ylabel(\"Peak flux [Jy/beam]\", fontsize=14)\n",
    "output = output_dir+rgs[i]+'_'+data.IDs[j]+'.pdf'\n",
    "fig.tight_layout()\n",
    "#plt.close()\n",
    "\n",
    "#fig, ax = plt.subplots(figsize=[7,5])\n",
    "#ax.set_title(rgs[i]+\" \"+ str(indices[j]) + \"_\" +data.IDs[j])\n",
    "#ax.errorbar(data.JDs,data.pfluxes[j],yerr = fid_err,fmt='o')\n",
    "#ax.set_xlim(xlimits)\n",
    "##ax.plot(xplot,modeldata,color='red')\n",
    "##ax.plot(xplot,modeldata1,color='red')\n",
    "##ax.plot(xplot,modeldata2,color='red')\n",
    "##ax.plot(xlimits,[data.mean_pfluxes[j]+obs_err,data.mean_pfluxes[j]+obs_err],color='black',ls='--')\n",
    "##ax.plot(xlimits,[data.mean_pfluxes[j]-obs_err,data.mean_pfluxes[j]-obs_err],color='black',ls='--')\n",
    "##ax.plot(xlimits,[data.mean_pfluxes[j]+fid_err,data.mean_pfluxes[j]+fid_err],color='blue',ls=':')\n",
    "##ax.plot(xlimits,[data.mean_pfluxes[j]-fid_err,data.mean_pfluxes[j]-fid_err],color='blue',ls=':')\n",
    "#ax.set_xlabel(\"JD - 2455266\")\n",
    "#ax.set_ylabel(\"Peak flux [Jy/beam]\")\n"
   ]
  },
  {
   "cell_type": "code",
   "execution_count": 144,
   "metadata": {},
   "outputs": [
    {
     "name": "stdout",
     "output_type": "stream",
     "text": [
      "#JD\tPeakflux[Jy/beam]\terror[Jy/beam]\n",
      "2457382.994213\t1.307104997263799\t0.053530526921476536\n",
      "2457403.8473958\t1.3112034976360472\t0.029067795387332628\n",
      "2457424.720509298\t1.3177074574861394\t0.01877845003528446\n",
      "2457447.6876735985\t1.2897820194932128\t0.01772283104813524\n",
      "2457476.7037499994\t1.3083309415156181\t0.01750635080822516\n",
      "2457505.715937499\t1.2315616873630633\t0.017533013013455074\n",
      "2457628.1033102013\t1.2299096372433487\t0.015889068725488172\n",
      "2457713.122569401\t1.2224357246200666\t0.015573775249382533\n",
      "2457719.0034837984\t1.231690077197589\t0.01523775948805881\n",
      "2457790.6952893995\t1.1929763859369904\t0.014289965807839311\n",
      "2457831.732338\t1.2411308833119714\t0.014146145868526645\n",
      "2457864.7200347\t1.2294352054834796\t0.014009889191102607\n",
      "2457929.291168999\t1.241479725778171\t0.029285732403045148\n",
      "2457966.1950347014\t1.1957941265419874\t0.027073019151169192\n",
      "2457998.167245399\t1.2247303207322466\t0.024240461671345394\n",
      "2458026.119826399\t1.191816303331194\t0.018423204851373418\n",
      "2458064.938217599\t1.1809467770165734\t0.018086771507455718\n",
      "2458095.922430601\t1.1816893847833816\t0.01796345056492438\n",
      "2458133.9104282\t1.200558987916805\t0.016439092772915744\n",
      "2458166.697106499\t1.1708963936962138\t0.01615608657629941\n",
      "2458208.684571799\t1.2107826039583092\t0.01599694139057579\n",
      "2458368.105925899\t1.2075975377834334\t0.015681967482233772\n",
      "2458396.1004051007\t1.2002628853916137\t0.01562501383780097\n",
      "2458424.1390855983\t1.227290111793636\t0.015215348890802973\n",
      "2458455.8410185017\t1.2432202011018876\t0.015200049558929849\n",
      "2458486.768553201\t1.1921491499710368\t0.014833403919034897\n",
      "2458519.8347917013\t1.2315136888384755\t0.014610639302290378\n",
      "2458552.8000462987\t1.2471580361524772\t0.014181649022750245\n",
      "2458580.7587963007\t1.2622008892209988\t0.014030039945630079\n",
      "2458716.122592598\t1.3535401002106449\t0.014018038953076179\n",
      "2458753.039733801\t1.4849132570468118\t0.015341875143530515\n",
      "2458775.226261601\t1.4088177151992123\t0.014034336971873795\n",
      "2458788.9631250016\t1.3967759482339184\t0.014802786287829155\n",
      "2458836.856782399\t1.3380106072712576\t0.014396595922159397\n",
      "2458850.786088001\t1.3182799524921018\t0.014043546398361015\n",
      "2458872.8902315013\t1.2707580619121985\t0.014481330702668996\n",
      "2458901.7095949017\t1.2744361719246247\t0.014272846111141622\n",
      "2458915.7947221994\t1.2596490653731576\t0.014019321029238\n",
      "2459073.133530099\t1.4173672424493262\t0.014235150758245637\n",
      "2459088.1436110996\t1.4740173551503648\t0.014011217592141575\n",
      "2459107.220752299\t1.4800961504670338\t0.014177996033983483\n",
      "2459121.2620949\t1.4993880201118515\t0.014158201951838754\n",
      "2459155.9788657017\t1.4614197279679975\t0.014095135769699377\n",
      "2459180.870451398\t1.4289792999459128\t0.014099606586219062\n"
     ]
    }
   ],
   "source": [
    "print(\"#JD\\tPeakflux[Jy/beam]\\terror[Jy/beam]\")\n",
    "for i in range(0,len(data.pfluxes[j])):\n",
    "    print(str(data.JDs[i]) +'\\t'+ str(data.pfluxes[j][i]) +\"\\t\" + str(data.sd_fids[i]))"
   ]
  },
  {
   "cell_type": "code",
   "execution_count": 87,
   "metadata": {},
   "outputs": [
    {
     "name": "stdout",
     "output_type": "stream",
     "text": [
      "/mnt/Secdrive/TSmain/TSmain/IndivLCs/\n"
     ]
    }
   ],
   "source": [
    "fig.savefig(output_dir + sname+'_LC.pdf')\n",
    "print(output_dir)"
   ]
  },
  {
   "cell_type": "code",
   "execution_count": 95,
   "metadata": {},
   "outputs": [
    {
     "data": {
      "text/plain": [
       "-0.23805525403855737"
      ]
     },
     "execution_count": 95,
     "metadata": {},
     "output_type": "execute_result"
    }
   ],
   "source": [
    "data.DECs[j]"
   ]
  },
  {
   "cell_type": "code",
   "execution_count": 114,
   "metadata": {},
   "outputs": [
    {
     "name": "stdout",
     "output_type": "stream",
     "text": [
      "86.51999980633954 -0.23805525403855737\n",
      "05h46m04.8s -00d14m17.0s\n"
     ]
    }
   ],
   "source": [
    "import astropy.coordinates as CD\n",
    "print(data.RAs[j], data.DECs[j])\n",
    "ratemp = Angle(data.RAs[j],u.degree)\n",
    "RAout = '{:02d}'.format(int(ratemp.hms[0]))+'h'+'{:02d}'.format(int(ratemp.hms[1]))+'m'+ '{:04.1f}'.format(ratemp.hms[2]) +'s'\n",
    "dectemp = Angle(data.DECs[j],u.degree)\n",
    "DECout= '{:02d}'.format(int(dectemp.dms[0]))+'d'+'{:02d}'.format(abs(int(dectemp.dms[1])))+'m'+ '{:04.1f}'.format(abs(dectemp.dms[2])) +'s'\n",
    "if dectemp.degree<0:\n",
    "    DECout = \"-\"+ DECout\n",
    "else :\n",
    "    DECout = \"+\"+ DECout\n",
    "print(RAout, DECout)\n",
    "c1 = CD.SkyCoord(RAout, DECout, frame='icrs')\n",
    "c2 = CD.SkyCoord('05h46m04.49s', '-00d14m18.87s', frame='icrs')"
   ]
  },
  {
   "cell_type": "code",
   "execution_count": 115,
   "metadata": {},
   "outputs": [
    {
     "data": {
      "text/latex": [
       "$0^\\circ00{}^\\prime05.0119{}^{\\prime\\prime}$"
      ],
      "text/plain": [
       "<Angle 0.00139219 deg>"
      ]
     },
     "execution_count": 115,
     "metadata": {},
     "output_type": "execute_result"
    }
   ],
   "source": [
    "c1.separation(c2)"
   ]
  },
  {
   "cell_type": "code",
   "execution_count": 113,
   "metadata": {},
   "outputs": [
    {
     "data": {
      "text/plain": [
       "-0.23805525403855737"
      ]
     },
     "execution_count": 113,
     "metadata": {},
     "output_type": "execute_result"
    }
   ],
   "source": [
    "dectemp.degree"
   ]
  },
  {
   "cell_type": "code",
   "execution_count": 118,
   "metadata": {},
   "outputs": [],
   "source": []
  },
  {
   "cell_type": "code",
   "execution_count": null,
   "metadata": {},
   "outputs": [],
   "source": [
    "b.hms[0],b.hms[1], b.hms[2],"
   ]
  }
 ],
 "metadata": {
  "kernelspec": {
   "display_name": "Python 3",
   "language": "python",
   "name": "python3"
  },
  "language_info": {
   "codemirror_mode": {
    "name": "ipython",
    "version": 3
   },
   "file_extension": ".py",
   "mimetype": "text/x-python",
   "name": "python",
   "nbconvert_exporter": "python",
   "pygments_lexer": "ipython3",
   "version": "3.8.5"
  }
 },
 "nbformat": 4,
 "nbformat_minor": 4
}
