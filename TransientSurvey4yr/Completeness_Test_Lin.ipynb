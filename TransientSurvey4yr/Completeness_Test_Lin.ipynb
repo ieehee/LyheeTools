{
 "cells": [
  {
   "cell_type": "code",
   "execution_count": 29,
   "metadata": {},
   "outputs": [
    {
     "data": {
      "text/plain": [
       "<module 'Table_Reader' from '/media/lyhee/Secdrive/TSmain/Pip_test/trigger_codes_github/Table_Reader.py'>"
      ]
     },
     "execution_count": 29,
     "metadata": {},
     "output_type": "execute_result"
    }
   ],
   "source": [
    "import Table_Reader as TR\n",
    "import LCCall as LCC\n",
    "import LCAnalyses as LCA\n",
    "import LCPlot as LCP\n",
    "import importlib\n",
    "import matplotlib.pyplot as plt\n",
    "import scipy.special as fc\n",
    "import random as rd\n",
    "import numpy as np\n",
    "importlib.reload(LCC)\n",
    "importlib.reload(LCA)\n",
    "importlib.reload(LCP)\n",
    "importlib.reload(TR)"
   ]
  },
  {
   "cell_type": "code",
   "execution_count": 10,
   "metadata": {},
   "outputs": [
    {
     "name": "stdout",
     "output_type": "stream",
     "text": [
      "0.6826894921370859\n",
      "0.821187207574909\n"
     ]
    }
   ],
   "source": [
    "print(fc.gammainc(0.5,0.5*1**2))\n",
    "print(fc.gammaincinv(0.5,0.8))"
   ]
  },
  {
   "cell_type": "code",
   "execution_count": 11,
   "metadata": {},
   "outputs": [
    {
     "data": {
      "text/plain": [
       "0.0223606797749979"
      ]
     },
     "execution_count": 11,
     "metadata": {},
     "output_type": "execute_result"
    }
   ],
   "source": [
    "fmean = 1.4\n",
    "np.sqrt(0.014**2 + (fmean*0.02)**2)/fmean"
   ]
  },
  {
   "cell_type": "code",
   "execution_count": 30,
   "metadata": {},
   "outputs": [],
   "source": [
    "input_dir = \"/mnt/Secdrive/TSmain/TSmain/\"\n",
    "rgs = ['IC348','NGC1333','NGC2024','NGC2068','OMC23','OPHCORE','SERPM','SERPS']\n",
    "rra  =[56.075, 52.225, 85.42083, 86.55417, 83.87917, 246.77083, 277.45417, 277.50833]\n",
    "rdec =[32.08306, 31.28111, -1.8975, -0.10139, -5.01056, -24.54361, 1.25556, -2.04667]\n",
    "#indices = np.where(np.sqrt(np.array(data.RAs)**2+np.array(data.DECs)**2)/60 < 18)\n",
    "%matplotlib tk\n",
    "output_dir= input_dir+\"Completeness_lin/\""
   ]
  },
  {
   "cell_type": "markdown",
   "metadata": {},
   "source": [
    "# 5-10 sec for SERPM for 1000 iter\n",
    "# ~0.6 min for OPHCORE for 10000 iter"
   ]
  },
  {
   "cell_type": "code",
   "execution_count": 21,
   "metadata": {},
   "outputs": [
    {
     "name": "stdout",
     "output_type": "stream",
     "text": [
      "IC348\n",
      "DONE!\n"
     ]
    },
    {
     "ename": "FileNotFoundError",
     "evalue": "[Errno 2] No such file or directory: '/mnt/Secdrive/TSmain/TSmain/IfyouNeed/NGC1333.tab'",
     "output_type": "error",
     "traceback": [
      "\u001b[0;31m---------------------------------------------------------------------------\u001b[0m",
      "\u001b[0;31mFileNotFoundError\u001b[0m                         Traceback (most recent call last)",
      "\u001b[0;32m<ipython-input-21-f710e6393c51>\u001b[0m in \u001b[0;36m<module>\u001b[0;34m\u001b[0m\n\u001b[1;32m     10\u001b[0m \u001b[0;34m\u001b[0m\u001b[0m\n\u001b[1;32m     11\u001b[0m     \u001b[0;32mif\u001b[0m \u001b[0mwriting\u001b[0m\u001b[0;34m:\u001b[0m\u001b[0;34m\u001b[0m\u001b[0;34m\u001b[0m\u001b[0m\n\u001b[0;32m---> 12\u001b[0;31m         \u001b[0mfile\u001b[0m \u001b[0;34m=\u001b[0m \u001b[0mopen\u001b[0m\u001b[0;34m(\u001b[0m\u001b[0moutput_dir\u001b[0m\u001b[0;34m+\u001b[0m\u001b[0mrgs\u001b[0m\u001b[0;34m[\u001b[0m\u001b[0mrgn\u001b[0m\u001b[0;34m]\u001b[0m\u001b[0;34m+\u001b[0m\u001b[0;34m\".tab\"\u001b[0m\u001b[0;34m,\u001b[0m\u001b[0;34m'w'\u001b[0m\u001b[0;34m)\u001b[0m\u001b[0;34m\u001b[0m\u001b[0;34m\u001b[0m\u001b[0m\n\u001b[0m\u001b[1;32m     13\u001b[0m         file.write(\"#Index\"+'\\t'+ \"C\"+'\\t'+\n\u001b[1;32m     14\u001b[0m                \u001b[0;34m\"T1\"\u001b[0m\u001b[0;34m+\u001b[0m\u001b[0;34m'\\t'\u001b[0m\u001b[0;34m+\u001b[0m\u001b[0;34m\"T2\"\u001b[0m\u001b[0;34m+\u001b[0m\u001b[0;34m'\\t'\u001b[0m\u001b[0;34m+\u001b[0m\u001b[0;34m\"T3\"\u001b[0m\u001b[0;34m+\u001b[0m\u001b[0;34m'\\t'\u001b[0m\u001b[0;34m+\u001b[0m\u001b[0;34m\"A2\"\u001b[0m\u001b[0;34m+\u001b[0m\u001b[0;34m'\\t'\u001b[0m\u001b[0;34m+\u001b[0m\u001b[0;34m\"A3\"\u001b[0m\u001b[0;34m+\u001b[0m\u001b[0;34m'\\t'\u001b[0m\u001b[0;34m+\u001b[0m\u001b[0;34m'\\t'\u001b[0m\u001b[0;34m+\u001b[0m\u001b[0;34m\"A4\"\u001b[0m\u001b[0;34m+\u001b[0m\u001b[0;34m'\\t'\u001b[0m\u001b[0;34m+\u001b[0m\u001b[0;34m\u001b[0m\u001b[0;34m\u001b[0m\u001b[0m\n",
      "\u001b[0;31mFileNotFoundError\u001b[0m: [Errno 2] No such file or directory: '/mnt/Secdrive/TSmain/TSmain/IfyouNeed/NGC1333.tab'"
     ]
    }
   ],
   "source": [
    "writing=1\n",
    "test = 0\n",
    "rgn = 6\n",
    "query = []\n",
    "Rst=[]\n",
    "\n",
    "#L = [k,freq,phase/2/np.pi,H_mean[-1],T1,T2,T3*2,A_n[0],A_n[1],A_n[2],chi_Null]\n",
    "for rgn in range(0,8):\n",
    "    #for freq in [0.1, 0.15, 0.2, 0.5,1,5]:\n",
    "\n",
    "    if writing:\n",
    "        file = open(output_dir+rgs[rgn]+\".tab\",'w')\n",
    "        file.write(\"#Index\"+'\\t'+ \"C\"+'\\t'+\n",
    "               \"T1\"+'\\t'+\"T2\"+'\\t'+\"T3\"+'\\t'+\"A2\"+'\\t'+\"A3\"+'\\t'+'\\t'+\"A4\"+'\\t'+\n",
    "               \"chi2_null\"+'\\t'+ \"chi2_null_det\"+\"\\n\")\n",
    "    Index = 1\n",
    "    counter = 1\n",
    "    plot = 0\n",
    "    Iter = 10000\n",
    "    thr = np.array([1e-2,1e-3,1e-4])\n",
    "    #output_dir = input_dir+\"IfyouNeed/\"\n",
    "    for i in range(rgn,rgn+1):\n",
    "        print(rgs[i])\n",
    "        data = TR.ReadTable(input_dir+'Data/'+rgs[i]+'_source_data.dat')\n",
    "        indices = [int(x) for x in data.Indices]\n",
    "        data.JDs = (np.array(data.JDs) - data.JDs[0])/365.25 # JD to relative yr\n",
    "        for k in range(0,Iter):\n",
    "            #freq = rd.uniform(freq_in[0],freq_in[1])\n",
    "            #freq = 0.15\n",
    "\n",
    "            #r_period = (np.max(data.JDs)-np.min(data.JDs))/freq\n",
    "            #freq = (np.max(data.JDs)-np.min(data.JDs))/period\n",
    "            #A_fid = np.exp(rd.uniform(A_fid_in[0],A_fid_in[1]))\n",
    "            #phase = rd.uniform(phase_in[0],phase_in[1])\n",
    "\n",
    "            j = 0\n",
    "\n",
    "            #phases = np.linspace(0,2*np.pi,10)[:-1]\n",
    "\n",
    "            #modelpar = [mean[jy/beam], freq[day], amp[jy/beam], iphase]\n",
    "\n",
    "            #fid_err = np.sqrt(0.014**2+(0.02*data.mean_pfluxes[j])**2)\n",
    "\n",
    "            num = len(data.pfluxes[j])\n",
    "            H_data = []\n",
    "            G = []\n",
    "            H_real = []\n",
    "            H_mean = []\n",
    "            for x in data.JDs:\n",
    "                G.append(rd.gauss(0,1))\n",
    "                H_real.append(x)\n",
    "                H_data.append(H_real[-1]+G[-1])\n",
    "            data.pfluxes[j] = np.array(H_data)\n",
    "            H_real = np.array(H_real)\n",
    "            H_mean.append(np.mean(H_real))\n",
    "            H_real = H_real-np.mean(H_real)-np.mean(G)\n",
    "            G = np.array(G)\n",
    "            T3 = np.sum(G**2)/num\n",
    "            T1 = np.sum((H_real)**2)/num\n",
    "            T2 = np.sum(G*H_real)/num\n",
    "            #T4 = A_fid\n",
    "\n",
    "\n",
    "            if not test:\n",
    "                #Null Hypothesis\n",
    "                chi2_Null = np.sum(abs(data.pfluxes[j]-np.mean(data.pfluxes[j]))**2)\n",
    "\n",
    "                #Periodogram\n",
    "                #ls_source = LCA.LCLombscargle(data.JDs,data.pfluxes[j],1)\n",
    "                #modelpar = ls_source.modelpara()\n",
    "                #FAP_Sin = ls_source.FAPs[np.where(ls_source.powers == np.max(ls_source.powers))][0]\n",
    "                JD_center = (min(data.JDs) + max(data.JDs)) / 2\n",
    "                #Power_Sin = np.max(ls_source.powers)\n",
    "                #P_Null = fc.gammainc((num-1)/2, chi2_Null/2)\n",
    "\n",
    "                #num_freqs=int(freq/dfreq)+1\n",
    "                alphas= (thr)**(-2/(num-2))\n",
    "                A_n = []\n",
    "                for alpha in alphas:\n",
    "                    a = T1\n",
    "                    b = T2*2\n",
    "                    c = T3*(1-alpha)\n",
    "                    A_n.append((-b+np.sqrt(b**2-4*a*c))/(2*a))\n",
    "\n",
    "                #Null Hypothesis when detected\n",
    "                chi2_Null_det = a*A_n[-1]**2+b*A_n[-1]+c\n",
    "                #if any(sum([checker1,checker2,checker3])): writing =1\n",
    "\n",
    "\n",
    "            L = [k, H_mean[-1], T1\n",
    "                 , T2*2, T3, A_n[0], A_n[1], \n",
    "                 A_n[2], chi2_Null/num,chi2_Null_det/num]\n",
    "\n",
    "            Rst.append(L)\n",
    "            L = [str(x)+'\\t' for x in L[:-1]]+[str(L[-1])]\n",
    "            if writing:\n",
    "                file.writelines(L)\n",
    "                file.write('\\n')\n",
    "            Index += 1\n",
    "        if writing:\n",
    "            file.close()\n",
    "        #print(freq)\n",
    "        print(\"DONE!\")\n",
    "#query = set(query)"
   ]
  },
  {
   "cell_type": "code",
   "execution_count": 298,
   "metadata": {},
   "outputs": [
    {
     "data": {
      "text/plain": [
       "<matplotlib.collections.PathCollection at 0x7f656bd45490>"
      ]
     },
     "execution_count": 298,
     "metadata": {},
     "output_type": "execute_result"
    }
   ],
   "source": [
    "H_data = []\n",
    "G = []\n",
    "H_real = []\n",
    "H_mean = []\n",
    "for x in data.JDs:\n",
    "    G.append(rd.gauss(0,1))\n",
    "    H_real.append(5*np.sin(2*np.pi*(0.1*x+0.0)))\n",
    "    H_data.append(H_real[-1]+G[-1])\n",
    "data.pfluxes[j] = np.array(H_data)\n",
    "\n",
    "plt.figure()\n",
    "plt.scatter(data.JDs,data.pfluxes[j])\n",
    "plt.scatter(data.JDs,H_real)"
   ]
  },
  {
   "cell_type": "code",
   "execution_count": null,
   "metadata": {},
   "outputs": [],
   "source": []
  },
  {
   "cell_type": "code",
   "execution_count": 36,
   "metadata": {},
   "outputs": [],
   "source": [
    "#output_dir = input_dir+'Completeness/'\n",
    "rgn=5\n",
    "a0 = np.loadtxt(output_dir + rgs[0] +\".tab\")\n",
    "a1 = np.loadtxt(output_dir + rgs[1] +\".tab\")\n",
    "a2 = np.loadtxt(output_dir + rgs[2] +\".tab\")\n",
    "a3 = np.loadtxt(output_dir + rgs[3] +\".tab\")\n",
    "a4 = np.loadtxt(output_dir + rgs[4] +\".tab\")\n",
    "a5 = np.loadtxt(output_dir + rgs[5] +\".tab\")\n",
    "a6 = np.loadtxt(output_dir + rgs[6] +\".tab\")\n",
    "a7 = np.loadtxt(output_dir + rgs[7] +\".tab\")\n",
    "a0 = TR.Columnread(a0)\n",
    "a1 = TR.Columnread(a1)\n",
    "a2 = TR.Columnread(a2)\n",
    "a3 = TR.Columnread(a3)\n",
    "a4 = TR.Columnread(a4)\n",
    "a5 = TR.Columnread(a5)\n",
    "a6 = TR.Columnread(a6)\n",
    "a7 = TR.Columnread(a7)\n",
    "\n",
    "\n",
    "\n"
   ]
  },
  {
   "cell_type": "code",
   "execution_count": 97,
   "metadata": {},
   "outputs": [],
   "source": [
    "\n",
    "a0_thr,a0_thr68, a0_thr50, a0_thr01 = np.sort(a0[7])[9900], np.sort(a0[7])[6800], np.sort(a0[7])[5000], np.sort(a0[7])[100]\n",
    "a1_thr,a1_thr68, a1_thr50, a1_thr01 = np.sort(a1[7])[9900], np.sort(a1[7])[6800], np.sort(a1[7])[5000], np.sort(a1[7])[100]\n",
    "a2_thr,a2_thr68, a2_thr50, a2_thr01 = np.sort(a2[7])[9900], np.sort(a2[7])[6800], np.sort(a2[7])[5000], np.sort(a2[7])[100]\n",
    "a3_thr,a3_thr68, a3_thr50, a3_thr01 = np.sort(a3[7])[9900], np.sort(a3[7])[6800], np.sort(a3[7])[5000], np.sort(a3[7])[100]\n",
    "a4_thr,a4_thr68, a4_thr50, a4_thr01 = np.sort(a4[7])[9900], np.sort(a4[7])[6800], np.sort(a4[7])[5000], np.sort(a4[7])[100]\n",
    "a5_thr,a5_thr68, a5_thr50, a5_thr01 = np.sort(a5[7])[9900], np.sort(a5[7])[6800], np.sort(a5[7])[5000], np.sort(a5[7])[100]\n",
    "a6_thr,a6_thr68, a6_thr50, a6_thr01 = np.sort(a6[7])[9900], np.sort(a6[7])[6800], np.sort(a6[7])[5000], np.sort(a6[7])[100]\n",
    "a7_thr,a7_thr68, a7_thr50, a7_thr01 = np.sort(a7[7])[9900], np.sort(a7[7])[6800], np.sort(a7[7])[5000], np.sort(a7[7])[100]\n"
   ]
  },
  {
   "cell_type": "code",
   "execution_count": 99,
   "metadata": {},
   "outputs": [
    {
     "name": "stdout",
     "output_type": "stream",
     "text": [
      "[1.1516945856226846, 0.7605933134332495, 0.6817261102696921, 0.3987472124760213]\n",
      "[1.134486360871549, 0.7541300025799637, 0.6752757331885132, 0.3945198651935258]\n",
      "[1.1044116526554133, 0.7513360039377689, 0.6702717747390778, 0.39313254583238255]\n",
      "[1.0930242365648666, 0.7379446433629253, 0.6617961984640698, 0.39218858856117245]\n",
      "[1.1776904665203012, 0.7886716792938105, 0.7076720096797632, 0.4197295868504352]\n",
      "[1.3884821116989043, 0.9354584778197295, 0.8397854826681016, 0.48899243211847016]\n",
      "[1.0514092740462166, 0.7037091526745984, 0.6306132732313603, 0.36886172641349174]\n",
      "[1.147937960356929, 0.7662426053312442, 0.6894059352623677, 0.4075349905931033]\n",
      "1.1561420810421081\n",
      "0.7747607348041613\n",
      "0.4079633685048253\n"
     ]
    }
   ],
   "source": [
    "\n",
    "print([a0_thr,a0_thr68, a0_thr50, a0_thr01])\n",
    "print([a1_thr,a1_thr68, a1_thr50, a1_thr01])\n",
    "print([a2_thr,a2_thr68, a2_thr50, a2_thr01])\n",
    "print([a3_thr,a3_thr68, a3_thr50, a3_thr01])\n",
    "print([a4_thr,a4_thr68, a4_thr50, a4_thr01])\n",
    "print([a5_thr,a5_thr68, a5_thr50, a5_thr01])\n",
    "print([a6_thr,a6_thr68, a6_thr50, a6_thr01])\n",
    "print([a7_thr,a7_thr68, a7_thr50, a7_thr01])\n",
    "print(np.mean([a0_thr,a1_thr,a2_thr,a3_thr,a4_thr,a5_thr,a6_thr,a7_thr]))\n",
    "print(np.mean([a0_thr68,a1_thr68,a2_thr68,a3_thr68,a4_thr68,a5_thr68,a6_thr68,a7_thr68]))\n",
    "\n",
    "print(np.mean([a0_thr01,a1_thr01,a2_thr01,a3_thr01,a4_thr01,a5_thr01,a6_thr01,a7_thr01]))"
   ]
  },
  {
   "cell_type": "code",
   "execution_count": 83,
   "metadata": {
    "scrolled": true
   },
   "outputs": [
    {
     "data": {
      "text/plain": [
       "Text(0.7, 0.8, '68%: 0.76')"
      ]
     },
     "execution_count": 83,
     "metadata": {},
     "output_type": "execute_result"
    }
   ],
   "source": [
    "plt.close()\n",
    "\n",
    "a = TR.Columnread(Rst)\n",
    "fig, ax = plt.subplots(2,1)\n",
    "for axis in ax:\n",
    "    axis.hist(a0[7],alpha=1)\n",
    "    #axis.hist(a1[7],alpha=0.3)\n",
    "    #axis.hist(a2[7],alpha=0.3)\n",
    "    #axis.hist(a3[7],alpha=0.3)\n",
    "    #axis.hist(a4[7],alpha=0.3)\n",
    "    #axis.hist(a5[7],alpha=0.3)\n",
    "    #axis.hist(a6[7],alpha=0.3)\n",
    "    #axis.hist(a7[7],alpha=0.3)\n",
    "    axis.set_ylim([0,4000])\n",
    "#ax[0].plot([a7_thr68,a7_thr68],[0,4000],color='red')\n",
    "#ax[0].plot([a6_thr68,a6_thr68],[0,4000],color='orange')\n",
    "#ax[0].plot([a5_thr68,a5_thr68],[0,4000],color='yellow')\n",
    "#ax[0].plot([a4_thr68,a4_thr68],[0,4000],color='green')\n",
    "#ax[0].plot([a3_thr68,a3_thr68],[0,4000],color='blue')\n",
    "#ax[0].plot([a2_thr68,a2_thr68],[0,4000],color='navy')\n",
    "#ax[0].plot([a1_thr68,a1_thr68],[0,4000],color='purple')\n",
    "ax[0].plot([a0_thr68,a0_thr68],[0,4000],color='black')\n",
    "#ax[1].plot([a7_thr,a7_thr],[0,4000],color='red')\n",
    "#ax[1].plot([a6_thr,a6_thr],[0,4000],color='orange')\n",
    "#ax[1].plot([a5_thr,a5_thr],[0,4000],color='yellow')\n",
    "#ax[1].plot([a4_thr,a4_thr],[0,4000],color='green')\n",
    "#ax[1].plot([a3_thr,a3_thr],[0,4000],color='blue')\n",
    "#ax[1].plot([a2_thr,a2_thr],[0,4000],color='navy')\n",
    "#ax[1].plot([a1_thr,a1_thr],[0,4000],color='purple')\n",
    "ax[1].plot([a0_thr,a0_thr],[0,4000],color='black')\n",
    "ax[1].set_xlabel(r\"$\\sigma_{fid}$\")\n",
    "ax[1].annotate(\"99%: 1.15\",xy=[0.7,0.3], xycoords='figure fraction')\n",
    "ax[0].annotate(\"68%: 0.76\",xy=[0.7,0.8], xycoords='figure fraction')\n",
    "#ax.scatter(a1[0][2],a1[6][2],alpha=0.1)\n",
    "#ax.scatter(a1[0][2],a1[5][2],alpha=0.1)"
   ]
  },
  {
   "cell_type": "code",
   "execution_count": 95,
   "metadata": {},
   "outputs": [
    {
     "data": {
      "text/plain": [
       "Text(0.48, 0.8, '68%: 0.76')"
      ]
     },
     "execution_count": 95,
     "metadata": {},
     "output_type": "execute_result"
    }
   ],
   "source": [
    "plt.close()\n",
    "\n",
    "a = TR.Columnread(Rst)\n",
    "fig, ax = plt.subplots()\n",
    "ax.hist(a0[7],alpha=1)\n",
    "ax.set_ylim([0,4000])\n",
    "ax.plot([a0_thr50,a0_thr50],[0,4000],color='grey')\n",
    "ax.plot([a0_thr68,a0_thr68],[0,4000],color='blue')\n",
    "ax.plot([a0_thr,a0_thr],[0,4000],color='red')\n",
    "ax.set_xlabel(r\"$\\sigma_{fid}$\")\n",
    "ax.annotate(\"50%: 0.68\",xy=[0.3,0.8], xycoords='figure fraction')\n",
    "ax.annotate(\"68%: 0.76\",xy=[0.48,0.8], xycoords='figure fraction')\n",
    "ax.annotate(\"99%: 1.15\",xy=[0.7,0.8], xycoords='figure fraction')"
   ]
  },
  {
   "cell_type": "code",
   "execution_count": 72,
   "metadata": {},
   "outputs": [
    {
     "data": {
      "text/plain": [
       "'/mnt/Secdrive/TSmain/TSmain/Completeness_lin/'"
      ]
     },
     "execution_count": 72,
     "metadata": {},
     "output_type": "execute_result"
    }
   ],
   "source": [
    "output_dir"
   ]
  },
  {
   "cell_type": "code",
   "execution_count": 81,
   "metadata": {},
   "outputs": [],
   "source": [
    "plt.savefig(output_dir+\"Linear_Completeness_68_99\"+\".pdf\")"
   ]
  },
  {
   "cell_type": "code",
   "execution_count": 96,
   "metadata": {},
   "outputs": [],
   "source": [
    "plt.savefig(output_dir+\"Linear_Completeness_IC348\"+\".pdf\")"
   ]
  },
  {
   "cell_type": "code",
   "execution_count": 8,
   "metadata": {},
   "outputs": [
    {
     "data": {
      "text/plain": [
       "<matplotlib.legend.Legend at 0x7f66d7245f10>"
      ]
     },
     "execution_count": 8,
     "metadata": {},
     "output_type": "execute_result"
    }
   ],
   "source": [
    "plt.close()\n",
    "fig, ax = plt.subplots()\n",
    "ax.set_xlabel('Phase')\n",
    "ax.set_ylabel('Sigma Level')\n",
    "ax.scatter(a1[2],a1[8],alpha=0.3,edgecolors='none',label=r'P=12')\n",
    "ax.scatter(a3[2],a3[8],alpha=0.3,edgecolors='none',label=r'P=8')\n",
    "ax.scatter(a5[2],a5[8],alpha=0.3,edgecolors='none',label=r'P=2')\n",
    "ax.legend()"
   ]
  },
  {
   "cell_type": "code",
   "execution_count": 152,
   "metadata": {},
   "outputs": [
    {
     "name": "stdout",
     "output_type": "stream",
     "text": [
      "2.14381044354215\n"
     ]
    }
   ],
   "source": [
    "a6_thr = np.sort(a6[8])[9900]\n",
    "print(a6_thr)"
   ]
  },
  {
   "cell_type": "code",
   "execution_count": 282,
   "metadata": {},
   "outputs": [],
   "source": [
    "fig, ax = plt.subplots(2,2)\n",
    "\n",
    "x = a7[2]\n",
    "y = a7[8]\n",
    "x2 = a8[2]\n",
    "y2 = a8[8]\n",
    "x3 = a1[2]\n",
    "y3 = a1[8]\n",
    "x4 = a4[2]\n",
    "y4 = a4[8]\n",
    "\n",
    "ax[0][0].scatter(x, y,marker='o',color='grey',edgecolors='none',alpha=0.2,s=20\n",
    "           ,label=r'P = 40 yr')\n",
    "ax[0][1].scatter(x2, y2,marker='o',color='orange',edgecolors='none', alpha=0.2,s=20\n",
    "          ,label=r'P = 24 yr')\n",
    "ax[1][0].scatter(x3, y3,marker='o',color='green',edgecolors='none', alpha=0.2,s=20\n",
    "          ,label=r'P = 12 yr')\n",
    "ax[1][1].scatter(x4, y4,marker='o',color='lightsteelblue',edgecolors='none', alpha=0.2,s=20\n",
    "          ,label=r'P = 4 yr')\n",
    "\n",
    "for axis in ax:\n",
    "    axis[0].label_outer()\n",
    "    axis[1].label_outer()\n",
    "    #axis[0].annotate(r\"Sub-mm\",xy=[0.35,0.8],xycoords='figure fraction',fontsize=15\n",
    "    #axis[0].set_ylabel(r\"Detectable Amp. [$\\sigma$]\")\n",
    "    #axis[1].set_ylabel(r\"Detectable Amp. [$\\sigma$]\")\n",
    "    axis[0].legend()\n",
    "    axis[1].legend()\n",
    "plt.tight_layout()"
   ]
  },
  {
   "cell_type": "code",
   "execution_count": 256,
   "metadata": {},
   "outputs": [
    {
     "data": {
      "text/plain": [
       "array([<matplotlib.axes._subplots.AxesSubplot object at 0x7f656e772090>,\n",
       "       <matplotlib.axes._subplots.AxesSubplot object at 0x7f655df52810>],\n",
       "      dtype=object)"
      ]
     },
     "execution_count": 256,
     "metadata": {},
     "output_type": "execute_result"
    }
   ],
   "source": [
    "axis"
   ]
  },
  {
   "cell_type": "code",
   "execution_count": 2,
   "metadata": {},
   "outputs": [
    {
     "ename": "NameError",
     "evalue": "name 'a1' is not defined",
     "output_type": "error",
     "traceback": [
      "\u001b[0;31m---------------------------------------------------------------------------\u001b[0m",
      "\u001b[0;31mNameError\u001b[0m                                 Traceback (most recent call last)",
      "\u001b[0;32m<ipython-input-2-28a48a854dfd>\u001b[0m in \u001b[0;36m<module>\u001b[0;34m\u001b[0m\n\u001b[1;32m      2\u001b[0m \u001b[0;31m# the random data\u001b[0m\u001b[0;34m\u001b[0m\u001b[0;34m\u001b[0m\u001b[0;34m\u001b[0m\u001b[0m\n\u001b[1;32m      3\u001b[0m \u001b[0;34m\u001b[0m\u001b[0m\n\u001b[0;32m----> 4\u001b[0;31m \u001b[0mx\u001b[0m \u001b[0;34m=\u001b[0m \u001b[0ma1\u001b[0m\u001b[0;34m[\u001b[0m\u001b[0;36m2\u001b[0m\u001b[0;34m]\u001b[0m\u001b[0;34m\u001b[0m\u001b[0;34m\u001b[0m\u001b[0m\n\u001b[0m\u001b[1;32m      5\u001b[0m \u001b[0my\u001b[0m \u001b[0;34m=\u001b[0m \u001b[0ma1\u001b[0m\u001b[0;34m[\u001b[0m\u001b[0;36m8\u001b[0m\u001b[0;34m]\u001b[0m\u001b[0;34m\u001b[0m\u001b[0;34m\u001b[0m\u001b[0m\n\u001b[1;32m      6\u001b[0m \u001b[0mx2\u001b[0m \u001b[0;34m=\u001b[0m \u001b[0ma2\u001b[0m\u001b[0;34m[\u001b[0m\u001b[0;36m2\u001b[0m\u001b[0;34m]\u001b[0m\u001b[0;34m\u001b[0m\u001b[0;34m\u001b[0m\u001b[0m\n",
      "\u001b[0;31mNameError\u001b[0m: name 'a1' is not defined"
     ]
    }
   ],
   "source": [
    "from mpl_toolkits.axes_grid1 import make_axes_locatable\n",
    "# the random data\n",
    "\n",
    "x = a1[2]\n",
    "y = a1[8]\n",
    "x2 = a2[2]\n",
    "y2 = a2[8]\n",
    "x3 = a3[2]\n",
    "y3 = a3[8]\n",
    "x4 = a5[2]\n",
    "y4 = a5[8]\n",
    "\n",
    "\n",
    "x = a7[2]\n",
    "y = a7[8]\n",
    "x2 = a8[2]\n",
    "y2 = a8[8]\n",
    "x3 = a1[2]\n",
    "y3 = a1[8]\n",
    "x4 = a4[2]\n",
    "y4 = a4[8]\n",
    "\n",
    "thr1 = np.sort(y)[9900]\n",
    "thr1_2 = np.sort(y)[6800]\n",
    "thr2 = np.sort(y2)[9900]\n",
    "thr3 = np.sort(y3)[9900]\n",
    "thr4 = np.sort(y4)[9900]\n",
    "print(a1_thr,a2_thr,a3_thr)\n",
    "fig, ax = plt.subplots(figsize=(8, 8))\n",
    "\n",
    "# the scatter plot:\n",
    "ax.scatter(x, y,marker='o',color='grey',edgecolors='none',alpha=0.2,s=20\n",
    "           ,label=r'P = 40 yr')\n",
    "ax.scatter(x2, y2,marker='o',color='orange',edgecolors='none', alpha=0.2,s=20\n",
    "          ,label=r'P = 24 yr')\n",
    "ax.scatter(x3, y3,marker='o',color='green',edgecolors='none', alpha=0.2,s=20\n",
    "          ,label=r'P = 12 yr')\n",
    "ax.scatter(x4, y4,marker='o',color='lightsteelblue',edgecolors='none', alpha=0.2,s=20\n",
    "          ,label=r'P = 4 yr')\n",
    "ax.plot([0,1],[thr1,thr1],'2--',color='grey')\n",
    "ax.plot([0,1],[thr2,thr2],'2--',color='orange')\n",
    "ax.plot([0,1],[thr3,thr3],'2--',color='green')\n",
    "ax.plot([0,1],[thr4,thr4],'2--',color='blue')\n",
    "#ax.scatter()\n",
    "\n",
    "ax.set_xlim(-0.02,1.02)\n",
    "ax.set_ylim(0,20)\n",
    "ax.set_xlabel(r\"Phase\",fontsize=12)\n",
    "ax.set_ylabel(r\"Detectable Amplitude ($\\sigma$)\",fontsize=12)\n",
    "ax.legend(loc='upper right')\n",
    "# Set aspect of the main axes.\n",
    "#ax.set_aspect(0.2)\n",
    "\n",
    "# create new axes on the right and on the top of the current axes\n",
    "divider = make_axes_locatable(ax)\n",
    "# below height and pad are in inches\n",
    "#ax_histx = divider.append_axes(\"top\", 1.0, pad=0.1, sharex=ax)\n",
    "ax_histy = divider.append_axes(\"right\", 1.0, pad=0.2, sharey=ax)\n",
    "\n",
    "# make some labels invisible\n",
    "#ax_histx.xaxis.set_tick_params(labelbottom=False)\n",
    "#ax_histx.xaxis.set_xscale(\"log\")\n",
    "ax_histy.yaxis.set_tick_params(labelleft=False)\n",
    "#ax_histy.yaxis.set_yscale(\"log\")\n",
    "\n",
    "# now determine nice limits by hand:\n",
    "#binwidth = 0.05\n",
    "binwidth = 0.3\n",
    "xymax = max(np.max(np.abs(x)), np.max(np.abs(y)))\n",
    "lim = (int(xymax/binwidth) + 1)*binwidth\n",
    "\n",
    "bins = np.arange(-lim, lim + binwidth, binwidth)\n",
    "#ax_histx.hist(x, bins=bins,histtype='step',color='black')\n",
    "ax_histy.hist(y, bins=bins,orientation='horizontal',histtype='step',color='black'\n",
    "             ,linewidth=2,density=0)\n",
    "ax_histy.plot([0,5000],[thr1,thr1],color='black')\n",
    "ax_histy.hist(y2, bins=bins,orientation='horizontal',histtype='step',color='orange'\n",
    "             ,linewidth=2,density=0)\n",
    "ax_histy.plot([0,5000],[thr2,thr2],color='orange')\n",
    "ax_histy.hist(y3, bins=bins,orientation='horizontal',histtype='step',color='green'\n",
    "             ,linewidth=2,density=0)\n",
    "ax_histy.plot([0,5000],[thr3,thr3],color='green')\n",
    "ax_histy.hist(y4, bins=bins,orientation='horizontal',histtype='step',color='blue'\n",
    "             ,linewidth=2,density=0)\n",
    "ax_histy.plot([0,5000],[thr4,thr4],color='blue')\n",
    "#ax_histy.plot([0,5000],[thr2,a4_thr],color='blue')\n",
    "#ax_histy.plot([0,5000],[thr3,a5_thr],color='violet')\n",
    "\n",
    "# the xaxis of ax_histx and yaxis of ax_histy are shared with ax,\n",
    "# thus there is no need to manually adjust the xlim and ylim of these\n",
    "# axis.\n",
    "#ax_histx.set_xscale(\"log\")\n",
    "#ax_histy.set_yscale(\"log\")\n",
    "\n",
    "#ax_histx.set_yscale(\"log\")\n",
    "#ax_histx.set_ylim([0.8, 110])\n",
    "#ax_histy.set_xscale(\"log\")\n",
    "ax_histy.set_xlim([0, 5000])\n",
    "#ax.set_ylim(5e-3,15)\n",
    "#ax.set_xlim(0.13,15)\n",
    "#ax_histx.set_ylim(0.13,15)\n",
    "#ax.plot([0.13,15],[5e-3,15],ls='--',color='grey')\n",
    "#ax_histy.set_xlim(5e-3,15)\n",
    "#ax_histx.set_yticks([0, 30, 60])\n",
    "#ax_histy.set_xticks([0, 30, 60])\n",
    "plt.show()"
   ]
  },
  {
   "cell_type": "code",
   "execution_count": 297,
   "metadata": {},
   "outputs": [],
   "source": [
    "plt.savefig(output_dir+\"Phase-DAmp-99per.pdf\")"
   ]
  },
  {
   "cell_type": "code",
   "execution_count": 191,
   "metadata": {},
   "outputs": [
    {
     "name": "stdout",
     "output_type": "stream",
     "text": [
      "4.304044731660869 2.6727313323731168 2.1264513357245467 2.356224133979633 2.503408287345745\n"
     ]
    }
   ],
   "source": [
    "rgn=5\n",
    "a1 = np.loadtxt(output_dir + rgs[rgn] +\"_period12.tab\")\n",
    "a2 = np.loadtxt(output_dir + rgs[rgn] +\"_period8.tab\")\n",
    "a3 = np.loadtxt(output_dir + rgs[rgn] +\"_period6.tab\")\n",
    "a4 = np.loadtxt(output_dir + rgs[rgn] +\"_period4.tab\")\n",
    "a5 = np.loadtxt(output_dir + rgs[rgn] +\"_period2.tab\")\n",
    "a6 = np.loadtxt(output_dir + rgs[rgn] +\"_period1.tab\")\n",
    "a1 = TR.Columnread(a1)\n",
    "a2 = TR.Columnread(a2)\n",
    "a3 = TR.Columnread(a3)\n",
    "a4 = TR.Columnread(a4)\n",
    "a5 = TR.Columnread(a5)\n",
    "a6 = TR.Columnread(a6)\n",
    "a1_thr = np.sort(a1[8])[9900]\n",
    "a2_thr = np.sort(a2[8])[9900]\n",
    "a3_thr = np.sort(a3[8])[9900]\n",
    "a4_thr = np.sort(a4[8])[9900]\n",
    "a5_thr = np.sort(a5[8])[9900]\n",
    "a6_thr = np.sort(a6[8])[9900]\n",
    "#print(a1_thr,a2_thr,a3_thr,a4_thr,a5_thr)"
   ]
  },
  {
   "cell_type": "code",
   "execution_count": null,
   "metadata": {},
   "outputs": [],
   "source": []
  },
  {
   "cell_type": "markdown",
   "metadata": {},
   "source": [
    "#a1 freq0.1_test.tab\")\n",
    "#a6 freq0.15_test.tab\")\n",
    "#a5 freq0.2.tab\")\n",
    "#a4 freq0.5.tab\")\n",
    "#a2 freq1.tab\")\n",
    "#a3 freq5.tab\")"
   ]
  },
  {
   "cell_type": "code",
   "execution_count": 14,
   "metadata": {},
   "outputs": [
    {
     "name": "stdout",
     "output_type": "stream",
     "text": [
      "IC348\n",
      "99%\n",
      "[18.12667122430125, 4.363723865021905, 2.6564658574561455, 1.963110908145642, 1.8633787432096465, 1.9570742328548625, 2.113938967958012]\n",
      "68%\n",
      "[4.214606787559613, 2.0099895532961747, 1.4396597823282016, 1.1920637264717708, 1.1625454074232229, 1.2360382122685971, 1.3267304197998113]\n",
      "NGC1333\n",
      "99%\n",
      "[17.930728478234045, 4.485424436740078, 2.725347312496146, 2.0001896496889295, 1.7738357933322366, 1.902602758487375, 2.050209410310074]\n",
      "68%\n",
      "[4.23464952099503, 2.013866900204387, 1.4238258956704817, 1.190035093070205, 1.1332324772791138, 1.2033654145553994, 1.305658911442305]\n",
      "NGC2024\n",
      "99%\n",
      "[19.17325291462955, 4.482956849815358, 2.796136720447572, 2.0224365319698303, 1.8067875089153251, 2.03822168088007, 2.1282718442157886]\n",
      "68%\n",
      "[4.16205014231341, 1.987152444271198, 1.4242518141986096, 1.1799625804112832, 1.150433778814641, 1.2394881901402761, 1.358912019487329]\n",
      "NGC2068\n",
      "99%\n",
      "[18.38806850456431, 4.391157401085747, 2.6129704911670157, 1.9960797500195304, 1.8002743349549006, 1.9465375367591085, 2.0566846615755585]\n",
      "68%\n",
      "[4.163858398041788, 1.97056700639774, 1.3862420946809246, 1.1709317023516526, 1.1278926337220871, 1.210807125221332, 1.315375019909873]\n",
      "OMC23\n",
      "99%\n",
      "[18.233760427073733, 4.689990155875786, 2.8431251645852202, 2.13129434589122, 1.9232555682183452, 2.098404683204827, 2.2189614228573156]\n",
      "68%\n",
      "[4.359021506660251, 2.0933881066078266, 1.495365265449135, 1.2636531037020813, 1.2296529266232525, 1.3215948061945553, 1.4182024980240207]\n",
      "OPHCORE\n",
      "99%\n",
      "[21.487228560356048, 5.408431170772432, 3.2767223309340685, 2.43129182565721, 2.0842810411734636, 2.351665170222648, 2.5475254077641365]\n",
      "68%\n",
      "[4.736829434067188, 2.3511306128327214, 1.7121733745499192, 1.416392047906371, 1.3278876767518475, 1.442773547147488, 1.5925364039840157]\n",
      "SERPM\n",
      "99%\n",
      "[18.817392593223488, 4.673801657760634, 2.683113712061837, 1.9135528455796014, 1.5193941663985464, 1.5471738485427025, 1.7120273271935107]\n",
      "68%\n",
      "[4.044556807918869, 1.921825605864558, 1.3322880975681346, 1.0654858515339563, 0.9244235015325869, 0.9881086606116035, 1.0534123553003418]\n",
      "SERPS\n",
      "99%\n",
      "[18.327049633749358, 4.961122231352389, 3.0230279304899543, 2.188577039768603, 1.8716253051007594, 1.9219515961759057, 2.0701195941742743]\n",
      "68%\n",
      "[4.254624611538121, 2.071298575745608, 1.5153616968355892, 1.2364422752193922, 1.1535305168918586, 1.2276676711177106, 1.3031711470518483]\n"
     ]
    },
    {
     "data": {
      "text/plain": [
       "<matplotlib.legend.Legend at 0x7f66dc24af50>"
      ]
     },
     "execution_count": 14,
     "metadata": {},
     "output_type": "execute_result"
    }
   ],
   "source": [
    "plt.close()\n",
    "fig, ax = plt.subplots()\n",
    "ax.set_xlabel('Period [yr]')\n",
    "ax.set_ylabel(r'Confident Detection level [$\\sigma$]')\n",
    "ax.set_ylim([1.2,6])\n",
    "xfreqs =np.array([0.1,0.15,0.2,0.5,1,5])\n",
    "xperiods = np.array([12,8,6,4,2,1])\n",
    "\n",
    "for rgn in range(0,8):\n",
    "    a1 = np.loadtxt(output_dir + rgs[rgn] +\"_period12.tab\")\n",
    "    a2 = np.loadtxt(output_dir + rgs[rgn] +\"_period8.tab\")\n",
    "    a3 = np.loadtxt(output_dir + rgs[rgn] +\"_period6.tab\")\n",
    "    a4 = np.loadtxt(output_dir + rgs[rgn] +\"_period4.tab\")\n",
    "    a5 = np.loadtxt(output_dir + rgs[rgn] +\"_period2.tab\")\n",
    "    a6 = np.loadtxt(output_dir + rgs[rgn] +\"_period1.tab\")\n",
    "    a7 = np.loadtxt(output_dir + rgs[rgn] +\"_period40.tab\")\n",
    "    a8 = np.loadtxt(output_dir + rgs[rgn] +\"_period24.tab\")\n",
    "    \n",
    "    a1 = TR.Columnread(a1)\n",
    "    a2 = TR.Columnread(a2)\n",
    "    a3 = TR.Columnread(a3)\n",
    "    a4 = TR.Columnread(a4)\n",
    "    a5 = TR.Columnread(a5)\n",
    "    a6 = TR.Columnread(a6)\n",
    "    a7 = TR.Columnread(a7)\n",
    "    a8 = TR.Columnread(a8)\n",
    "    a1_thr = np.sort(a1[8])[9900]\n",
    "    a2_thr = np.sort(a2[8])[9900]\n",
    "    a3_thr = np.sort(a3[8])[9900]\n",
    "    a4_thr = np.sort(a4[8])[9900]\n",
    "    a5_thr = np.sort(a5[8])[9900]\n",
    "    a6_thr = np.sort(a6[8])[9900]\n",
    "    a7_thr = np.sort(a7[8])[9900]\n",
    "    a8_thr = np.sort(a8[8])[9900]\n",
    "    \n",
    "    a1_thr2 = np.sort(a1[8])[6800]\n",
    "    a2_thr2 = np.sort(a2[8])[6800]\n",
    "    a3_thr2 = np.sort(a3[8])[6800]\n",
    "    a4_thr2 = np.sort(a4[8])[6800]\n",
    "    a5_thr2 = np.sort(a5[8])[6800]\n",
    "    a6_thr2 = np.sort(a6[8])[6800]\n",
    "    a7_thr2 = np.sort(a7[8])[6800]\n",
    "    a8_thr2 = np.sort(a8[8])[6800]\n",
    "    \n",
    "    print(rgs[rgn])\n",
    "    print(\"99%\")\n",
    "    print([a7_thr,a1_thr,a2_thr,a3_thr,a4_thr,a5_thr,a6_thr])\n",
    "    print(\"68%\")\n",
    "    print([a7_thr2,a1_thr2,a2_thr2,a3_thr2,a4_thr2,a5_thr2,a6_thr2])\n",
    "    #print(np.where(np.sort(a1[8])<a4_thr)[-1])\n",
    "    #print(np.where(np.sort(a2[8])<a4_thr)[-1])\n",
    "    thrs2= np.array([a1_thr2,a2_thr2,a3_thr2,a4_thr2,a5_thr2,a6_thr2])\n",
    "    thrs = np.array([a1_thr,a2_thr,a3_thr,a4_thr,a5_thr,a6_thr])\n",
    "    ax.errorbar(xperiods,thrs,fmt='o-',label=rgs[rgn])\n",
    "ax.legend()"
   ]
  },
  {
   "cell_type": "code",
   "execution_count": 10,
   "metadata": {},
   "outputs": [],
   "source": [
    "plt.savefig(input_dir+\"Completeness/\"+\"map_CDl.pdf\")"
   ]
  },
  {
   "cell_type": "code",
   "execution_count": null,
   "metadata": {},
   "outputs": [],
   "source": [
    "for rgn in range(0,8):\n",
    "    a1 = np.loadtxt(output_dir + rgs[rgn] +\"_period12.tab\")\n",
    "    a2 = np.loadtxt(output_dir + rgs[rgn] +\"_period8.tab\")\n",
    "    a1 = TR.Columnread(a1)\n",
    "    a2 = TR.Columnread(a2)"
   ]
  },
  {
   "cell_type": "code",
   "execution_count": 139,
   "metadata": {},
   "outputs": [],
   "source": [
    "plt.savefig(input_dir+\"Completeness/\"+\"Phase-Amp_diagram_more.pdf\")"
   ]
  },
  {
   "cell_type": "code",
   "execution_count": 108,
   "metadata": {},
   "outputs": [
    {
     "data": {
      "text/plain": [
       "<matplotlib.legend.Legend at 0x7f6571961150>"
      ]
     },
     "execution_count": 108,
     "metadata": {},
     "output_type": "execute_result"
    }
   ],
   "source": [
    "plt.close()\n",
    "fig, ax = plt.subplots()\n",
    "ax.set_xlabel('Chi-null')\n",
    "ax.set_ylabel('Number')\n",
    "binwidth = 0.1\n",
    "xymax = max(np.max(np.abs(x)), np.max(np.abs(y)))\n",
    "lim = (int(xymax/binwidth) + 1)*binwidth\n",
    "\n",
    "bins = np.arange(-lim, lim + binwidth, binwidth)\n",
    "ax.hist(a1[11], histtype='step',color='black'\n",
    "             ,linewidth=2,label=r'P=10$\\tau$')\n",
    "ax.hist(a2[11], histtype='step',color='orange'\n",
    "             ,linewidth=2,label=r'P=1$\\tau$')\n",
    "ax.hist(a3[11],histtype='step',color='green'\n",
    "             ,linewidth=2,label=r'P=0.2$\\tau$')\n",
    "ax.legend()"
   ]
  },
  {
   "cell_type": "code",
   "execution_count": 111,
   "metadata": {},
   "outputs": [],
   "source": [
    "plt.savefig(input_dir+\"Completeness/\"+\"chi2_null_hist.pdf\")"
   ]
  },
  {
   "cell_type": "code",
   "execution_count": 217,
   "metadata": {},
   "outputs": [],
   "source": [
    "plt.close()\n",
    "fig, ax = plt.subplots()\n",
    "x = np.linspace(0.14,1.4,101)\n",
    "\n",
    "ax.plot(x, np.sqrt(0.014**2+(0.02*x)**2))\n",
    "ax.plot(x, 2*np.sqrt(0.014**2+(0.02*x)**2))\n",
    "ax.plot(x, 3*np.sqrt(0.014**2+(0.02*x)**2))\n",
    "\n",
    "ax.set_xscale('log')"
   ]
  },
  {
   "cell_type": "code",
   "execution_count": 110,
   "metadata": {},
   "outputs": [
    {
     "data": {
      "text/plain": [
       "1.1022966728098704"
      ]
     },
     "execution_count": 110,
     "metadata": {},
     "output_type": "execute_result"
    }
   ],
   "source": [
    "a1[11][-1]"
   ]
  },
  {
   "cell_type": "code",
   "execution_count": null,
   "metadata": {},
   "outputs": [],
   "source": []
  }
 ],
 "metadata": {
  "kernelspec": {
   "display_name": "Python 3",
   "language": "python",
   "name": "python3"
  },
  "language_info": {
   "codemirror_mode": {
    "name": "ipython",
    "version": 3
   },
   "file_extension": ".py",
   "mimetype": "text/x-python",
   "name": "python",
   "nbconvert_exporter": "python",
   "pygments_lexer": "ipython3",
   "version": "3.7.6"
  }
 },
 "nbformat": 4,
 "nbformat_minor": 4
}
