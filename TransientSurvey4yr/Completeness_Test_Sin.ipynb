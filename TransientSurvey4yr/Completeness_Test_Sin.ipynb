{
 "cells": [
  {
   "cell_type": "code",
   "execution_count": 5,
   "metadata": {},
   "outputs": [
    {
     "data": {
      "text/plain": [
       "<module 'Table_Reader' from '/media/lyhee/Secdrive/TSmain/Pip_test/trigger_codes_github/Table_Reader.py'>"
      ]
     },
     "execution_count": 5,
     "metadata": {},
     "output_type": "execute_result"
    }
   ],
   "source": [
    "import Table_Reader as TR\n",
    "import LCCall as LCC\n",
    "import LCAnalyses as LCA\n",
    "import LCPlot as LCP\n",
    "import importlib\n",
    "import matplotlib.pyplot as plt\n",
    "import scipy.special as fc\n",
    "import random as rd\n",
    "import numpy as np\n",
    "importlib.reload(LCC)\n",
    "importlib.reload(LCA)\n",
    "importlib.reload(LCP)\n",
    "importlib.reload(TR)"
   ]
  },
  {
   "cell_type": "code",
   "execution_count": 2,
   "metadata": {},
   "outputs": [
    {
     "name": "stdout",
     "output_type": "stream",
     "text": [
      "0.6826894921370859\n",
      "0.821187207574909\n"
     ]
    }
   ],
   "source": [
    "print(fc.gammainc(0.5,0.5*1**2))\n",
    "print(fc.gammaincinv(0.5,0.8))"
   ]
  },
  {
   "cell_type": "code",
   "execution_count": 4,
   "metadata": {},
   "outputs": [
    {
     "data": {
      "text/plain": [
       "0.0223606797749979"
      ]
     },
     "execution_count": 4,
     "metadata": {},
     "output_type": "execute_result"
    }
   ],
   "source": [
    "fmean = 1.4\n",
    "np.sqrt(0.014**2 + (fmean*0.02)**2)/fmean"
   ]
  },
  {
   "cell_type": "code",
   "execution_count": 6,
   "metadata": {},
   "outputs": [],
   "source": [
    "input_dir = \"/mnt/Secdrive/TSmain/TSmain/\"\n",
    "rgs = ['IC348','NGC1333','NGC2024','NGC2068','OMC23','OPHCORE','SERPM','SERPS']\n",
    "rra  =[56.075, 52.225, 85.42083, 86.55417, 83.87917, 246.77083, 277.45417, 277.50833]\n",
    "rdec =[32.08306, 31.28111, -1.8975, -0.10139, -5.01056, -24.54361, 1.25556, -2.04667]\n",
    "#indices = np.where(np.sqrt(np.array(data.RAs)**2+np.array(data.DECs)**2)/60 < 18)\n",
    "%matplotlib tk"
   ]
  },
  {
   "cell_type": "code",
   "execution_count": 8,
   "metadata": {},
   "outputs": [],
   "source": [
    "freq_in = np.array([0.1, 10])\n",
    "A_fid_in = np.array([np.log10(0.5),np.log10(5)])\n",
    "phase_in = np.array([0,2*np.pi])\n"
   ]
  },
  {
   "cell_type": "markdown",
   "metadata": {},
   "source": [
    "# 5-10 sec for SERPM for 1000 iter\n",
    "# ~0.6 min for OPHCORE for 10000 iter"
   ]
  },
  {
   "cell_type": "code",
   "execution_count": 9,
   "metadata": {},
   "outputs": [
    {
     "name": "stdout",
     "output_type": "stream",
     "text": [
      "NGC1333\n",
      "2016-02-05T\n",
      "2017-12-08T\n",
      "2018-07-07T\n",
      "0.1\n",
      "DONE!\n"
     ]
    }
   ],
   "source": [
    "writing=1\n",
    "test = 0\n",
    "rgn = 6\n",
    "query = []\n",
    "Rst=[]\n",
    "\n",
    "#L = [k,freq,phase/2/np.pi,H_mean[-1],T1,T2,T3*2,A_n[0],A_n[1],A_n[2],chi_Null]\n",
    "for rgn in range(1,2):\n",
    "    #for freq in [0.1, 0.15, 0.2, 0.5,1,5]:\n",
    "    for period in [10,]:\n",
    "        if writing:\n",
    "            file = open(input_dir+\"Completeness/\"+rgs[rgn]+\"_period\"+str(period)+\"_new.tab\",'w')\n",
    "            file.write(\"#Index\"+'\\t'+ \"Freq\"+'\\t'+\"Phase\"+'\\t'+'P'+'\\t'+\"C\"+'\\t'+\n",
    "                   \"T1\"+'\\t'+\"T2\"+'\\t'+\"T3\"+'\\t'+\"A2\"+'\\t'+\"A3\"+'\\t'+'\\t'+\"A4\"+'\\t'+\n",
    "                   \"chi2_null\"+'\\t'+ \"chi2_null_det\"+\"\\n\")\n",
    "        Index = 1\n",
    "        counter = 1\n",
    "        plot = 0\n",
    "        Iter = 10000\n",
    "        thr = np.array([1e-2,1e-3,1e-4])\n",
    "        output_dir = input_dir+\"IfyouNeed/\"\n",
    "        for i in range(rgn,rgn+1):\n",
    "            print(rgs[i])\n",
    "            data = TR.ReadTable(input_dir+'Data/'+rgs[i]+'_source_data.dat')\n",
    "            indices = [int(x) for x in data.Indices]\n",
    "            data.JDs = (np.array(data.JDs) - data.JDs[0])/365.25\n",
    "            for k in range(0,Iter):\n",
    "                #freq = rd.uniform(freq_in[0],freq_in[1])\n",
    "                #freq = 0.15\n",
    "                \n",
    "                #r_period = (np.max(data.JDs)-np.min(data.JDs))/freq\n",
    "                #freq = (np.max(data.JDs)-np.min(data.JDs))/period\n",
    "                freq = 1/period\n",
    "                r_period=period\n",
    "                #A_fid = np.exp(rd.uniform(A_fid_in[0],A_fid_in[1]))\n",
    "                phase = rd.uniform(phase_in[0],phase_in[1])\n",
    "\n",
    "                j = 0\n",
    "\n",
    "                #phases = np.linspace(0,2*np.pi,10)[:-1]\n",
    "\n",
    "                #modelpar = [mean[jy/beam], freq[day], amp[jy/beam], iphase]\n",
    "\n",
    "                #fid_err = np.sqrt(0.014**2+(0.02*data.mean_pfluxes[j])**2)\n",
    "\n",
    "                num = len(data.pfluxes[j])\n",
    "                H_data = []\n",
    "                G = []\n",
    "                H_real = []\n",
    "                H_mean = []\n",
    "                for x in data.JDs:\n",
    "                    G.append(rd.gauss(0,1))\n",
    "                    H_real.append(np.sin(2*np.pi*freq*x+phase))\n",
    "                    H_data.append(H_real[-1]+G[-1])\n",
    "                data.pfluxes[j] = np.array(H_data)\n",
    "                H_real = np.array(H_real)\n",
    "                H_mean.append(np.mean(H_real))\n",
    "                H_real = H_real-np.mean(H_real)-np.mean(G)\n",
    "                G = np.array(G)\n",
    "                T3 = np.sum(G**2)/num\n",
    "                T1 = np.sum((H_real)**2)/num\n",
    "                T2 = np.sum(G*H_real)/num\n",
    "                #T4 = A_fid\n",
    "\n",
    "\n",
    "                if not test:\n",
    "                    #Null Hypothesis\n",
    "                    chi2_Null = np.sum(abs(data.pfluxes[j]-np.mean(data.pfluxes[j]))**2)\n",
    "\n",
    "                    #Periodogram\n",
    "                    ls_source = LCA.LCLombscargle(data.JDs,data.pfluxes[j],1)\n",
    "                    modelpar = ls_source.modelpara()\n",
    "                    FAP_Sin = ls_source.FAPs[np.where(ls_source.powers == np.max(ls_source.powers))][0]\n",
    "                    JD_center = (min(data.JDs) + max(data.JDs)) / 2\n",
    "                    Power_Sin = np.max(ls_source.powers)\n",
    "                    #P_Null = fc.gammainc((num-1)/2, chi2_Null/2)\n",
    "\n",
    "                    FAP_Sin_single = ls_source.FAP_single\n",
    "                    #modelpar = [mean[jy/beam], freq[day], amp[jy/beam], iphase]\n",
    "                    #sinfit = ls_source.mulsin(data.JDs, modelpar)\n",
    "                    #P_Sin = fc.gammainc((num-3)/2, chi2_Sin/2)\n",
    "                    #data_Sin = np.array(data.pfluxes[j])-sinfit\n",
    "                    #period = np.round(1/modelpar[1])\n",
    "                    freq_min = np.min(ls_source.freqs)\n",
    "                    freq_max = np.max(ls_source.freqs)\n",
    "                    dfreq = ls_source.freqs[1]-ls_source.freqs[0]\n",
    "\n",
    "                    num_freqs=int(freq/dfreq)+1\n",
    "                    alphas= (thr/num_freqs)**(-2/(num-3))\n",
    "                    A_n = []\n",
    "                    for alpha in alphas:\n",
    "                        a = T1\n",
    "                        b = T2*2\n",
    "                        c = T3*(1-alpha)\n",
    "                        A_n.append((-b+np.sqrt(b**2-4*a*c))/(2*a))\n",
    "\n",
    "                    #Null Hypothesis when detected\n",
    "                    chi2_Null_det = a*A_n[-1]**2+b*A_n[-1]+c\n",
    "                    #if any(sum([checker1,checker2,checker3])): writing =1\n",
    "\n",
    "\n",
    "                L = [k, freq, phase/2/np.pi \n",
    "                     ,r_period, H_mean[-1], T1\n",
    "                     , T2*2, T3, A_n[0]\n",
    "                     , A_n[1], A_n[2], chi2_Null/num,chi2_Null_det/num]\n",
    "                Rst.append(L)\n",
    "                L = [str(x)+'\\t' for x in L[:-1]]+[str(L[-1])]\n",
    "                if writing:\n",
    "                    file.writelines(L)\n",
    "                    file.write('\\n')\n",
    "                Index += 1\n",
    "            if writing:\n",
    "                file.close()\n",
    "            print(freq)\n",
    "            print(\"DONE!\")\n",
    "#query = set(query)"
   ]
  },
  {
   "cell_type": "code",
   "execution_count": 10,
   "metadata": {},
   "outputs": [
    {
     "data": {
      "text/plain": [
       "[<matplotlib.lines.Line2D at 0x7f7ed643d8d0>]"
      ]
     },
     "execution_count": 10,
     "metadata": {},
     "output_type": "execute_result"
    }
   ],
   "source": [
    "#(1e-3/num_freqs)**(-2/(num-3))\n",
    "x= np.linspace(10,50,41)\n",
    "plt.close()\n",
    "plt.plot(x,[(0.001/20)**(-2/(t-3)) for t in x])"
   ]
  },
  {
   "cell_type": "code",
   "execution_count": 50,
   "metadata": {},
   "outputs": [
    {
     "data": {
      "text/plain": [
       "0.001"
      ]
     },
     "execution_count": 50,
     "metadata": {},
     "output_type": "execute_result"
    }
   ],
   "source": [
    "1e-3"
   ]
  },
  {
   "cell_type": "code",
   "execution_count": 298,
   "metadata": {},
   "outputs": [
    {
     "data": {
      "text/plain": [
       "<matplotlib.collections.PathCollection at 0x7f656bd45490>"
      ]
     },
     "execution_count": 298,
     "metadata": {},
     "output_type": "execute_result"
    }
   ],
   "source": [
    "H_data = []\n",
    "G = []\n",
    "H_real = []\n",
    "H_mean = []\n",
    "for x in data.JDs:\n",
    "    G.append(rd.gauss(0,1))\n",
    "    H_real.append(5*np.sin(2*np.pi*(0.1*x+0.0)))\n",
    "    H_data.append(H_real[-1]+G[-1])\n",
    "data.pfluxes[j] = np.array(H_data)\n",
    "\n",
    "plt.figure()\n",
    "plt.scatter(data.JDs,data.pfluxes[j])\n",
    "plt.scatter(data.JDs,H_real)"
   ]
  },
  {
   "cell_type": "code",
   "execution_count": 11,
   "metadata": {},
   "outputs": [],
   "source": [
    "output_dir = input_dir+'Completeness/'\n",
    "rgn=5\n",
    "a1 = np.loadtxt(output_dir + rgs[rgn] +\"_freq0.1.tab\")\n",
    "a2 = np.loadtxt(output_dir + rgs[rgn] +\"_freq0.15.tab\")\n",
    "a3 = np.loadtxt(output_dir + rgs[rgn] +\"_freq0.2.tab\")\n",
    "a4 = np.loadtxt(output_dir + rgs[rgn] +\"_freq0.5.tab\")\n",
    "a5 = np.loadtxt(output_dir +  rgs[rgn] +\"_freq1.tab\")\n",
    "a6 =np.loadtxt(output_dir + rgs[rgn] +\"_freq5.tab\")\n",
    "a1 = TR.Columnread(a1)\n",
    "a2 = TR.Columnread(a2)\n",
    "a3 = TR.Columnread(a3)\n",
    "a4 = TR.Columnread(a4)\n",
    "a5 = TR.Columnread(a5)\n",
    "a6 = TR.Columnread(a6)"
   ]
  },
  {
   "cell_type": "code",
   "execution_count": 13,
   "metadata": {},
   "outputs": [],
   "source": [
    "output_dir = input_dir+'Completeness/'\n",
    "rgn=6\n",
    "a1 = np.loadtxt(output_dir + rgs[rgn] +\"_period12.tab\")\n",
    "a2 = np.loadtxt(output_dir + rgs[rgn] +\"_period8.tab\")\n",
    "a3 = np.loadtxt(output_dir + rgs[rgn] +\"_period6.tab\")\n",
    "a4 = np.loadtxt(output_dir + rgs[rgn] +\"_period4.tab\")\n",
    "a5 = np.loadtxt(output_dir +  rgs[rgn] +\"_period2.tab\")\n",
    "a6 =np.loadtxt(output_dir + rgs[rgn] +\"_period1.tab\")\n",
    "a7 =np.loadtxt(output_dir + rgs[rgn] +\"_period40.tab\")\n",
    "a8 =np.loadtxt(output_dir + rgs[rgn] +\"_period24.tab\")\n",
    "a1 = TR.Columnread(a1)\n",
    "a2 = TR.Columnread(a2)\n",
    "a3 = TR.Columnread(a3)\n",
    "a4 = TR.Columnread(a4)\n",
    "a5 = TR.Columnread(a5)\n",
    "a6 = TR.Columnread(a6)\n",
    "a7 = TR.Columnread(a7)\n",
    "a8 = TR.Columnread(a8)\n",
    "a1_thr = np.sort(a1[8])[9900]\n",
    "a2_thr = np.sort(a2[8])[9900]\n",
    "a3_thr = np.sort(a3[8])[9900]\n",
    "a4_thr = np.sort(a4[8])[9900]\n",
    "a5_thr = np.sort(a5[8])[9900]\n",
    "a6_thr = np.sort(a6[8])[9900]\n",
    "a7_thr = np.sort(a7[8])[9900]\n",
    "a8_thr = np.sort(a8[8])[9900]"
   ]
  },
  {
   "cell_type": "code",
   "execution_count": 144,
   "metadata": {},
   "outputs": [
    {
     "data": {
      "text/plain": [
       "0.2"
      ]
     },
     "execution_count": 144,
     "metadata": {},
     "output_type": "execute_result"
    }
   ],
   "source": [
    "a5[1][0]"
   ]
  },
  {
   "cell_type": "code",
   "execution_count": 215,
   "metadata": {
    "scrolled": true
   },
   "outputs": [
    {
     "data": {
      "text/plain": [
       "(array([[  6., 106., 328., 298., 138.,  70.,  28.,   9.,   5.,   0.],\n",
       "        [  9., 162., 363., 276., 119.,  56.,  18.,  10.,   2.,   0.],\n",
       "        [206., 617., 178.,  21.,   1.,   0.,   0.,   0.,   0.,   0.],\n",
       "        [390., 537.,  54.,   2.,   0.,   0.,   0.,   0.,   0.,   0.],\n",
       "        [167., 615., 227.,  35.,   2.,   0.,   0.,   0.,   0.,   0.],\n",
       "        [  1., 116., 322., 280., 148.,  62.,  21.,   8.,   1.,   2.],\n",
       "        [  2., 144., 344., 239., 127.,  54.,  15.,   6.,   1.,   2.],\n",
       "        [175., 600., 184.,  22.,   1.,   0.,   0.,   0.,   0.,   0.],\n",
       "        [401., 606.,  64.,   1.,   0.,   0.,   0.,   0.,   0.,   0.],\n",
       "        [158., 600., 203.,  29.,   6.,   0.,   0.,   0.,   0.,   0.]]),\n",
       " array([1.70610650e-04, 1.00137706e-01, 2.00104802e-01, 3.00071897e-01,\n",
       "        4.00038993e-01, 5.00006088e-01, 5.99973184e-01, 6.99940279e-01,\n",
       "        7.99907375e-01, 8.99874471e-01, 9.99841566e-01]),\n",
       " array([0.41719084, 1.21032028, 2.00344972, 2.79657916, 3.5897086 ,\n",
       "        4.38283804, 5.17596748, 5.96909692, 6.76222636, 7.55535581,\n",
       "        8.34848525]),\n",
       " <matplotlib.collections.QuadMesh at 0x7f655f7c8350>)"
      ]
     },
     "execution_count": 215,
     "metadata": {},
     "output_type": "execute_result"
    }
   ],
   "source": [
    "plt.close()\n",
    "\n",
    "a = TR.Columnread(Rst)\n",
    "fig, ax = plt.subplots()\n",
    "ax.hist2d(a1[2],a1[8])"
   ]
  },
  {
   "cell_type": "code",
   "execution_count": 14,
   "metadata": {},
   "outputs": [
    {
     "data": {
      "text/plain": [
       "<matplotlib.legend.Legend at 0x7f7ed32b1f50>"
      ]
     },
     "execution_count": 14,
     "metadata": {},
     "output_type": "execute_result"
    }
   ],
   "source": [
    "plt.close()\n",
    "fig, ax = plt.subplots()\n",
    "ax.set_xlabel('Phase')\n",
    "ax.set_ylabel('Sigma Level')\n",
    "ax.scatter(a1[2],a1[8],alpha=0.3,edgecolors='none',label=r'P=12')\n",
    "ax.scatter(a3[2],a3[8],alpha=0.3,edgecolors='none',label=r'P=8')\n",
    "ax.scatter(a5[2],a5[8],alpha=0.3,edgecolors='none',label=r'P=2')\n",
    "ax.legend()"
   ]
  },
  {
   "cell_type": "code",
   "execution_count": 152,
   "metadata": {},
   "outputs": [
    {
     "name": "stdout",
     "output_type": "stream",
     "text": [
      "2.14381044354215\n"
     ]
    }
   ],
   "source": [
    "a6_thr = np.sort(a6[8])[9900]\n",
    "print(a6_thr)"
   ]
  },
  {
   "cell_type": "code",
   "execution_count": 15,
   "metadata": {},
   "outputs": [],
   "source": [
    "fig, ax = plt.subplots(2,2)\n",
    "\n",
    "x = a7[2]\n",
    "y = a7[8]\n",
    "x2 = a8[2]\n",
    "y2 = a8[8]\n",
    "x3 = a1[2]\n",
    "y3 = a1[8]\n",
    "x4 = a4[2]\n",
    "y4 = a4[8]\n",
    "\n",
    "ax[0][0].scatter(x, y,marker='o',color='grey',edgecolors='none',alpha=0.2,s=20\n",
    "           ,label=r'P = 40 yr')\n",
    "ax[0][1].scatter(x2, y2,marker='o',color='orange',edgecolors='none', alpha=0.2,s=20\n",
    "          ,label=r'P = 24 yr')\n",
    "ax[1][0].scatter(x3, y3,marker='o',color='green',edgecolors='none', alpha=0.2,s=20\n",
    "          ,label=r'P = 12 yr')\n",
    "ax[1][1].scatter(x4, y4,marker='o',color='lightsteelblue',edgecolors='none', alpha=0.2,s=20\n",
    "          ,label=r'P = 4 yr')\n",
    "\n",
    "for axis in ax:\n",
    "    axis[0].label_outer()\n",
    "    axis[1].label_outer()\n",
    "    #axis[0].annotate(r\"Sub-mm\",xy=[0.35,0.8],xycoords='figure fraction',fontsize=15\n",
    "    #axis[0].set_ylabel(r\"Detectable Amp. [$\\sigma$]\")\n",
    "    #axis[1].set_ylabel(r\"Detectable Amp. [$\\sigma$]\")\n",
    "    axis[0].legend()\n",
    "    axis[1].legend()\n",
    "plt.tight_layout()"
   ]
  },
  {
   "cell_type": "code",
   "execution_count": 256,
   "metadata": {},
   "outputs": [
    {
     "data": {
      "text/plain": [
       "array([<matplotlib.axes._subplots.AxesSubplot object at 0x7f656e772090>,\n",
       "       <matplotlib.axes._subplots.AxesSubplot object at 0x7f655df52810>],\n",
       "      dtype=object)"
      ]
     },
     "execution_count": 256,
     "metadata": {},
     "output_type": "execute_result"
    }
   ],
   "source": [
    "axis"
   ]
  },
  {
   "cell_type": "code",
   "execution_count": 16,
   "metadata": {},
   "outputs": [
    {
     "name": "stdout",
     "output_type": "stream",
     "text": [
      "4.673801657760634 2.683113712061837 1.9135528455796014\n"
     ]
    }
   ],
   "source": [
    "from mpl_toolkits.axes_grid1 import make_axes_locatable\n",
    "# the random data\n",
    "\n",
    "x = a1[2]\n",
    "y = a1[8]\n",
    "x2 = a2[2]\n",
    "y2 = a2[8]\n",
    "x3 = a3[2]\n",
    "y3 = a3[8]\n",
    "x4 = a5[2]\n",
    "y4 = a5[8]\n",
    "\n",
    "\n",
    "x = a7[2]\n",
    "y = a7[8]\n",
    "y = a7[6]\n",
    "\n",
    "x2 = a8[2]\n",
    "y2 = a8[8]\n",
    "x3 = a1[2]\n",
    "y3 = a1[8]\n",
    "x4 = a4[2]\n",
    "y4 = a4[8]\n",
    "\n",
    "thr1 = np.sort(y)[9900]\n",
    "thr1_2 = np.sort(y)[6800]\n",
    "thr2 = np.sort(y2)[9900]\n",
    "thr3 = np.sort(y3)[9900]\n",
    "thr4 = np.sort(y4)[9900]\n",
    "print(a1_thr,a2_thr,a3_thr)\n",
    "fig, ax = plt.subplots(figsize=(8, 8))\n",
    "\n",
    "# the scatter plot:\n",
    "ax.scatter(x, y,marker='o',color='grey',edgecolors='none',alpha=0.2,s=20\n",
    "           ,label=r'P = 40 yr')\n",
    "ax.scatter(x2, y2,marker='o',color='orange',edgecolors='none', alpha=0.2,s=20\n",
    "          ,label=r'P = 24 yr')\n",
    "ax.scatter(x3, y3,marker='o',color='green',edgecolors='none', alpha=0.2,s=20\n",
    "          ,label=r'P = 12 yr')\n",
    "ax.scatter(x4, y4,marker='o',color='lightsteelblue',edgecolors='none', alpha=0.2,s=20\n",
    "          ,label=r'P = 4 yr')\n",
    "ax.plot([-0.01,1.01],[thr1,thr1],'2--',color='grey')\n",
    "ax.plot([-0.01,1.01],[thr2,thr2],'2--',color='orange')\n",
    "ax.plot([-0.01,1.01],[thr3,thr3],'2--',color='green')\n",
    "ax.plot([-0.01,1.01],[thr4,thr4],'2--',color='blue')\n",
    "#ax.scatter()\n",
    "\n",
    "ax.set_xlim(-0.01,1.02)\n",
    "ax.set_ylim(0,20)\n",
    "ax.set_xlabel(r\"Phase\",fontsize=14)\n",
    "ax.set_ylabel(r\"Detectable Amplitude ($\\sigma$)\",fontsize=14)\n",
    "ax.legend(loc='upper right')\n",
    "ax.tick_params(labelsize=13)\n",
    "\n",
    "# Set aspect of the main axes.\n",
    "#ax.set_aspect(0.2)\n",
    "\n",
    "# create new axes on the right and on the top of the current axes\n",
    "divider = make_axes_locatable(ax)\n",
    "# below height and pad are in inches\n",
    "#ax_histx = divider.append_axes(\"top\", 1.0, pad=0.1, sharex=ax)\n",
    "ax_histy = divider.append_axes(\"right\", 1.0, pad=0.2, sharey=ax)\n",
    "\n",
    "# make some labels invisible\n",
    "#ax_histx.xaxis.set_tick_params(labelbottom=False)\n",
    "#ax_histx.xaxis.set_xscale(\"log\")\n",
    "ax_histy.yaxis.set_tick_params(labelleft=False)\n",
    "#ax_histy.yaxis.set_yscale(\"log\")\n",
    "\n",
    "# now determine nice limits by hand:\n",
    "#binwidth = 0.05\n",
    "binwidth = 0.3\n",
    "xymax = max(np.max(np.abs(x)), np.max(np.abs(y)))\n",
    "lim = (int(xymax/binwidth) + 1)*binwidth\n",
    "\n",
    "bins = np.arange(-lim, lim + binwidth, binwidth)\n",
    "#ax_histx.hist(x, bins=bins,histtype='step',color='black')\n",
    "ax_histy.hist(y, bins=bins,orientation='horizontal',histtype='step',color='black'\n",
    "             ,linewidth=2,density=0)\n",
    "ax_histy.plot([0,10000],[thr1,thr1],color='black',ls='--')\n",
    "ax_histy.hist(y2, bins=bins,orientation='horizontal',histtype='step',color='orange'\n",
    "             ,linewidth=2,density=0)\n",
    "ax_histy.plot([0,10000],[thr2,thr2],color='orange',ls='--')\n",
    "ax_histy.hist(y3, bins=bins,orientation='horizontal',histtype='step',color='green'\n",
    "             ,linewidth=2,density=0)\n",
    "ax_histy.plot([0,10000],[thr3,thr3],color='green',ls='--')\n",
    "ax_histy.hist(y4, bins=bins,orientation='horizontal',histtype='step',color='blue'\n",
    "             ,linewidth=2,density=0)\n",
    "ax_histy.plot([0,10000],[thr4,thr4],color='blue',ls='--')\n",
    "#ax_histy.plot([0,5000],[thr2,a4_thr],color='blue')\n",
    "#ax_histy.plot([0,5000],[thr3,a5_thr],color='violet')\n",
    "\n",
    "# the xaxis of ax_histx and yaxis of ax_histy are shared with ax,\n",
    "# thus there is no need to manually adjust the xlim and ylim of these\n",
    "# axis.\n",
    "#ax_histx.set_xscale(\"log\")\n",
    "#ax_histy.set_yscale(\"log\")\n",
    "\n",
    "#ax_histx.set_yscale(\"log\")\n",
    "#ax_histx.set_ylim([0.8, 110])\n",
    "ax_histy.set_xscale(\"log\")\n",
    "ax_histy.set_xlim([0.8, 10000])\n",
    "#ax.set_ylim(5e-3,15)\n",
    "#ax.set_xlim(0.13,15)\n",
    "#ax_histx.set_ylim(0.13,15)\n",
    "#ax.plot([0.13,15],[5e-3,15],ls='--',color='grey')\n",
    "#ax_histy.set_xlim(5e-3,15)\n",
    "#ax_histx.set_yticks([0, 30, 60])\n",
    "#ax_histy.set_xticks([0, 30, 60])\n",
    "plt.show()"
   ]
  },
  {
   "cell_type": "code",
   "execution_count": 22,
   "metadata": {},
   "outputs": [],
   "source": [
    "plt.savefig(output_dir+\"Phase-DAmp-99per.pdf\")"
   ]
  },
  {
   "cell_type": "code",
   "execution_count": 17,
   "metadata": {},
   "outputs": [],
   "source": [
    "rgn=5\n",
    "a1 = np.loadtxt(output_dir + rgs[rgn] +\"_period12.tab\")\n",
    "a2 = np.loadtxt(output_dir + rgs[rgn] +\"_period8.tab\")\n",
    "a3 = np.loadtxt(output_dir + rgs[rgn] +\"_period6.tab\")\n",
    "a4 = np.loadtxt(output_dir + rgs[rgn] +\"_period4.tab\")\n",
    "a5 = np.loadtxt(output_dir + rgs[rgn] +\"_period2.tab\")\n",
    "a6 = np.loadtxt(output_dir + rgs[rgn] +\"_period1.tab\")\n",
    "a1 = TR.Columnread(a1)\n",
    "a2 = TR.Columnread(a2)\n",
    "a3 = TR.Columnread(a3)\n",
    "a4 = TR.Columnread(a4)\n",
    "a5 = TR.Columnread(a5)\n",
    "a6 = TR.Columnread(a6)\n",
    "a1_thr = np.sort(a1[8])[9900]\n",
    "a2_thr = np.sort(a2[8])[9900]\n",
    "a3_thr = np.sort(a3[8])[9900]\n",
    "a4_thr = np.sort(a4[8])[9900]\n",
    "a5_thr = np.sort(a5[8])[9900]\n",
    "a6_thr = np.sort(a6[8])[9900]\n",
    "#print(a1_thr,a2_thr,a3_thr,a4_thr,a5_thr)"
   ]
  },
  {
   "cell_type": "code",
   "execution_count": null,
   "metadata": {},
   "outputs": [],
   "source": []
  },
  {
   "cell_type": "markdown",
   "metadata": {},
   "source": [
    "#a1 freq0.1_test.tab\")\n",
    "#a6 freq0.15_test.tab\")\n",
    "#a5 freq0.2.tab\")\n",
    "#a4 freq0.5.tab\")\n",
    "#a2 freq1.tab\")\n",
    "#a3 freq5.tab\")"
   ]
  },
  {
   "cell_type": "code",
   "execution_count": 19,
   "metadata": {},
   "outputs": [
    {
     "name": "stdout",
     "output_type": "stream",
     "text": [
      "IC348\n",
      "[4.363723865021905, 2.6564658574561455, 1.963110908145642, 1.8633787432096465, 1.9570742328548625, 2.113938967958012]\n",
      "[2.0099895532961747, 1.4396597823282016, 1.1920637264717708, 1.1625454074232229, 1.2360382122685971, 1.3267304197998113]\n"
     ]
    },
    {
     "ename": "OSError",
     "evalue": "/mnt/Secdrive/TSmain/TSmain/Completeness/NGC1333_period12_test.tab not found.",
     "output_type": "error",
     "traceback": [
      "\u001b[0;31m---------------------------------------------------------------------------\u001b[0m",
      "\u001b[0;31mOSError\u001b[0m                                   Traceback (most recent call last)",
      "\u001b[0;32m<ipython-input-19-59798b7ec223>\u001b[0m in \u001b[0;36m<module>\u001b[0;34m\u001b[0m\n\u001b[1;32m     11\u001b[0m     \u001b[0;32mif\u001b[0m \u001b[0mrgn\u001b[0m \u001b[0;34m==\u001b[0m \u001b[0;36m1\u001b[0m\u001b[0;34m:\u001b[0m\u001b[0;34m\u001b[0m\u001b[0;34m\u001b[0m\u001b[0m\n\u001b[1;32m     12\u001b[0m         \u001b[0mtext\u001b[0m \u001b[0;34m=\u001b[0m \u001b[0;34m\"_test\"\u001b[0m\u001b[0;34m\u001b[0m\u001b[0;34m\u001b[0m\u001b[0m\n\u001b[0;32m---> 13\u001b[0;31m     \u001b[0ma1\u001b[0m \u001b[0;34m=\u001b[0m \u001b[0mnp\u001b[0m\u001b[0;34m.\u001b[0m\u001b[0mloadtxt\u001b[0m\u001b[0;34m(\u001b[0m\u001b[0moutput_dir\u001b[0m \u001b[0;34m+\u001b[0m \u001b[0mrgs\u001b[0m\u001b[0;34m[\u001b[0m\u001b[0mrgn\u001b[0m\u001b[0;34m]\u001b[0m \u001b[0;34m+\u001b[0m\u001b[0;34m\"_period12\"\u001b[0m\u001b[0;34m+\u001b[0m\u001b[0mtext\u001b[0m\u001b[0;34m+\u001b[0m\u001b[0;34m\".tab\"\u001b[0m\u001b[0;34m)\u001b[0m\u001b[0;34m\u001b[0m\u001b[0;34m\u001b[0m\u001b[0m\n\u001b[0m\u001b[1;32m     14\u001b[0m     \u001b[0ma2\u001b[0m \u001b[0;34m=\u001b[0m \u001b[0mnp\u001b[0m\u001b[0;34m.\u001b[0m\u001b[0mloadtxt\u001b[0m\u001b[0;34m(\u001b[0m\u001b[0moutput_dir\u001b[0m \u001b[0;34m+\u001b[0m \u001b[0mrgs\u001b[0m\u001b[0;34m[\u001b[0m\u001b[0mrgn\u001b[0m\u001b[0;34m]\u001b[0m \u001b[0;34m+\u001b[0m\u001b[0;34m\"_period8\"\u001b[0m\u001b[0;34m+\u001b[0m\u001b[0mtext\u001b[0m\u001b[0;34m+\u001b[0m\u001b[0;34m\".tab\"\u001b[0m\u001b[0;34m)\u001b[0m\u001b[0;34m\u001b[0m\u001b[0;34m\u001b[0m\u001b[0m\n\u001b[1;32m     15\u001b[0m     \u001b[0ma3\u001b[0m \u001b[0;34m=\u001b[0m \u001b[0mnp\u001b[0m\u001b[0;34m.\u001b[0m\u001b[0mloadtxt\u001b[0m\u001b[0;34m(\u001b[0m\u001b[0moutput_dir\u001b[0m \u001b[0;34m+\u001b[0m \u001b[0mrgs\u001b[0m\u001b[0;34m[\u001b[0m\u001b[0mrgn\u001b[0m\u001b[0;34m]\u001b[0m \u001b[0;34m+\u001b[0m\u001b[0;34m\"_period6\"\u001b[0m\u001b[0;34m+\u001b[0m\u001b[0mtext\u001b[0m\u001b[0;34m+\u001b[0m\u001b[0;34m\".tab\"\u001b[0m\u001b[0;34m)\u001b[0m\u001b[0;34m\u001b[0m\u001b[0;34m\u001b[0m\u001b[0m\n",
      "\u001b[0;32m~/anaconda3/lib/python3.7/site-packages/numpy/lib/npyio.py\u001b[0m in \u001b[0;36mloadtxt\u001b[0;34m(fname, dtype, comments, delimiter, converters, skiprows, usecols, unpack, ndmin, encoding, max_rows)\u001b[0m\n\u001b[1;32m    979\u001b[0m             \u001b[0mfname\u001b[0m \u001b[0;34m=\u001b[0m \u001b[0mos_fspath\u001b[0m\u001b[0;34m(\u001b[0m\u001b[0mfname\u001b[0m\u001b[0;34m)\u001b[0m\u001b[0;34m\u001b[0m\u001b[0;34m\u001b[0m\u001b[0m\n\u001b[1;32m    980\u001b[0m         \u001b[0;32mif\u001b[0m \u001b[0m_is_string_like\u001b[0m\u001b[0;34m(\u001b[0m\u001b[0mfname\u001b[0m\u001b[0;34m)\u001b[0m\u001b[0;34m:\u001b[0m\u001b[0;34m\u001b[0m\u001b[0;34m\u001b[0m\u001b[0m\n\u001b[0;32m--> 981\u001b[0;31m             \u001b[0mfh\u001b[0m \u001b[0;34m=\u001b[0m \u001b[0mnp\u001b[0m\u001b[0;34m.\u001b[0m\u001b[0mlib\u001b[0m\u001b[0;34m.\u001b[0m\u001b[0m_datasource\u001b[0m\u001b[0;34m.\u001b[0m\u001b[0mopen\u001b[0m\u001b[0;34m(\u001b[0m\u001b[0mfname\u001b[0m\u001b[0;34m,\u001b[0m \u001b[0;34m'rt'\u001b[0m\u001b[0;34m,\u001b[0m \u001b[0mencoding\u001b[0m\u001b[0;34m=\u001b[0m\u001b[0mencoding\u001b[0m\u001b[0;34m)\u001b[0m\u001b[0;34m\u001b[0m\u001b[0;34m\u001b[0m\u001b[0m\n\u001b[0m\u001b[1;32m    982\u001b[0m             \u001b[0mfencoding\u001b[0m \u001b[0;34m=\u001b[0m \u001b[0mgetattr\u001b[0m\u001b[0;34m(\u001b[0m\u001b[0mfh\u001b[0m\u001b[0;34m,\u001b[0m \u001b[0;34m'encoding'\u001b[0m\u001b[0;34m,\u001b[0m \u001b[0;34m'latin1'\u001b[0m\u001b[0;34m)\u001b[0m\u001b[0;34m\u001b[0m\u001b[0;34m\u001b[0m\u001b[0m\n\u001b[1;32m    983\u001b[0m             \u001b[0mfh\u001b[0m \u001b[0;34m=\u001b[0m \u001b[0miter\u001b[0m\u001b[0;34m(\u001b[0m\u001b[0mfh\u001b[0m\u001b[0;34m)\u001b[0m\u001b[0;34m\u001b[0m\u001b[0;34m\u001b[0m\u001b[0m\n",
      "\u001b[0;32m~/anaconda3/lib/python3.7/site-packages/numpy/lib/_datasource.py\u001b[0m in \u001b[0;36mopen\u001b[0;34m(path, mode, destpath, encoding, newline)\u001b[0m\n\u001b[1;32m    267\u001b[0m \u001b[0;34m\u001b[0m\u001b[0m\n\u001b[1;32m    268\u001b[0m     \u001b[0mds\u001b[0m \u001b[0;34m=\u001b[0m \u001b[0mDataSource\u001b[0m\u001b[0;34m(\u001b[0m\u001b[0mdestpath\u001b[0m\u001b[0;34m)\u001b[0m\u001b[0;34m\u001b[0m\u001b[0;34m\u001b[0m\u001b[0m\n\u001b[0;32m--> 269\u001b[0;31m     \u001b[0;32mreturn\u001b[0m \u001b[0mds\u001b[0m\u001b[0;34m.\u001b[0m\u001b[0mopen\u001b[0m\u001b[0;34m(\u001b[0m\u001b[0mpath\u001b[0m\u001b[0;34m,\u001b[0m \u001b[0mmode\u001b[0m\u001b[0;34m,\u001b[0m \u001b[0mencoding\u001b[0m\u001b[0;34m=\u001b[0m\u001b[0mencoding\u001b[0m\u001b[0;34m,\u001b[0m \u001b[0mnewline\u001b[0m\u001b[0;34m=\u001b[0m\u001b[0mnewline\u001b[0m\u001b[0;34m)\u001b[0m\u001b[0;34m\u001b[0m\u001b[0;34m\u001b[0m\u001b[0m\n\u001b[0m\u001b[1;32m    270\u001b[0m \u001b[0;34m\u001b[0m\u001b[0m\n\u001b[1;32m    271\u001b[0m \u001b[0;34m\u001b[0m\u001b[0m\n",
      "\u001b[0;32m~/anaconda3/lib/python3.7/site-packages/numpy/lib/_datasource.py\u001b[0m in \u001b[0;36mopen\u001b[0;34m(self, path, mode, encoding, newline)\u001b[0m\n\u001b[1;32m    621\u001b[0m                                       encoding=encoding, newline=newline)\n\u001b[1;32m    622\u001b[0m         \u001b[0;32melse\u001b[0m\u001b[0;34m:\u001b[0m\u001b[0;34m\u001b[0m\u001b[0;34m\u001b[0m\u001b[0m\n\u001b[0;32m--> 623\u001b[0;31m             \u001b[0;32mraise\u001b[0m \u001b[0mIOError\u001b[0m\u001b[0;34m(\u001b[0m\u001b[0;34m\"%s not found.\"\u001b[0m \u001b[0;34m%\u001b[0m \u001b[0mpath\u001b[0m\u001b[0;34m)\u001b[0m\u001b[0;34m\u001b[0m\u001b[0;34m\u001b[0m\u001b[0m\n\u001b[0m\u001b[1;32m    624\u001b[0m \u001b[0;34m\u001b[0m\u001b[0m\n\u001b[1;32m    625\u001b[0m \u001b[0;34m\u001b[0m\u001b[0m\n",
      "\u001b[0;31mOSError\u001b[0m: /mnt/Secdrive/TSmain/TSmain/Completeness/NGC1333_period12_test.tab not found."
     ]
    }
   ],
   "source": [
    "plt.close()\n",
    "fig, ax = plt.subplots()\n",
    "ax.set_xlabel('Period [yr]')\n",
    "ax.set_ylabel(r'Confident Detection level [$\\sigma$]')\n",
    "ax.set_ylim([1.2,6])\n",
    "xfreqs =np.array([0.1,0.15,0.2,0.5,1,5])\n",
    "xperiods = np.array([12,8,6,4,2,1])\n",
    "\n",
    "for rgn in range(0,8):\n",
    "    text = \"\"\n",
    "    if rgn == 1:\n",
    "        text = \"_test\"\n",
    "    a1 = np.loadtxt(output_dir + rgs[rgn] +\"_period12\"+text+\".tab\")\n",
    "    a2 = np.loadtxt(output_dir + rgs[rgn] +\"_period8\"+text+\".tab\")\n",
    "    a3 = np.loadtxt(output_dir + rgs[rgn] +\"_period6\"+text+\".tab\")\n",
    "    a4 = np.loadtxt(output_dir + rgs[rgn] +\"_period4\"+text+\".tab\")\n",
    "    a5 = np.loadtxt(output_dir + rgs[rgn] +\"_period2\"+text+\".tab\")\n",
    "    a6 = np.loadtxt(output_dir + rgs[rgn] +\"_period1\"+text+\".tab\")\n",
    "    a1 = TR.Columnread(a1)\n",
    "    a2 = TR.Columnread(a2)\n",
    "    a3 = TR.Columnread(a3)\n",
    "    a4 = TR.Columnread(a4)\n",
    "    a5 = TR.Columnread(a5)\n",
    "    a6 = TR.Columnread(a6)\n",
    "    a1_thr = np.sort(a1[8])[9900]\n",
    "    a2_thr = np.sort(a2[8])[9900]\n",
    "    a3_thr = np.sort(a3[8])[9900]\n",
    "    a4_thr = np.sort(a4[8])[9900]\n",
    "    a5_thr = np.sort(a5[8])[9900]\n",
    "    a6_thr = np.sort(a6[8])[9900]\n",
    "    \n",
    "    a1_thr2 = np.sort(a1[8])[6800]\n",
    "    a2_thr2 = np.sort(a2[8])[6800]\n",
    "    a3_thr2 = np.sort(a3[8])[6800]\n",
    "    a4_thr2 = np.sort(a4[8])[6800]\n",
    "    a5_thr2 = np.sort(a5[8])[6800]\n",
    "    a6_thr2 = np.sort(a6[8])[6800]\n",
    "    \n",
    "    print(rgs[rgn])\n",
    "    print([a1_thr,a2_thr,a3_thr,a4_thr,a5_thr,a6_thr])\n",
    "    print([a1_thr2,a2_thr2,a3_thr2,a4_thr2,a5_thr2,a6_thr2])\n",
    "    #print(np.where(np.sort(a1[8])<a4_thr)[-1])\n",
    "    #print(np.where(np.sort(a2[8])<a4_thr)[-1])\n",
    "    thrs2= np.array([a1_thr2,a2_thr2,a3_thr2,a4_thr2,a5_thr2,a6_thr2])\n",
    "    thrs = np.array([a1_thr,a2_thr,a3_thr,a4_thr,a5_thr,a6_thr])\n",
    "    ax.errorbar(xperiods,thrs,fmt='o-',label=rgs[rgn])\n",
    "ax.legend()"
   ]
  },
  {
   "cell_type": "code",
   "execution_count": 10,
   "metadata": {},
   "outputs": [],
   "source": [
    "plt.savefig(input_dir+\"Completeness/\"+\"map_CDl.pdf\")"
   ]
  },
  {
   "cell_type": "code",
   "execution_count": null,
   "metadata": {},
   "outputs": [],
   "source": [
    "for rgn in range(0,8):\n",
    "    a1 = np.loadtxt(output_dir + rgs[rgn] +\"_period12.tab\")\n",
    "    a2 = np.loadtxt(output_dir + rgs[rgn] +\"_period8.tab\")\n",
    "    a1 = TR.Columnread(a1)\n",
    "    a2 = TR.Columnread(a2)"
   ]
  },
  {
   "cell_type": "code",
   "execution_count": 139,
   "metadata": {},
   "outputs": [],
   "source": [
    "plt.savefig(input_dir+\"Completeness/\"+\"Phase-Amp_diagram_more.pdf\")"
   ]
  },
  {
   "cell_type": "code",
   "execution_count": 20,
   "metadata": {},
   "outputs": [
    {
     "data": {
      "text/plain": [
       "<matplotlib.legend.Legend at 0x7f7ed3097c90>"
      ]
     },
     "execution_count": 20,
     "metadata": {},
     "output_type": "execute_result"
    }
   ],
   "source": [
    "plt.close()\n",
    "fig, ax = plt.subplots()\n",
    "ax.set_xlabel('Chi-null')\n",
    "ax.set_ylabel('Number')\n",
    "binwidth = 0.1\n",
    "xymax = max(np.max(np.abs(x)), np.max(np.abs(y)))\n",
    "lim = (int(xymax/binwidth) + 1)*binwidth\n",
    "\n",
    "bins = np.arange(-lim, lim + binwidth, binwidth)\n",
    "ax.hist(a1[11], histtype='step',color='black'\n",
    "             ,linewidth=2,label=r'P=10$\\tau$')\n",
    "ax.hist(a2[11], histtype='step',color='orange'\n",
    "             ,linewidth=2,label=r'P=1$\\tau$')\n",
    "ax.hist(a3[11],histtype='step',color='green'\n",
    "             ,linewidth=2,label=r'P=0.2$\\tau$')\n",
    "ax.legend()"
   ]
  },
  {
   "cell_type": "code",
   "execution_count": 111,
   "metadata": {},
   "outputs": [],
   "source": [
    "plt.savefig(input_dir+\"Completeness/\"+\"chi2_null_hist.pdf\")"
   ]
  },
  {
   "cell_type": "code",
   "execution_count": 21,
   "metadata": {},
   "outputs": [],
   "source": [
    "plt.close()\n",
    "fig, ax = plt.subplots()\n",
    "x = np.linspace(0.14,1.4,101)\n",
    "\n",
    "ax.plot(x, np.sqrt(0.014**2+(0.02*x)**2))\n",
    "ax.plot(x, 2*np.sqrt(0.014**2+(0.02*x)**2))\n",
    "ax.plot(x, 3*np.sqrt(0.014**2+(0.02*x)**2))\n",
    "\n",
    "ax.set_xscale('log')"
   ]
  },
  {
   "cell_type": "code",
   "execution_count": 110,
   "metadata": {},
   "outputs": [
    {
     "data": {
      "text/plain": [
       "1.1022966728098704"
      ]
     },
     "execution_count": 110,
     "metadata": {},
     "output_type": "execute_result"
    }
   ],
   "source": [
    "a1[11][-1]"
   ]
  },
  {
   "cell_type": "code",
   "execution_count": null,
   "metadata": {},
   "outputs": [],
   "source": []
  }
 ],
 "metadata": {
  "kernelspec": {
   "display_name": "Python 3",
   "language": "python",
   "name": "python3"
  },
  "language_info": {
   "codemirror_mode": {
    "name": "ipython",
    "version": 3
   },
   "file_extension": ".py",
   "mimetype": "text/x-python",
   "name": "python",
   "nbconvert_exporter": "python",
   "pygments_lexer": "ipython3",
   "version": "3.8.5"
  }
 },
 "nbformat": 4,
 "nbformat_minor": 4
}
