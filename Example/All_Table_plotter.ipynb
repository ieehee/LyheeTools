{
 "cells": [
  {
   "cell_type": "code",
   "execution_count": 34,
   "metadata": {
    "scrolled": true
   },
   "outputs": [
    {
     "data": {
      "text/plain": [
       "<module 'Table_Reader' from '/media/lyhee/Secdrive/TSmain/Pip_test/trigger_codes_github/Table_Reader.py'>"
      ]
     },
     "execution_count": 34,
     "metadata": {},
     "output_type": "execute_result"
    }
   ],
   "source": [
    "import Table_Reader as TR\n",
    "import LCCall as LCC\n",
    "import LCAnalyses as LCA\n",
    "import LCPlot as LCP\n",
    "import importlib\n",
    "import matplotlib.pyplot as plt\n",
    "import scipy.special as fc\n",
    "import numpy as np\n",
    "from astropy import units as u\n",
    "from astropy.coordinates import Angle\n",
    "importlib.reload(LCC)\n",
    "importlib.reload(LCA)\n",
    "importlib.reload(LCP)\n",
    "importlib.reload(TR)"
   ]
  },
  {
   "cell_type": "code",
   "execution_count": 37,
   "metadata": {},
   "outputs": [],
   "source": [
    "%matplotlib tk"
   ]
  },
  {
   "cell_type": "code",
   "execution_count": 38,
   "metadata": {},
   "outputs": [],
   "source": [
    "input_dir = \"/mnt/Secdrive/TSmain/TSmain/\" \n",
    "rgs  =['IC348','NGC1333','NGC2024','NGC2068','OMC23','OPHCORE','SERPM','SERPS'] # Region names\n",
    "# Below is the RADEC coordinates of the map center [degree]\n",
    "rra  =[56.075, 52.225, 85.42083, 86.55417, 83.87917, 246.77083, 277.45417, 277.50833] \n",
    "rdec =[32.08306, 31.28111, -1.8975, -0.10139, -5.01056, -24.54361, 1.25556, -2.04667]\n",
    "#indices = np.where(np.sqrt(np.array(data.RAs)**2+np.array(data.DECs)**2)/60 < 18)"
   ]
  },
  {
   "cell_type": "code",
   "execution_count": 408,
   "metadata": {},
   "outputs": [
    {
     "data": {
      "text/plain": [
       "'/mnt/Secdrive/TSmain/TSmain/'"
      ]
     },
     "execution_count": 408,
     "metadata": {},
     "output_type": "execute_result"
    }
   ],
   "source": [
    "input_dir"
   ]
  },
  {
   "cell_type": "markdown",
   "metadata": {},
   "source": [
    "# Main Cell"
   ]
  },
  {
   "cell_type": "code",
   "execution_count": 39,
   "metadata": {
    "scrolled": true
   },
   "outputs": [
    {
     "name": "stdout",
     "output_type": "stream",
     "text": [
      "2458880.5\n",
      "2458872.8455555993\n",
      "IC348\n",
      "[58125.29625574872, 383.0, 0.7631756024770731]\n",
      "[58125.29625574872, 2134.0, 0.23772083212217385]\n",
      "[58125.29625574872, 364.0, 0.6848798234854917]\n",
      "[58125.29625574872, 56.0, 0.951718852655696]\n",
      "[58125.29625574872, 24.0, 0.8873439895299574]\n",
      "[58125.29625574872, 18.0, 0.1831253193732765]\n",
      "[58125.29625574872, 17.0, 0.13507386757170453]\n",
      "[58125.29625574872, 31.0, 0.00955663705545087]\n",
      "[58125.29625574872, 20.0, 0.2648127874359488]\n",
      "NGC1333\n",
      "2458880.5\n",
      "2458872.8455555993\n",
      "[58125.275515049696, 1660.0, 0.015226213885359018]\n",
      "[58125.275515049696, 20.0, 0.26377575248479845]\n",
      "[58125.275515049696, 14941.0, 0.8903202941603438]\n",
      "[58125.275515049696, 51.0, 0.711284608817568]\n",
      "[58125.275515049696, 14941.0, 0.8903202941603438]\n",
      "[58125.275515049696, 26.0, 0.5875198096036911]\n",
      "[58125.275515049696, 25.0, 0.011020601987838744]\n",
      "[58125.275515049696, 164.0, 0.4224116771322925]\n",
      "[58125.275515049696, 2988.0, 0.4529034521585328]\n",
      "[58125.275515049696, 18.0, 0.1819730583164427]\n",
      "[58125.275515049696, 2988.0, 0.4529034521585328]\n",
      "[58125.275515049696, 19.0, 0.2250271078787352]\n",
      "[58125.275515049696, 21.0, 0.8702626214140937]\n",
      "[58125.275515049696, 107.0, 0.22687397242706514]\n",
      "[58125.275515049696, 1660.0, 0.015226213885359018]\n",
      "[58125.275515049696, 28.0, 0.9026969660605703]\n",
      "[58125.275515049696, 89.0, 0.09298331516512325]\n",
      "[58125.275515049696, 80.0, 0.5659439381211996]\n",
      "[58125.275515049696, 51.0, 0.711284608817568]\n",
      "[58125.275515049696, 21.0, 0.8702626214140937]\n",
      "[58125.275515049696, 24.0, 0.886479793737332]\n",
      "[58125.275515049696, 121.0, 0.37417781032806585]\n",
      "[58125.275515049696, 29.0, 0.3198453465412403]\n",
      "[58125.275515049696, 189.0, 0.5411402912682326]\n",
      "[58125.275515049696, 18.0, 0.1819730583164427]\n",
      "[58125.275515049696, 29.0, 0.3198453465412403]\n",
      "[58125.275515049696, 114.0, 0.8708378513131225]\n",
      "[58125.275515049696, 25.0, 0.011020601987838744]\n",
      "[58125.275515049696, 137.0, 0.2720840514576348]\n",
      "[58125.275515049696, 30.0, 0.5091838349898656]\n",
      "[58125.275515049696, 74.0, 0.4766961493202158]\n",
      "NGC2024\n",
      "[58127.39005210064, 17.0, 0.25823835886138324]\n",
      "[58127.39005210064, 596.0, 0.5291779397661804]\n",
      "[58127.39005210064, 19.0, 0.3363185316128166]\n",
      "[58127.39005210064, 24.0, 0.9745855041934798]\n",
      "[58127.39005210064, 18.0, 0.29944733892463976]\n",
      "[58127.39005210064, 78.0, 0.2229493859056861]\n",
      "[58127.39005210064, 17.0, 0.25823835886138324]\n",
      "[58127.39005210064, 292.0, 0.06640428801590245]\n",
      "[58127.39005210064, 21.0, 0.9709548619354055]\n",
      "[58127.39005210064, 709.0, 0.9850353344155762]\n",
      "[58127.39005210064, 18.0, 0.29944733892463976]\n",
      "[58127.39005210064, 19.0, 0.3363185316128166]\n",
      "[58127.39005210064, 253.0, 0.752529850200172]\n",
      "[58127.39005210064, 28.0, 0.9782161464515541]\n",
      "[58127.39005210064, 648.0, 0.70276242608124]\n",
      "[58127.39005210064, 25.0, 0.09560208402574062]\n",
      "[58127.39005210064, 48.0, 0.98729275209674]\n",
      "[58127.39005210064, 43.0, 0.7997686535033376]\n",
      "[58127.39005210064, 60.0, 0.7898342016773919]\n",
      "[58127.39005210064, 57.0, 0.7787728438709389]\n",
      "[58127.39005210064, 19.0, 0.3363185316128166]\n",
      "[58127.39005210064, 2128.0, 0.3155028440322573]\n",
      "[58127.39005210064, 23.0, 0.277828352201892]\n",
      "[58127.39005210064, 45.0, 0.719778935569856]\n",
      "[58127.39005210064, 32.0, 0.48093912814510986]\n",
      "[58127.39005210064, 17.0, 0.25823835886138324]\n",
      "[58127.39005210064, 32.0, 0.48093912814510986]\n",
      "[58127.39005210064, 292.0, 0.06640428801590245]\n",
      "[58127.39005210064, 87.0, 0.1309201390878565]\n",
      "[58127.39005210064, 57.0, 0.7787728438709389]\n",
      "[58127.39005210064, 25.0, 0.09560208402574062]\n",
      "[58127.39005210064, 109.0, 0.2788078174370965]\n",
      "[58127.39005210064, 43.0, 0.7997686535033376]\n",
      "[58127.39005210064, 18.0, 0.29944733892463976]\n",
      "[58127.39005210064, 134.0, 0.7864929261242053]\n",
      "[58127.39005210064, 23.0, 0.277828352201892]\n",
      "NGC2068\n",
      "[58127.442222250625, 2128.0, 0.3155273600801812]\n",
      "[58127.442222250625, 14899.0, 0.9014324600476962]\n",
      "[58127.442222250625, 49.0, 0.2743310663392957]\n",
      "[58127.442222250625, 23.0, 0.28009661959241267]\n",
      "[58127.442222250625, 2980.0, 0.505853094714975]\n",
      "[58127.442222250625, 25.0, 0.09768889002501964]\n",
      "[58127.442222250625, 19.0, 0.339064328980289]\n",
      "[58127.442222250625, 52.0, 0.8354273509735671]\n",
      "[58127.442222250625, 99.0, 0.1458810328346009]\n",
      "[58127.442222250625, 150.0, 0.5162814816708367]\n",
      "[58127.442222250625, 2980.0, 0.505853094714975]\n",
      "[87, 12, 30, 'JCMTPP_J054631.0-000232', 1.2449556761610907, 5.342523711340661, 'sin', 0.1526098097481441, 0.06147918507694079]\n",
      "[58127.442222250625, 30.0, 0.581407408354183]\n",
      "[58127.442222250625, 1655.0, 0.12232158444146556]\n",
      "[58127.442222250625, 22.0, 0.15646464775570415]\n",
      "[58127.442222250625, 481.0, 0.8470732271322775]\n",
      "[58127.442222250625, 55.0, 0.8625858591022817]\n",
      "[58127.442222250625, 204.0, 0.9384422659344387]\n",
      "[58127.442222250625, 32.0, 0.4825694453320466]\n",
      "[58127.442222250625, 21.0, 0.9734391547916901]\n",
      "[58127.442222250625, 363.0, 0.13069482713670935]\n",
      "[58127.442222250625, 210.0, 0.797343915479169]\n",
      "[58127.442222250625, 22.0, 0.15646464775570415]\n",
      "[58127.442222250625, 19.0, 0.339064328980289]\n",
      "[58127.442222250625, 87.0, 0.13151979598420105]\n",
      "[58127.442222250625, 184.0, 0.9100120774490515]\n",
      "[58127.442222250625, 19.0, 0.339064328980289]\n",
      "[102, 30, 5, 'JCMTPP_J054645.6+000719', 0.3157099217388542, 0.31707746140939586, 5.478486542525782, 'null', 0.08277122392797676, 0.42192987713045543, 941.0205731577557]\n",
      "[58127.442222250625, 2128.0, 0.3155273600801812]\n",
      "[58127.442222250625, 20.0, 0.37211111253127455]\n",
      "[58127.442222250625, 21.0, 0.9734391547916901]\n",
      "OMC23\n",
      "[58127.33039355092, 28.0, 0.9760854839613395]\n",
      "[58127.33039355092, 28.0, 0.9760854839613395]\n",
      "[107, 1, 10, 'JCMTPP_J053527.4-050929', 2.62178411892162, 2.635182495280361, 5.791350245803709, 'null', 0.30091249472982096, 0.24856467444957692, 533.7444404786246]\n",
      "[58127.33039355092, 189.0, 0.5520126642905688]\n",
      "[58127.33039355092, 27.0, 0.8640886500339817]\n",
      "[58127.33039355092, 784.0, 0.14200305299861926]\n",
      "[58127.33039355092, 31.0, 0.07517398551346795]\n",
      "[58127.33039355092, 32.0, 0.47907479846617207]\n",
      "[58127.33039355092, 32.0, 0.47907479846617207]\n",
      "[58127.33039355092, 52.0, 0.8332767990561059]\n",
      "[58127.33039355092, 28.0, 0.9760854839613395]\n",
      "[58127.33039355092, 184.0, 0.9094043127767256]\n",
      "[58127.33039355092, 22.0, 0.15138152504170482]\n",
      "[58127.33039355092, 28.0, 0.9760854839613395]\n",
      "[58127.33039355092, 84.0, 0.9920284946537798]\n",
      "[58127.33039355092, 331.0, 0.6112700711508082]\n",
      "[58127.33039355092, 22.0, 0.15138152504170482]\n",
      "[58127.33039355092, 39.0, 0.4443690654081412]\n",
      "[58127.33039355092, 26.0, 0.6665535981122118]\n",
      "[58127.33039355092, 33.0, 0.4342543500278032]\n",
      "[58127.33039355092, 65.0, 0.2666214392448847]\n",
      "[58127.33039355092, 41.0, 0.7397656963638416]\n",
      "[58127.33039355092, 42.0, 0.9840569893075597]\n",
      "[58127.33039355092, 481.0, 0.8468407350330925]\n",
      "[58127.33039355092, 19.0, 0.3331786079430266]\n",
      "[58127.33039355092, 148.0, 0.7522323888575507]\n",
      "[58127.33039355092, 25.0, 0.09321574203670024]\n",
      "[58127.33039355092, 28.0, 0.9760854839613395]\n",
      "[58127.33039355092, 1354.0, 0.9300815314260839]\n",
      "[58127.33039355092, 42.0, 0.9840569893075597]\n",
      "[58127.33039355092, 51.0, 0.7515763441356373]\n",
      "[58127.33039355092, 552.0, 0.30313477092557517]\n",
      "[58127.33039355092, 32.0, 0.47907479846617207]\n",
      "[137, 40, 3, 'JCMTPP_J053522.4-050111', 2.4952056174998902, 2.504629545918499, 6.795779901799083, 'null', 0.3428060332134888, 0.029772871712453425, 133.6420606772115]\n",
      "[58127.33039355092, 19.0, 0.3331786079430266]\n",
      "[58127.33039355092, 30.0, 0.5776797850305836]\n",
      "[58127.33039355092, 28.0, 0.9760854839613395]\n",
      "[58127.33039355092, 132.0, 0.35856358750695083]\n",
      "[58127.33039355092, 21.0, 0.9681139786151194]\n",
      "[58127.33039355092, 271.0, 0.491994072143607]\n",
      "[58127.33039355092, 30.0, 0.5776797850305836]\n",
      "[58127.33039355092, 30.0, 0.5776797850305836]\n",
      "[58127.33039355092, 28.0, 0.9760854839613395]\n",
      "[58127.33039355092, 59.0, 0.20898972120199164]\n",
      "[58127.33039355092, 19.0, 0.3331786079430266]\n",
      "[58127.33039355092, 2980.0, 0.505815568305677]\n",
      "[58127.33039355092, 19.0, 0.3331786079430266]\n",
      "[58127.33039355092, 33.0, 0.4342543500278032]\n",
      "[58127.33039355092, 27.0, 0.8640886500339817]\n",
      "[58127.33039355092, 25.0, 0.09321574203670024]\n",
      "[58127.33039355092, 26.0, 0.6665535981122118]\n",
      "[58127.33039355092, 25.0, 0.09321574203670024]\n",
      "[58127.33039355092, 20.0, 0.36651967754587533]\n",
      "[58127.33039355092, 27.0, 0.8640886500339817]\n",
      "[58127.33039355092, 82.0, 0.8698828481819209]\n",
      "[58127.33039355092, 40.0, 0.18325983877293767]\n",
      "[58127.33039355092, 33.0, 0.4342543500278032]\n",
      "[58127.33039355092, 22.0, 0.15138152504170482]\n",
      "[58127.33039355092, 137.0, 0.28708316460523725]\n",
      "[58127.33039355092, 21.0, 0.9681139786151194]\n",
      "[58127.33039355092, 49.0, 0.2720488479779083]\n",
      "[58127.33039355092, 21.0, 0.9681139786151194]\n",
      "[58127.33039355092, 48.0, 0.9860498656441147]\n",
      "[58127.33039355092, 96.0, 0.49302493282205734]\n",
      "[58127.33039355092, 127.0, 0.6955149098497442]\n",
      "[58127.33039355092, 253.0, 0.7522940456558004]\n",
      "[58127.33039355092, 19.0, 0.3331786079430266]\n",
      "[58127.33039355092, 28.0, 0.9760854839613395]\n",
      "[58127.33039355092, 68.0, 0.813682258101728]\n",
      "[58127.33039355092, 36.0, 0.6480664875254862]\n",
      "[58127.33039355092, 21.0, 0.9681139786151194]\n",
      "[58127.33039355092, 91.0, 0.7618724566034891]\n",
      "[58127.33039355092, 22.0, 0.15138152504170482]\n",
      "[58127.33039355092, 25.0, 0.09321574203670024]\n",
      "[58127.33039355092, 49.0, 0.2720488479779083]\n",
      "[58127.33039355092, 261.0, 0.7100781362104119]\n",
      "[58127.33039355092, 30.0, 0.5776797850305836]\n",
      "[58127.33039355092, 42.0, 0.9840569893075597]\n",
      "[58127.33039355092, 426.0, 0.4491323792275059]\n",
      "[58127.33039355092, 331.0, 0.6112700711508082]\n",
      "[58127.33039355092, 382.0, 0.16578637055214007]\n",
      "[58127.33039355092, 19.0, 0.3331786079430266]\n",
      "[58127.33039355092, 261.0, 0.7100781362104119]\n",
      "[58127.33039355092, 28.0, 0.9760854839613395]\n",
      "[58127.33039355092, 45.0, 0.718453190020389]\n",
      "[58127.33039355092, 403.0, 0.23655184503949753]\n",
      "[58127.33039355092, 117.0, 0.8147896884693804]\n",
      "[58127.33039355092, 53.0, 0.7420828971871227]\n",
      "[58127.33039355092, 22.0, 0.15138152504170482]\n",
      "[58127.33039355092, 91.0, 0.7618724566034891]\n",
      "[58127.33039355092, 30.0, 0.5776797850305836]\n",
      "[58127.33039355092, 24.0, 0.9720997312882295]\n",
      "[58127.33039355092, 19.0, 0.3331786079430266]\n",
      "[58127.33039355092, 33.0, 0.4342543500278032]\n",
      "[58127.33039355092, 993.0, 0.537090023716936]\n",
      "[58127.33039355092, 25.0, 0.09321574203670024]\n",
      "OPHCORE\n",
      "[58134.77887734957, 1627.0, 0.7312715902578798]\n",
      "[58134.77887734957, 2091.0, 0.8023810986846344]\n",
      "[58134.77887734957, 42.0, 0.16140184165643795]\n",
      "[58134.77887734957, 23.0, 0.5990816238943649]\n",
      "[58134.77887734957, 137.0, 0.34145165948591527]\n",
      "[58134.77887734957, 46.0, 0.7995408119471825]\n",
      "[58134.77887734957, 148.0, 0.8025599820916919]\n",
      "[58134.77887734957, 21.0, 0.3228036833128759]\n",
      "[58134.77887734957, 218.0, 0.6732976025209652]\n",
      "[58134.77887734957, 93.0, 0.10514921881258488]\n",
      "[58134.77887734957, 119.0, 0.5275535911728605]\n",
      "[58134.77887734957, 33.0, 0.659965980290012]\n",
      "[58134.77887734957, 157.0, 0.2852157792966267]\n",
      "[58134.77887734957, 25.0, 0.3911550939828157]\n",
      "[58134.77887734957, 121.0, 0.4527179946245487]\n",
      "[58134.77887734957, 81.0, 0.7133194734514864]\n",
      "[58134.77887734957, 29.0, 0.6475474948127722]\n",
      "[58134.77887734957, 66.0, 0.829982990145006]\n",
      "[58134.77887734957, 24.0, 0.2824532228987664]\n",
      "[58134.77887734957, 1126.0, 0.6294661432944675]\n",
      "[58134.77887734957, 43.0, 0.9716017988272184]\n",
      "[58134.77887734957, 56.0, 0.12105138124232846]\n",
      "[58134.77887734957, 64.0, 0.3559199585870374]\n",
      "[58134.77887734957, 22.0, 0.4899489704350179]\n",
      "[58134.77887734957, 1331.0, 0.6775198176931408]\n",
      "[58134.77887734957, 46.0, 0.7995408119471825]\n",
      "[58134.77887734957, 29.0, 0.6475474948127722]\n",
      "[58134.77887734957, 50.0, 0.6955775469914078]\n",
      "[58134.77887734957, 23.0, 0.5990816238943649]\n",
      "[58134.77887734957, 45.0, 0.8839750522126754]\n",
      "[58134.77887734957, 21.0, 0.3228036833128759]\n",
      "[58134.77887734957, 33.0, 0.659965980290012]\n",
      "[58134.77887734957, 22.0, 0.4899489704350179]\n",
      "SERPM\n",
      "[58097.972540501505, 13545.0, 0.2892560015135847]\n",
      "[58097.972540501505, 13545.0, 0.2892560015135847]\n",
      "[58097.972540501505, 589.0, 0.6383234983047625]\n",
      "[58097.972540501505, 1935.0, 0.024792010595093093]\n",
      "[58097.972540501505, 14.0, 0.8551814643932241]\n",
      "[58097.972540501505, 14.0, 0.8551814643932241]\n",
      "[58097.972540501505, 159.0, 0.39605371384594423]\n",
      "[58097.972540501505, 12.0, 0.4977117084587614]\n",
      "[58097.972540501505, 134.0, 0.566959257473919]\n",
      "[58097.972540501505, 22.0, 0.8169336591593244]\n",
      "[58097.972540501505, 366.0, 0.7376298920806151]\n",
      "[58097.972540501505, 25.0, 0.9189016200602055]\n",
      "[58097.972540501505, 222.0, 0.7025790112680411]\n",
      "[58097.972540501505, 29.0, 0.37836346556914263]\n",
      "[58097.972540501505, 22.0, 0.8169336591593244]\n",
      "[58097.972540501505, 72.0, 0.9162852847431269]\n",
      "SERPS\n",
      "[58104.97510994971, 13684.0, 0.2461981226212882]\n",
      "[58104.97510994971, 30.0, 0.8325036649902662]\n",
      "[250, 1, 34, 'JCMTPP_J183002.6-020248', 2.19280020379637, 2.2005374348392324, 6.427379812908827, 'null', 0.2881561249729345, 0.2380274486736056, 9.017753019565863]\n",
      "[58104.97510994971, 16.0, 0.5609443718567491]\n",
      "[58104.97510994971, 161.0, 0.9004665214267576]\n",
      "[58104.97510994971, 31.0, 0.3540358048292898]\n",
      "[58104.97510994971, 18.0, 0.05417277498377694]\n",
      "[58104.97510994971, 24.0, 0.0406295812378327]\n",
      "[58104.97510994971, 17.0, 0.9397123499828226]\n",
      "[58104.97510994971, 37.0, 0.40473270134345907]\n",
      "[58104.97510994971, 36.0, 0.02708638749188847]\n",
      "[58104.97510994971, 17.0, 0.9397123499828226]\n",
      "[58104.97510994971, 16.0, 0.5609443718567491]\n",
      "[58104.97510994971, 18.0, 0.05417277498377694]\n",
      "[58104.97510994971, 51.0, 0.3132374499942742]\n",
      "[58104.97510994971, 17.0, 0.9397123499828226]\n",
      "[58104.97510994971, 86.0, 0.6392454645314882]\n",
      "[58104.97510994971, 133.0, 0.8795121048850224]\n",
      "[58104.97510994971, 20.0, 0.24875549748539924]\n",
      "[58104.97510994971, 16.0, 0.5609443718567491]\n",
      "[58104.97510994971, 24.0, 0.0406295812378327]\n",
      "[58104.97510994971, 28.0, 0.1776824982038566]\n",
      "[58104.97510994971, 652.0, 0.11805998458544169]\n",
      "[58104.97510994971, 16.0, 0.5609443718567491]\n",
      "[58104.97510994971, 16.0, 0.5609443718567491]\n",
      "[58104.97510994971, 126.0, 0.15059611071196813]\n",
      "[58104.97510994971, 26.0, 0.8067349980656917]\n",
      "[58104.97510994971, 38.0, 0.07829236709757854]\n",
      "[58104.97510994971, 27.0, 0.03611518332251796]\n",
      "[58104.97510994971, 33.0, 0.7568215136275147]\n",
      "[58104.97510994971, 33.0, 0.7568215136275147]\n",
      "[58104.97510994971, 4561.0, 0.7395253475004842]\n",
      "[58104.97510994971, 51.0, 0.3132374499942742]\n",
      "[58104.97510994971, 20.0, 0.24875549748539924]\n",
      "[58104.97510994971, 334.0, 0.9669913471548143]\n",
      "[58104.97510994971, 19.0, 0.1565847341951571]\n",
      "[58104.97510994971, 16.0, 0.5609443718567491]\n",
      "[58104.97510994971, 128.0, 0.9451180464820936]\n",
      "[58104.97510994971, 29.0, 0.6198313775761374]\n",
      "[58104.97510994971, 25.0, 0.1990043979883194]\n",
      "[58104.97510994971, 128.0, 0.9451180464820936]\n",
      "[58104.97510994971, 85.0, 0.5879424699965645]\n",
      "[58104.97510994971, 61.0, 0.5405755729460325]\n",
      "[58104.97510994971, 48.0, 0.5203147906189164]\n",
      "[58104.97510994971, 22.0, 0.13523227044127203]\n",
      "[58104.97510994971, 36.0, 0.02708638749188847]\n",
      "[58104.97510994971, 31.0, 0.3540358048292898]\n"
     ]
    }
   ],
   "source": [
    "writing=0 # Writter Flag\n",
    "query = []\n",
    "importlib.reload(TR)\n",
    "if writing:\n",
    "    file = open(input_dir+\"All_Bright_deg.tab\",'w')\n",
    "    file.write(\"#Index\"+'\\t'+\"Region\"+'\\t'+\"ID\"+'\\t'+\"RA\"+'\\t'+\"DEC\"+\"\\t\"+\"Dist\"+'\\t'+\"Type\"+'\\t'\n",
    "               +\"F_mean\"+'\\t'+\"chi2_Null\"+'\\t'+\"P_Null\"+'\\t'\n",
    "               +'Slope'+'\\t'+\"dSlope\"+'\\t'+\"S_dS\"+'\\t'+\"chi2_Lin\"+'\\t'+'FAP_Lin'+'\\t'\n",
    "               +\"Mean_Sin\"+'\\t'+\"Period\"+'\\t'+\"Amp\"+'\\t'+\"midphase\"+'\\t'+\"chi2_Sin\"+'\\t'\n",
    "               +\"FAP_Single\"+'\\t'+\"FAP_Sin_mod\"+'\\t'+\"F_amp\"+'\\t'\n",
    "               +\"Freq_min\"+'\\t'+\"Freq_max\"+'\\t'+\"dFreq\"+'\\t'+\"F_max\"+'\\t'+\"F_min\"+'\\t'+\"STCH\"\n",
    "               +'\\t'+\"SD_obs\"+'\\t'+\"DF\"+'\\t'+\"Tester\"+'\\t'+\"sd_fid\"+\"\\n\")\n",
    "                #L = [j,rgs[i],data.IDs[j], data.RAs[j], data.DECs[j],Dist, Type,\n",
    "                 #data.mean_pfluxes[j], chi2_Null/(num-1), P_Null,\n",
    "                 #Slope*365.25, dSlope*365.25, Slope/dSlope, chi2_Lin/(num-2), FAP_Lin,\n",
    "                 #modelpar[0], period/365.25, modelpar[2],modelpar[3],chi2_Sin/(num-3), \n",
    "                 #FAP_Sin_single, FAP_Sin*nfreqs,\n",
    "                 #freq_min*365.25, freq_max*365.25, dfreq*365.25]\n",
    "\n",
    "\n",
    "Index = 1\n",
    "counter = 1\n",
    "plot = 0\n",
    "fluxes_lim = 0.014*10\n",
    "sigma_sep = 1\n",
    "hex_coord = 0\n",
    "output_dir = input_dir+\"LCs_test/\"\n",
    "chi2_80 = []\n",
    "chi2_80s_n = []\n",
    "chi2_80s_l = []\n",
    "chi2_80s_s = []\n",
    "FAPs_Lin = []\n",
    "FAPs_Sin = []\n",
    "FAPs_Sin_mod = []\n",
    "checkers = []\n",
    "checkersSig = []\n",
    "whole_mean = []\n",
    "fid_err_80 = []\n",
    "PorD = []\n",
    "F_mean_80 = []\n",
    "Sigs_80 = []\n",
    "Sigs = []\n",
    "Sigs_check =[]\n",
    "chi2_80s_plott = []\n",
    "chi2_80s_check = []\n",
    "cal_err= 0.02\n",
    "Index2 = 0\n",
    "kk=0\n",
    "\n",
    "# Calculate the basic stat numbers of the sources\n",
    "for i in range(0,8): # For 8 regions\n",
    "    data = TR.ReadTable(input_dir+'Data/'+rgs[i]+'_source_data.dat',raw=0, datecut=2458880.5,recal=0)\n",
    "    indices = [int(x) for x in data.Indices]\n",
    "    data.JDs = np.array(data.JDs) - 2400000.5 # JD to MJD\n",
    "\n",
    "    for j in indices:\n",
    "        if data.IDs[j] == \"JCMTPP_J053524.2-050932\": \n",
    "            # Exclude the stochastic source with artifact (see Y.-H. Lee et al. 2021)\n",
    "            continue\n",
    "        Dist = np.sqrt((rra[i]-data.RAs[j])**2+(rdec[i]-data.DECs[j])**2)*60*60 #Distance from center\n",
    "        if data.mean_pfluxes[j] > fluxes_lim and Dist < 1080: #Limiting samples to high signal to noise samples.\n",
    "            num = len(data.pfluxes[j])\n",
    "            num10 = int(np.round(num/10))\n",
    "            data_sort = sorted(data.pfluxes[j])\n",
    "            data_minmax = np.sum(data_sort[:num10] + data_sort[-num10:])\n",
    "            F_mean_80.append((data.mean_pfluxes[j]*num-data_minmax)/(num-2*num10))\n",
    "            fid_err_80.append(np.sqrt(0.014**2+(cal_err*F_mean_80[-1])**2))\n",
    "            chi2_80.append(np.sum(abs(np.array(data_sort[num10:-num10])-F_mean_80[-1])**2/fid_err_80[-1]**2)/(num-2*num10))\n",
    "            whole_mean.append(data.mean_pfluxes[j])\n",
    "        kk += 1\n",
    "#aaa=aaa\n",
    "chi2_80=np.array(chi2_80)\n",
    "\n",
    "\n",
    "for i in range(0,8): # For 8 regions\n",
    "    print(rgs[i])\n",
    "    data = TR.ReadTable(input_dir+'Data/'+rgs[i]+'_source_data.dat',raw=0,datecut=2458880.5,recal=0)\n",
    "    indices = [int(x) for x in data.Indices]\n",
    "    data.JDs = np.array(data.JDs) - 2400000.5\n",
    "    \n",
    "    \n",
    "    for j in indices: # For every sources,\n",
    "        if data.IDs[j] == \"JCMTPP_J053524.2-050932\":\n",
    "            # Excluding the JCMTPP_J053524.2-050932 (unrealistic dip)\n",
    "            # (see Y.-H. Lee et al. 2021)\n",
    "            continue\n",
    "        Index2 += 1\n",
    "        Dist = np.sqrt((rra[i]-data.RAs[j])**2+(rdec[i]-data.DECs[j])**2)*60*60\n",
    "        RAout = data.RAs[j]\n",
    "        DECout = data.DECs[j]\n",
    "        \n",
    "        # Convert to sexagesimal coordinates. ex) 15:00:36 -01:39:52\n",
    "        if hex_coord: \n",
    "            ratemp = Angle(data.RAs[j],u.degree)\n",
    "            RAout = '{:02d}'.format(int(ratemp.hms[0]))+'h'+'{:02d}'.format(int(ratemp.hms[1]))+'m'+ '{:04.1f}'.format(ratemp.hms[2]) +'s'\n",
    "            dectemp = Angle(data.DECs[j],u.degree)\n",
    "            DECout= '{:02d}'.format(int(dectemp.dms[0]))+'d'+'{:02d}'.format(abs(int(dectemp.dms[1])))+'m'+ '{:04.1f}'.format(abs(dectemp.dms[2])) +'s'\n",
    "            if dectemp.degree<0:\n",
    "                DECout = \"-\"+ DECout\n",
    "            else :\n",
    "                DECout = \"+\"+ DECout\n",
    "                \n",
    "        if data.mean_pfluxes[j] > fluxes_lim and Dist < 1080:\n",
    "            # Setting the type of the source\n",
    "            # X == Starless : no matching protostar or disk\n",
    "            # P == Protostar (class 0/I)\n",
    "            # D == Disk (class II)\n",
    "            Type = \"X\" \n",
    "            if np.min([data.proto_dists[j], data.disk_dists[j]]) < 10:\n",
    "                if data.proto_dists[j] < data.disk_dists[j]: Type = \"P\" \n",
    "                else: Type = \"D\"\n",
    "            PorD.append(Type)\n",
    "            \n",
    "            # Calculate fiducial error (see the paper)\n",
    "            fid_err = np.sqrt(0.014**2+(cal_err*data.mean_pfluxes[j])**2)\n",
    "            F_max = np.max(data.pfluxes[j])\n",
    "            F_min = np.min(data.pfluxes[j])\n",
    "            num = len(data.pfluxes[j])\n",
    "            \n",
    "            # Under Null Hypothesis\n",
    "            chi2_Null = np.sum(abs(np.array(data.pfluxes[j])-data.mean_pfluxes[j])**2/fid_err**2)\n",
    "            P_Null = fc.gammainc((num-1)/2, chi2_Null/2)\n",
    "            \n",
    "            # Linear Fitting\n",
    "            sol_para,sol_err=LCA.LCLinearfit(data.JDs,data.pfluxes[j],[fid_err for x in data.pfluxes[j]])\n",
    "            Slope = sol_para[0]\n",
    "            dSlope = sol_err[0]\n",
    "\n",
    "            linfit = np.array(data.JDs)*sol_para[0] + sol_para[1]\n",
    "            chi2_Lin = np.sum(abs(np.array(data.pfluxes[j])-linfit)**2/fid_err**2)\n",
    "            P_Lin = fc.gammainc((num-2)/2, chi2_Lin/2)\n",
    "            Pow_Lin = (chi2_Null-chi2_Lin)/chi2_Null\n",
    "            FAP_Lin = (1-Pow_Lin)**(num/2)\n",
    "            data_Lin = np.array(data.pfluxes[j])-linfit\n",
    "            FAPs_Lin.append(FAP_Lin)\n",
    "            \n",
    "            # Periodogram (Sinusoidal fitting)\n",
    "            ls_source = LCA.LCLombscargle(data.JDs,data.pfluxes[j],data.sd_fids[j])\n",
    "            FAP_Sin = ls_source.FAPs[np.where(ls_source.powers == np.max(ls_source.powers))][0]\n",
    "            JD_center = (min(data.JDs) + max(data.JDs)) / 2\n",
    "            Power_Sin = np.max(ls_source.powers)\n",
    "            \n",
    "            FAP_Sin_single = ls_source.FAP_single\n",
    "            FAPs_Sin.append(FAP_Sin_single)\n",
    "            modelpar = ls_source.modelpara() # modelpar = [mean, freq, amp, iphase]\n",
    "            sinfit = ls_source.mulsin(data.JDs, modelpar)\n",
    "            chi2_Sin = np.sum(abs(np.array(data.pfluxes[j])-sinfit)**2/fid_err**2)\n",
    "            P_Sin = fc.gammainc((num-3)/2, chi2_Sin/2)\n",
    "            data_Sin = np.array(data.pfluxes[j])-sinfit\n",
    "            period = np.round(1/modelpar[1])\n",
    "            freq_min = np.min(ls_source.freqs)\n",
    "            freq_max = np.max(ls_source.freqs)\n",
    "            dfreq = ls_source.freqs[1]-ls_source.freqs[0]\n",
    "            num_freqs=int(modelpar[1]/dfreq)+1 # number of frequencies lower than the best-fit frequency\n",
    "            FAPs_Sin_mod.append(FAP_Sin_single*num_freqs)\n",
    "            \n",
    "            #%%%%%%%%%%%%% Caution %%%%%%%%%%%%%%%%%%\n",
    "            # Do Not use iphase in any analysis until it fixed by someone.\n",
    "            # The model reproduction with this iphase works perfect but the real outcome of the value itself is vague\n",
    "            # maybe the phase at dates = 0\n",
    "            iphase = (modelpar[3]/np.pi*2)#+(JD_center%period/period) \n",
    "            #%%%%%%%%%%%%%%%%%%%%%%%%%%%%%%%%%%%%%%%%\n",
    "            \n",
    "            #print([JD_center,period,JD_center%period/period])\n",
    "            \n",
    "            obs_err = np.std(data.pfluxes[j])\n",
    "            \n",
    "            # Measure the stats. values after cutting 20% from top and bottom, after subtracting each models.\n",
    "            F_mean_80_n, fid_err_80_n, chi2_80_n, Sig_max_n, maxe_n =TR.Cutto80(np.array(data.pfluxes[j])-F_mean_80[Index-1],mean=F_mean_80[Index-1])\n",
    "            F_mean_80_l, fid_err_80_l, chi2_80_l, Sig_max_l, maxe_l =TR.Cutto80(data_Lin, mean=F_mean_80[Index-1])\n",
    "            F_mean_80_s, fid_err_80_s, chi2_80_s, Sig_max_s, maxe_s =TR.Cutto80(data_Sin, mean=F_mean_80[Index-1])\n",
    "            chi2_80s_n.append(chi2_80_n)\n",
    "            chi2_80s_l.append(chi2_80_l)\n",
    "            chi2_80s_s.append(chi2_80_s)\n",
    "            \n",
    "            \n",
    "            checkerSig = 0 # Is there any > 5 sigma event?\n",
    "            sig_out = 0 # Capture the significance(stochasticity) of the > 5 sigma event\n",
    "            checker1 = 0 # Does the source show linear trend? \n",
    "            checker2 = 0 # Does the source show sinusoidal trend? \n",
    "            checker3 = np.array([0,0,0]) # > 5 sigma event after subtracting each model? ([null, linear, sinusoid])\n",
    "            \n",
    "            num = len(data.pfluxes[j])\n",
    "            num10 = int(np.round(num/10))\n",
    "            \n",
    "            \n",
    "            chi2_80s_check.append(chi2_Null)\n",
    "            if FAP_Lin < 1e-3:\n",
    "                checker1 += 1\n",
    "            if FAP_Sin_single*num_freqs < 1e-3:\n",
    "                checker2 += 1\n",
    "                chi2_80s_plott.append(chi2_80_s)\n",
    "                #print(chi2_80_s)\n",
    "            else:\n",
    "                chi2_80s_plott.append(chi2_80_n)\n",
    "            if abs(Sig_max_n) > 5: checker3[0] = 1\n",
    "            if abs(Sig_max_l) > 5: checker3[1] = 1\n",
    "            if abs(Sig_max_s) > 5: checker3[2] = 1\n",
    "            checkers.append([checker1, checker2, checker3])\n",
    "            \n",
    "            \n",
    "            obs_err_sub = np.std(data.pfluxes[j])\n",
    "            delF = F_max - F_min\n",
    "            Tester = np.median(data.pfluxes[j]) - F_min\n",
    "            Tester = F_max - np.median(data.pfluxes[j])\n",
    "            if sigma_sep:\n",
    "                if checker2:\n",
    "                    obs_err_sub = np.std(data_Sin)\n",
    "                    for k in range(0,num):\n",
    "                        # Sig == Stochasticity\n",
    "                        Sig = (data_Sin[k])/fid_err\n",
    "                        Sig_80 = (data_Sin[k])/fid_err_80_s#/np.max([np.sqrt(chi2_80_s),1]) # to use \\sigma_obs\n",
    "                        Sigs.append(Sig)\n",
    "                        #Sig_80 = (data.pfluxes[j][k]-F_mean_80)/fid_err_80\n",
    "                        Sigs_80.append(Sig_80)\n",
    "                        if abs(Sig_80) > 5:\n",
    "                            checkerSig = 1\n",
    "                            print([Index, j,k, data.IDs[j], F_mean_80_s, Sig_80,\"sin\",fid_err*Sig,fid_err*Sig/F_mean_80[j]])\n",
    "                            sig_out = Sig_80\n",
    "                            \n",
    "                            \n",
    "                elif checker1:\n",
    "                    obs_err_sub = np.std(data_Lin)\n",
    "                    for k in range(0,num):\n",
    "                        Sig = (data_Lin[k])/fid_err\n",
    "                        Sig_80 = (data_Lin[k])/fid_err_80_l#/np.max([np.sqrt(chi2_80_l),1]) # to use \\sigma_obs\n",
    "                        Sigs.append(Sig)\n",
    "                        #Sig_80 = (data.pfluxes[j][k]-F_mean_80)/fid_err_80\n",
    "                        Sigs_80.append(Sig_80)\n",
    "                        \n",
    "                        if abs(Sig_80) > 5:\n",
    "                            checkerSig = 1\n",
    "                            print([Index, j,k, data.IDs[j], Sig_80,\"lin\",fid_err*Sig,fid_err*Sig/F_mean_80[j]])\n",
    "                            sig_out = Sig_80\n",
    "                            \n",
    "                else:\n",
    "                    for k in range(0,num):\n",
    "                        Sig = (data.pfluxes[j][k]-data.mean_pfluxes[j])/fid_err\n",
    "                        Sig_80 = (data.pfluxes[j][k]-F_mean_80[Index-1])/fid_err_80[Index-1]#/np.sqrt(np.max([(chi2_80_n),1])) # to use \\sigma_obs\n",
    "                        Sigs.append(Sig)\n",
    "                        Sigs_check.append(Sig_80) # Stochasticities without variables\n",
    "                        #Sig_80 = (data.pfluxes[j][k]-F_mean_80)/fid_err_80\n",
    "                        Sigs_80.append(Sig_80)\n",
    "                        if abs(Sig_80) > 5:\n",
    "                            checkerSig = 1\n",
    "                            print([Index,j,k, data.IDs[j],F_mean_80_n,data.mean_pfluxes[j], Sig_80,\"null\",fid_err*Sig,fid_err*Sig/F_mean_80[j],Dist])\n",
    "                            sig_out = Sig_80\n",
    "\n",
    "            checkersSig.append(checkerSig)\n",
    "            \n",
    "            # If you want to write or plot the variables only, use here\n",
    "            #if any(sum([checker1,checker2,checker3])):\n",
    "            if sum([checker1,checker2,checkerSig]):\n",
    "                plot=0\n",
    "                writing=0\n",
    "            \n",
    "            # %%%%%%%%%%%%%%%%%%% Plotter below %%%%%%%%%%%%%%%%%\n",
    "            if plot:\n",
    "                plt.close()\n",
    "                fig, ax = plt.subplots(2,2,figsize=[12,9])\n",
    "                fig.suptitle(rgs[i]+\" \"+ str(indices[j]) + \"_\" +data.IDs[j])\n",
    "                xlimits = [np.min(data.JDs)-100,np.max(data.JDs)+100]\n",
    "                \n",
    "                # Light Curve plot\n",
    "                ax[0][0].errorbar(data.JDs,data.pfluxes[j],yerr = fid_err,color='C0',fmt='o')\n",
    "                ax[0][0].set_xlim(xlimits)\n",
    "                ax[0][0].plot(xlimits,[data.mean_pfluxes[j]+obs_err,data.mean_pfluxes[j]+obs_err],color='black',ls='--')\n",
    "                ax[0][0].plot(xlimits,[data.mean_pfluxes[j]-obs_err,data.mean_pfluxes[j]-obs_err],color='black',ls='--')\n",
    "                ax[0][0].plot(xlimits,[data.mean_pfluxes[j]+fid_err,data.mean_pfluxes[j]+fid_err],color='blue',ls=':')\n",
    "                ax[0][0].plot(xlimits,[data.mean_pfluxes[j]-fid_err,data.mean_pfluxes[j]-fid_err],color='blue',ls=':')\n",
    "                ax[0][0].set_xlabel(\"JD - 2400000.5\")\n",
    "                ax[0][0].set_ylabel(\"Peak flux [Jy/beam]\")\n",
    "                # Linear best-fit model\n",
    "                if checker1:\n",
    "                    xplot = np.linspace(xlimits[0],xlimits[1],20)\n",
    "                    linfit_plot = xplot*sol_para[0] + sol_para[1]\n",
    "                    ax[0][0].plot(xplot,linfit_plot,color='C1',ls='--')\n",
    "                # Sinusoidal best-fit model\n",
    "                if checker2:\n",
    "                    xplot = np.linspace(xlimits[0],xlimits[1],1000)\n",
    "                    sinfit_plot = ls_source.mulsin(xplot, modelpar)\n",
    "                    ax[0][0].plot(xplot,sinfit_plot,color='C1')\n",
    "                    ax[0][0].plot([JD_center,JD_center],[np.min(data.pfluxes[j]),np.max(data.pfluxes[j])],alpha=0.3,color='grey')\n",
    "                    #data.pfluxes[j] = np.array(data.pfluxes[j])-sinfit\n",
    "                    #ax[1][0].errorbar(data.JDs,data.pfluxes[j],yerr=fid_err,color='C0',fmt='o')\n",
    "                    #print(str(counter)+\" STCH.var found!\")\n",
    "                    #counter +=1\n",
    "                data.pfluxes[j] = np.array(data.pfluxes[j]) - F_mean_80[Index-1]\n",
    "            \n",
    "            if plot:\n",
    "                # Plot the model-subtracted light curve\n",
    "                ax[1][0].set_xlim(xlimits)\n",
    "                if checker2:\n",
    "                    ax[1][0].errorbar(data.JDs,data_Sin,yerr=fid_err,color='C0',fmt='o')\n",
    "                else:\n",
    "                    ax[1][0].errorbar(data.JDs,data.pfluxes[j],yerr=fid_err,color='C0',fmt='o')\n",
    "                ax[1][0].plot(xlimits,[np.std(data.pfluxes[j]),np.std(data.pfluxes[j])],color='black',ls='--')\n",
    "                ax[1][0].plot(xlimits,[-np.std(data.pfluxes[j]),-np.std(data.pfluxes[j])],color='black',ls='--')\n",
    "                ax[1][0].plot(xlimits,[fid_err,fid_err],color='blue',ls=':')\n",
    "                ax[1][0].plot(xlimits,[-fid_err,-fid_err],color='blue',ls=':')\n",
    "                ax[1][0].set_xlabel(\"JD - 2400000.5\")\n",
    "                ax[1][0].set_ylabel(r\"$\\Delta$Peak flux [Jy/beam]\")\n",
    "                \n",
    "                oversig = np.where(abs(data.pfluxes[j])/fid_err_80[Index-1] > 5*np.max([np.sqrt(chi2_80[Index-1]),1]))\n",
    "                #if there is any outlier (>5 sigma), note it with red circle\n",
    "                # YHLee : Limited to \"checker2\" case because we wanted to note HOPS 373 in the last time.\n",
    "                if checker2 and plot:\n",
    "                    ax[1][0].scatter(data.JDs[oversig],data_Sin[oversig],s=100,edgecolors='red',facecolors='none',lw=1.5)\n",
    "                elif plot:\n",
    "                    ax[1][0].scatter(data.JDs[oversig],data.pfluxes[j][oversig],s=100,edgecolors='red',facecolors='none',lw=1.5)\n",
    "                \n",
    "                # Text color depends on whether the variability exist.\n",
    "                color1 = \"black\"\n",
    "                color2 = 'black'\n",
    "                color3 = [\"black\",\"black\",\"black\"]\n",
    "                fs = 13\n",
    "                if checker1: color1 = \"red\"\n",
    "                if checker2: color2 = 'red'\n",
    "                if checker3[0]: color3[0] =\"red\"\n",
    "                if checker3[1]: color3[1] =\"red\"\n",
    "                if checker3[2]: color3[2] =\"red\"\n",
    "                \n",
    "                # Write the variability parameters on the plot\n",
    "                num = len(data.pfluxes[j])\n",
    "                note = np.array([0.5,0.87])\n",
    "                add = np.array([0,0.025])\n",
    "                ax[0][1].axis('off')\n",
    "                ax[0][1].annotate(r'# of epochs = {:4d} Type:{}  D_Proto={:5.2f}\"  D_Disk={:5.2f}\"'.format(\n",
    "                                num,Type,data.proto_dists[j],data.disk_dists[j]),\n",
    "                                  xy=note,xycoords='figure fraction',fontsize=fs)\n",
    "                ax[0][1].annotate(r\"F_mean(80$\\%$)={:5.2f}({:5.2f}) SD_fid(80$\\%$)={:5.2e}({:5.2e})\".format(\n",
    "                                data.mean_pfluxes[j],F_mean_80[Index-1],fid_err,fid_err_80[Index-1]),\n",
    "                                  xy=note-add,xycoords='figure fraction',fontsize=fs)\n",
    "                ax[0][1].annotate(r\"               $\\chi$       $\\chi_{80}$     $\\sigma 80_{Max}$  epoch\",\n",
    "                                  xy=note-add*3, xycoords='figure fraction', fontsize =fs)\n",
    "                ax[0][1].annotate(\"None | {:5.2f} | {:5.2f}  | {:5.2f}  | {:5d}\".format(\n",
    "                                np.sqrt(chi2_Null/(num-1)),np.sqrt(chi2_80_n),Sig_max_n,maxe_n+1),\n",
    "                                  xy=note-add*4,xycoords='figure fraction',fontsize=fs,color=color3[0])\n",
    "                ax[0][1].annotate(\"Lin     | {:5.2f} | {:5.2f}  | {:5.2f}  | {:5d}\".format(\n",
    "                                np.sqrt(chi2_Lin/(num-2)),np.sqrt(chi2_80_l),Sig_max_l,maxe_l+1),\n",
    "                                  xy=note-5*add,xycoords='figure fraction',fontsize=fs,color=color3[1])\n",
    "                ax[0][1].annotate(\"Sin     | {:5.2f} | {:5.2f}  | {:5.2f}  | {:5d}\".format(\n",
    "                                np.sqrt(chi2_Sin/(num-3)),np.sqrt(chi2_80_s),Sig_max_s,maxe_s+1),\n",
    "                                  xy=note-6*add, xycoords='figure fraction',fontsize=fs,color=color3[2])\n",
    "                ax[0][1].annotate(r\"FAP_Lin) : {:5.2e}\".format(FAP_Lin),\n",
    "                                  xy=note-8*add, xycoords='figure fraction',fontsize=fs,color=color1)\n",
    "                ax[0][1].annotate(\"Slope(/mean) : {:5.2e} ({:5.2e})\".format(sol_para[0]*365.25, sol_para[0]*365.25/whole_mean[Index-1]),\n",
    "                                  xy=note-9*add,color=color1, xycoords='figure fraction',fontsize=fs)\n",
    "                \n",
    "                if FAP_Sin_single < 1e-3 and FAP_Sin_single*num_freqs > 1e-3:\n",
    "                    ax[0][1].annotate(\"FAP_Sin : {:5.2e}\".format(FAP_Sin_single),\n",
    "                                      xy=note-11*add,color='orange', xycoords='figure fraction',fontsize=fs)\n",
    "                else:\n",
    "                    ax[0][1].annotate(\"FAP_Sin : {:5.2e}\".format(FAP_Sin_single),\n",
    "                                  xy=note-11*add,color=color2, xycoords='figure fraction',fontsize=fs)\n",
    "                ax[0][1].annotate(\"FAP_Sin*# : {:5.2e}\".format(FAP_Sin_single*num_freqs),\n",
    "                                  xy=note-12*add,color=color2, xycoords='figure fraction',fontsize=fs)\n",
    "                ax[0][1].annotate(r\"Period   A    A/Mean$_{sine}$  $\\Psi_{Mid}$ \",\n",
    "                                  xy=note-13*add, xycoords='figure fraction',fontsize=fs)\n",
    "                \n",
    "                if modelpar[3] < 0:\n",
    "                    modelpar[3] += 2*np.pi\n",
    "                ax[0][1].annotate(\"{:5.2f} | {:5.2f} | {:5.2f}   |   {:5.2f}\".format(\n",
    "                                period/365.25,modelpar[2],modelpar[2]/modelpar[0],iphase),\n",
    "                                  xy=note-14*add, xycoords='figure fraction',color = color2,fontsize=fs)\n",
    "\n",
    "                # Check position in the scatter plot of every sources\n",
    "                # The first loop before main loop is required for this plot\n",
    "                ax[1][1].scatter(whole_mean, np.sqrt(chi2_80), color=\"C0\",s=20)\n",
    "                ax[1][1].errorbar(whole_mean[Index-1], np.sqrt(chi2_80[Index-1]),\n",
    "                                  yerr=np.sqrt(chi2_80_n)-np.sqrt(chi2_80_s),uplims=True,\n",
    "                                 ms = 12,color=\"Orange\",fmt='o')\n",
    "                ax[1][1].set_xlabel(\"Mean Flux [Jy/beam]\")\n",
    "                ax[1][1].set_ylabel(r\"$\\chi$ (80$\\%$)\")\n",
    "                ax[1][1].set_xlim(0.1,15)\n",
    "                ax[1][1].set_ylim(0.3,4)\n",
    "                ax[1][1].set_xscale('log')\n",
    "                ax[1][1].set_yscale('log')\n",
    "                #ax[1][1].set_yticklabels([0.5,1,4])\n",
    "\n",
    "                plt.savefig(output_dir+rgs[i]+\" \"+ str(indices[j]) + \"_\" +data.IDs[j]+\".jpg\")\n",
    "            #aaa=aaa\n",
    "            \n",
    "            F_amp = max(abs(data.pfluxes[j]),key=abs)/F_mean_80_n\n",
    "            Abs_amp = max(abs(data.pfluxes[j]),key=abs)\n",
    "            if checker2:\n",
    "                F_amp = 2*modelpar[2]/(modelpar[0]-modelpar[2])\n",
    "                if F_amp < 0:\n",
    "                    F_amp = max(abs(data.pfluxes[j]),key=abs)/F_mean_80_n\n",
    "            \n",
    "            L = [j,rgs[i],data.IDs[j], RAout, DECout ,Dist, Type,\n",
    "                 data.mean_pfluxes[j], chi2_Null/(num-1), P_Null,\n",
    "                 Slope*365.25, dSlope*365.25, Slope/dSlope, chi2_Lin/(num-2), FAP_Lin,\n",
    "                 modelpar[0], period/365.25, modelpar[2],iphase,chi2_Sin/(num-3), \n",
    "                 FAP_Sin_single, FAP_Sin_single*num_freqs, F_amp,freq_min*365.25, \n",
    "                 freq_max*365.25, dfreq*365.25, F_max, F_min, sig_out, \n",
    "                 obs_err_sub,delF,Tester,data.sd_fids[j]]\n",
    "            \n",
    "            L = [str(x)+'\\t' for x in L[:-1]]+[str(L[-1])]\n",
    "            if writing:\n",
    "                #print(L)\n",
    "                file.writelines(L)\n",
    "                file.write('\\n')\n",
    "            Index += 1\n",
    "            \n",
    "if writing:\n",
    "    file.close()\n",
    "#query = set(query)"
   ]
  },
  {
   "cell_type": "code",
   "execution_count": 122,
   "metadata": {},
   "outputs": [],
   "source": [
    "plt.close()\n",
    "plt.hist(chi2_80s_s,alpha=0.2)\n",
    "plt.hist(chi2_80)\n",
    "plt.yscale('log')"
   ]
  },
  {
   "cell_type": "code",
   "execution_count": 218,
   "metadata": {},
   "outputs": [
    {
     "data": {
      "text/plain": [
       "<matplotlib.collections.PathCollection at 0x7feaad728b10>"
      ]
     },
     "execution_count": 218,
     "metadata": {},
     "output_type": "execute_result"
    }
   ],
   "source": [
    "importlib.reload(TR)\n",
    "data = TR.ReadTable(input_dir+'Data/Recal/SERPM_source_data.dat',raw=1,recal=1)\n",
    "#data = TR.ReadTable(input_dir+'Data/SERPM_source_data.dat',recal=0)\n",
    "\n",
    "plt.close()\n",
    "plt.scatter(data.JDs,data.pfluxes[0])"
   ]
  },
  {
   "cell_type": "code",
   "execution_count": 128,
   "metadata": {},
   "outputs": [
    {
     "name": "stdout",
     "output_type": "stream",
     "text": [
      "case 1\n"
     ]
    },
    {
     "data": {
      "text/plain": [
       "(array([ 4.21551436e-05, -1.02451887e+02]),\n",
       " array([1.09865833e-05, 2.70068601e+01]))"
      ]
     },
     "execution_count": 128,
     "metadata": {},
     "output_type": "execute_result"
    }
   ],
   "source": [
    "importlib.reload(LCA)\n",
    "LCA.LCLinearfit(data.JDs,data.pfluxes[2],[fid_err for x in data.JDs])"
   ]
  },
  {
   "cell_type": "code",
   "execution_count": 375,
   "metadata": {},
   "outputs": [
    {
     "data": {
      "text/plain": [
       "(array([  0,   1,   9,  11,  17,  77,  80,  86,  88, 102, 148, 200, 232,\n",
       "        233, 234, 235, 248, 278]),)"
      ]
     },
     "execution_count": 375,
     "metadata": {},
     "output_type": "execute_result"
    }
   ],
   "source": [
    "Sin_mod_d"
   ]
  },
  {
   "cell_type": "code",
   "execution_count": 12,
   "metadata": {},
   "outputs": [],
   "source": [
    "%matplotlib tk"
   ]
  },
  {
   "cell_type": "markdown",
   "metadata": {},
   "source": [
    "# below block need to be run"
   ]
  },
  {
   "cell_type": "code",
   "execution_count": null,
   "metadata": {},
   "outputs": [],
   "source": [
    "table = TR.All_Table(input_dir+'All_Bright_deg.tab')\n",
    "\n",
    "# Define the indice of protostars as \"Ps\"\n",
    "Ps = np.where(np.array(table.Type) == \"P\")\n",
    "Ds = np.where(np.array(table.Type) == \"D\")\n",
    "Sin_mod_d = np.where([x[1] for x in checkers]) # Indices of the sources with sinusoidal trend\n",
    "STCH_d = np.where([sum(x[2]) for x in checkers]) # Indices of the sources with stochastic event\n",
    "STCH_d = np.where(np.array(checkersSig))[0][0]\n",
    "\n",
    "varind = []\n",
    "for i in range(0,len(table.FAP_Lin)):\n",
    "    if table.FAP_Lin[i] < 1e-3 or table.modFAP_Sin[i] < 1e-3:\n",
    "        \n",
    "        varind.append(i)"
   ]
  },
  {
   "cell_type": "code",
   "execution_count": 40,
   "metadata": {},
   "outputs": [
    {
     "data": {
      "text/plain": [
       "<matplotlib.legend.Legend at 0x7f879e8bfac0>"
      ]
     },
     "execution_count": 40,
     "metadata": {},
     "output_type": "execute_result"
    }
   ],
   "source": [
    "plt.close()\n",
    "fig, ax = plt.subplots()\n",
    "Ps = np.where(np.array(PorD) == \"P\")\n",
    "ax.scatter(F_mean_80, chi2_80,marker='o',color='grey', alpha=0.7,s=20)\n",
    "ax.scatter(np.array(F_mean_80)[Ps], np.array(chi2_80)[Ps],color=\"Red\",marker='o',s=20,label = \"Protostar\")\n",
    "\n",
    "Sin_mod_d = np.where([x[1] for x in checkers])\n",
    "STCH_d = np.where([sum(x[2]) for x in checkers])\n",
    "STCH_d = np.where(np.array(checkersSig))[0][0]\n",
    "\n",
    "ax.scatter(np.array(F_mean_80)[Sin_mod_d], np.array(chi2_80)[Sin_mod_d],\n",
    "           marker='o',edgecolor=\"black\",facecolor='none',linewidth=1.5,s=80, label=r\"FAP$_{sin}$ < 0.001\")\n",
    "ax.scatter(np.array(F_mean_80)[STCH_d], np.array(chi2_80)[STCH_d],\n",
    "           marker='+',color=\"black\",s=160,linewidth=0.8, label=r\"$\\sigma_{max}$ > 5\")\n",
    "ax.set_xscale(\"log\")\n",
    "ax.set_yscale(\"log\")\n",
    "ax.set_xlim(0.13,15)\n",
    "ax.set_ylim(0.08,14)\n",
    "ax.set_xlabel(r\"F$_{mean}$ [Jy/beam]\",fontsize=12)\n",
    "ax.set_ylabel(r\"$\\chi^{2}_{80\\%}$/(N$_{80\\%}$)\",fontsize=12)\n",
    "ax.legend(loc='best',fontsize=9)"
   ]
  },
  {
   "cell_type": "code",
   "execution_count": 42,
   "metadata": {},
   "outputs": [
    {
     "name": "stdout",
     "output_type": "stream",
     "text": [
      "[1.38531688 1.2106004  9.1605209  3.04387078 0.48085847 1.2935783\n",
      " 0.52417557 1.24732341 0.99460815 0.24893432 0.54222203 3.89046196\n",
      " 7.08732149 2.10466088 1.17439312 0.84255033 4.84555917 0.63441788]\n"
     ]
    }
   ],
   "source": [
    "print(np.array(F_mean_80)[Sin_mod_d])\n",
    "#EC 53 : -4\n",
    "#HOPS 373: 7\n",
    "#HOPS 358: 5\n",
    "#VLA 3: 3\n",
    "names = [\"EC 53\", \"HOPS 373\", \"HOPS 358\", \"VLA 3\"]\n",
    "exs = [-4,7,5,3]\n",
    "#Sin_mod_d[exs[ind]]"
   ]
  },
  {
   "cell_type": "markdown",
   "metadata": {},
   "source": [
    "# 2panel plot of Fmean vs Chi-square"
   ]
  },
  {
   "cell_type": "code",
   "execution_count": 15,
   "metadata": {},
   "outputs": [],
   "source": [
    "plt.close()\n",
    "from mpl_toolkits.axes_grid1 import make_axes_locatable\n",
    "from matplotlib.ticker import (MultipleLocator, FormatStrFormatter,\n",
    "                               AutoMinorLocator, LogLocator)\n",
    "# the random data\n",
    "\n",
    "\n",
    "\n",
    "fig, axes = plt.subplots(1,2,figsize=(12, 8))\n",
    "\n",
    "# the scatter plot:\n",
    "xticks = [0.14,0.2,0.3,0.4, 0.5,0.6,0.7,0.8,0.9, 1,2,3,4, 5, 6,7,8,9, 10]\n",
    "yticks = [0.1,0.2,0.3,0.4, 0.5,0.6,0.7,0.8,0.9, 1,2,3,4, 5, 6,7,8,9, 10]\n",
    "xticklabels = [0.14,' ',' ',' ', 0.5,' ',' ',' ',' ', 1,' ',' ',' ', 5, ' ',' ',' ',' ', 10]\n",
    "yticklabels = [0.1,' ',' ',' ', 0.5,' ',' ',' ',' ', 1,' ',' ',' ', 5, ' ',' ',' ',' ', 10]\n",
    "#yticks = [0.1,0.5, 1, 5, 10]\n",
    "#yticklabels = [0.14,0.5,1,5,10]\n",
    "i = 0\n",
    "for ax in axes:\n",
    "    x = np.log10(F_mean_80)\n",
    "\n",
    "    y = np.log10(chi2_80)\n",
    "    if i:\n",
    "        y = np.log10(chi2_80s_plott)\n",
    "    ax.scatter(x, y,marker='o',color='grey', alpha=0.7,s=20)\n",
    "    ax.scatter(np.array(x)[Ps], np.array(y)[Ps],color=\"Red\",marker='o',s=20,label = \"Protostar\")\n",
    "    ax.scatter(np.array(x)[Ds], np.array(y)[Ds],color=\"Blue\",marker='o',s=20,label = \"Disk\")\n",
    "    \n",
    "    sec_label = r\"FAP$_{\\rm Mod}$ < 0.001\"\n",
    "    #sec_label = r\"Secular variales\"\n",
    "    ax.scatter(np.array(x)[Sin_mod_d], np.array(y)[Sin_mod_d],\n",
    "               marker='o',edgecolor=\"black\",facecolor='none',linewidth=1.5,s=80, label=sec_label)\n",
    "    \n",
    "    for ind in range(0,4):\n",
    "        ax.annotate(names[ind], xy=[np.array(x)[Sin_mod_d[0][exs[ind]]]+np.log10(0.85)\n",
    "            ,np.array(y)[Sin_mod_d[0][exs[ind]]]+np.log10(1.115)], \n",
    "                    xycoords=\"data\", fontsize=12)\n",
    "    \n",
    "    stch_label = r\"|$\\sigma_{max}$| > 5\"\n",
    "    #stch_label = r\"Stochastic variable\"\n",
    "    ax.scatter(np.array(x)[STCH_d], np.array(y)[STCH_d],\n",
    "               marker='+',color=\"black\",s=160,linewidth=0.8, label=stch_label)\n",
    "\n",
    "    ax.set_xlim(np.log10(0.13),np.log10(15))\n",
    "    ax.set_ylim(np.log10(0.08),np.log10(18))\n",
    "    ax.set_xlabel(r\"$\\bar{F}_{\\rm 80\\%}$ [Jy/beam]\",fontsize=14)\n",
    "    ax.set_ylabel(r\"$\\chi^{2}_{80\\%}$/(N$_{80\\%}$)\",fontsize=14)\n",
    "    ax.plot([np.log10(0.13),np.log10(15)],[np.log10(0.45*4),np.log10(0.45*4)],alpha=0.7,ls='--',color='red')\n",
    "    ax.plot([np.log10(0.13),np.log10(15)],[np.log10(0.45),np.log10(0.45)],alpha=1,ls='--',color='black')\n",
    "\n",
    "    ax.set_xticks([np.log10(x) for x in xticks])\n",
    "    ax.set_yticks([np.log10(x) for x in yticks])\n",
    "    ax.set_xticklabels([str(x) for x in xticklabels])\n",
    "    ax.set_yticklabels([str(x) for x in yticklabels])\n",
    "    ax.label_outer()\n",
    "    ax.tick_params(labelsize=13)\n",
    "#ax.xaxis.set_minor_locator(LogLocator(base=5.0,\n",
    "#                                      subs=(0.1,0.2,0.3,0.4),numticks=4))\n",
    "\n",
    "#ax.tick_params(which='minor', length=2, color='r')\n",
    "# Set aspect of the main axes.\n",
    "\n",
    "    ax.set_aspect(1)\n",
    "    \n",
    "    i +=1\n",
    "\n",
    "axes[0].legend(loc='upper left', fontsize=12)\n",
    "axes[1].annotate(\"After secular trends subtracted\",xycoords=\"figure fraction\",xy=[0.68,0.8],fontsize=14)\n",
    "# create new axes on the right and on the top of the current axes\n",
    "\n",
    "divider = make_axes_locatable(ax)\n",
    "## below height and pad are in inches\n",
    "\n",
    "#ax_histx = divider.append_axes(\"top\", 1.0, pad=0.1, sharex=ax)\n",
    "#ax_histy = divider.append_axes(\"right\", 1.0, pad=0.1, sharey=ax)\n",
    "\n",
    "## make some labels invisible\n",
    "\n",
    "#ax_histx.xaxis.set_tick_params(labelbottom=False)\n",
    "#ax_histx.set_yticks([1,10,100])\n",
    "##ax_histx.xaxis.set_xscale(\"log\")\n",
    "#ax_histy.yaxis.set_tick_params(labelleft=False)\n",
    "#ax_histy.set_xticks([1,10,100])\n",
    "##ax_histy.yaxis.set_yscale(\"log\")\n",
    "\n",
    "## now determine nice limits by hand:\n",
    "##binwidth = 0.05\n",
    "binwidth = 0.3\n",
    "xymax = max(np.max(np.abs(x)), np.max(np.abs(y)))\n",
    "lim = (int(xymax/binwidth) + 1)*binwidth\n",
    "\n",
    "bins = np.arange(-lim, lim + binwidth, binwidth)\n",
    "#ax_histx.hist(np.array(x), bins=bins,color='grey')\n",
    "#ax_histx.hist(np.array(x)[Ps], bins=bins,color='red')\n",
    "#ax_histx.hist(np.array(x)[Ds], bins=bins,color='blue')\n",
    "#ax_histx.hist(np.array(x)[Sin_mod_d], bins=bins,histtype='step',color='black')\n",
    "#ax_histy.hist(y, bins=bins,orientation='horizontal',color='grey')\n",
    "#ax_histy.hist(np.array(y)[Ps], bins=bins,orientation='horizontal',color='red')\n",
    "#ax_histy.hist(np.array(y)[Ds], bins=bins,orientation='horizontal',color='blue')\n",
    "#ax_histy.hist(np.array(y)[Sin_mod_d], bins=bins,orientation='horizontal',histtype='step',color='black')\n",
    "\n",
    "# the xaxis of ax_histx and yaxis of ax_histy are shared with ax,\n",
    "# thus there is no need to manually adjust the xlim and ylim of these\n",
    "# axis.\n",
    "##ax_histx.set_xscale(\"log\")\n",
    "##ax_histy.set_yscale(\"log\")\n",
    "\n",
    "#ax_histx.set_yscale(\"log\")\n",
    "#ax_histx.set_ylim([0.8, 200])\n",
    "#ax_histy.set_xscale(\"log\")\n",
    "#ax_histy.set_xlim([0.8, 200])\n",
    "\n",
    "##ax_histx.set_yticks([0, 30, 60])\n",
    "##ax_histy.set_xticks([0, 30, 60])\n",
    "\n",
    "fig.tight_layout()\n",
    "fig.subplots_adjust(wspace=0.03, hspace=0)\n",
    "plt.show()\n"
   ]
  },
  {
   "cell_type": "code",
   "execution_count": 428,
   "metadata": {},
   "outputs": [
    {
     "name": "stdout",
     "output_type": "stream",
     "text": [
      "/mnt/Secdrive/TSmain/TSmain/LCs_test/Hist_Fmean_80.pdf\n"
     ]
    }
   ],
   "source": [
    "plt.savefig(output_dir+\"Hist_Fmean_80.pdf\")\n",
    "print(output_dir+\"Hist_Fmean_80.pdf\")"
   ]
  },
  {
   "cell_type": "code",
   "execution_count": 399,
   "metadata": {},
   "outputs": [
    {
     "data": {
      "text/plain": [
       "'/mnt/Secdrive/TSmain/TSmain/'"
      ]
     },
     "execution_count": 399,
     "metadata": {},
     "output_type": "execute_result"
    }
   ],
   "source": [
    "input_dir"
   ]
  },
  {
   "cell_type": "code",
   "execution_count": 430,
   "metadata": {},
   "outputs": [
    {
     "name": "stdout",
     "output_type": "stream",
     "text": [
      "/mnt/Secdrive/TSmain/TSmain/PaperFigs/\n"
     ]
    }
   ],
   "source": [
    "output_dir = input_dir+'PaperFigs/'\n",
    "print(output_dir)"
   ]
  },
  {
   "cell_type": "code",
   "execution_count": 65,
   "metadata": {},
   "outputs": [],
   "source": [
    "from matplotlib.ticker import FuncFormatter\n",
    "plt.close()\n",
    "fig, axis = plt.subplots()\n",
    "bins = np.linspace(np.log10(0.14),np.log10(10),7)\n",
    "logF_mean_80 = np.log10(np.array(F_mean_80))\n",
    "axis.hist(logF_mean_80,bins=bins,color='grey')\n",
    "axis.hist(logF_mean_80[Ps],bins=bins,color='red',label='Protostar')\n",
    "axis.hist(logF_mean_80[Ds],bins=bins,color='blue',label=\"Disk\")\n",
    "axis.hist(logF_mean_80[Sin_mod_d],bins=bins,histtype='step',color='black',label=r\"FAP$_{\\rm Mod}$ < 0.001\",linewidth=2,hatch='//')\n",
    "#xticks = [0.14,0.2,0.3,0.4, 0.5,0.6,0.7,0.8,0.9, 1,2,3,4, 5, 6,7,8,9, 10]\n",
    "#xticks = [np.log10(x) for x in [0.14, 0.5,1,2,5,10]]\n",
    "xticks = [np.log10(x) for x in [0.14,0.2,0.3,0.4, 0.5,0.6,0.7,0.8,0.9, 1,2,3,4, 5, 6,7,8,9, 10]]\n",
    "xticklabel = [str(x) for x in [0.14, 0.5,1,2,5,10]]\n",
    "xticklabels = [0.14,' ',' ',' ', 0.5,' ',' ',' ',' ', 1,' ',' ',' ', 5, ' ',' ',' ',' ', 10]\n",
    "yticks = [1.0,2.0,3.0,4.0,5.0,6.0,7.0,8,9,10,20,30,40,50,60,70,80,90,100]\n",
    "yticklabels = ['1','','','','','','','','',10,'','','','','','','','',100]\n",
    "#xticklabels = [0.14,' ',' ',' ', 0.5,' ',' ',' ',' ', 1,' ',' ',' ', 5, ' ',' ',' ',' ', 10]\n",
    "#xticklabels = [0.14,' ',' ',' ', 0.5,' ',' ',' ',' ', 1,' ',' ',' ', 5, ' ',' ',' ',' ', 10]\n",
    "#ax.set_xticks([np.log10(x) for x in xticks])\n",
    "#axis.set_xlim([np.log10(x) for x in [0.14,1]])\n",
    "axis.set_xlim([np.log10(0.14),1])\n",
    "axis.set_xticks(xticks)\n",
    "axis.set_xticklabels(xticklabels,fontsize=13)\n",
    "axis.set_yticks(yticks)\n",
    "axis.set_yticklabels(yticklabels,fontsize=13)\n",
    "axis.set_xlabel(r\"$\\bar{F}_{\\rm 80\\%}$ [Jy/beam]\",fontsize=14)\n",
    "axis.set_ylabel(\"N\",fontsize=14)\n",
    "\n",
    "\n",
    "#ax.set_xscale('log')\n",
    "axis.set_yscale('log')\n",
    "\n",
    "\n",
    "#ax.xaxis.set_major_formatter(FuncFormatter(lambda x,y: '{}'.format(math.log(x, 10))))\n",
    "axis.legend(fontsize=12)\n",
    "fig.tight_layout()\n",
    "plt.show()"
   ]
  },
  {
   "cell_type": "code",
   "execution_count": 439,
   "metadata": {},
   "outputs": [],
   "source": [
    "plt.savefig(output_dir+\"Hist_Fmean_80.pdf\")"
   ]
  },
  {
   "cell_type": "code",
   "execution_count": 297,
   "metadata": {},
   "outputs": [
    {
     "name": "stdout",
     "output_type": "stream",
     "text": [
      "['0.14', '0.5', '1', '2', '5']\n",
      "[-0.8538719643217619, -0.3010299956639812, 0.0, 0.3010299956639812, 0.6989700043360189]\n"
     ]
    }
   ],
   "source": [
    "print(xticklabel)\n",
    "print(xticks)"
   ]
  },
  {
   "cell_type": "code",
   "execution_count": 213,
   "metadata": {},
   "outputs": [],
   "source": [
    "fig, ax = plt.subplots()\n",
    "bins = np.logspace(0.001,1.7, 36)\n",
    "ax.hist(whole_mean,bins=bins,edgecolor='black',color='grey')\n",
    "ax.set_yscale('log')\n",
    "ax.set_xscale('log')"
   ]
  },
  {
   "cell_type": "code",
   "execution_count": 19,
   "metadata": {},
   "outputs": [],
   "source": [
    "output_dir = input_dir+\"Ensemble/Paper/\""
   ]
  },
  {
   "cell_type": "code",
   "execution_count": 17,
   "metadata": {},
   "outputs": [],
   "source": [
    "output_dir = input_dir+\"PaperFigs/\""
   ]
  },
  {
   "cell_type": "code",
   "execution_count": 18,
   "metadata": {},
   "outputs": [],
   "source": [
    "plt.savefig(output_dir+\"Chi2_80vsFmean_2panel.pdf\")"
   ]
  },
  {
   "cell_type": "code",
   "execution_count": 10,
   "metadata": {},
   "outputs": [],
   "source": [
    "%matplotlib tk"
   ]
  },
  {
   "cell_type": "code",
   "execution_count": 19,
   "metadata": {},
   "outputs": [
    {
     "data": {
      "text/plain": [
       "'/mnt/Secdrive/TSmain/TSmain/PaperFigs/'"
      ]
     },
     "execution_count": 19,
     "metadata": {},
     "output_type": "execute_result"
    }
   ],
   "source": [
    "output_dir"
   ]
  },
  {
   "cell_type": "code",
   "execution_count": 200,
   "metadata": {},
   "outputs": [
    {
     "data": {
      "text/plain": [
       "'/mnt/Secdrive/TSmain/TSmain/LCs_test/'"
      ]
     },
     "execution_count": 200,
     "metadata": {},
     "output_type": "execute_result"
    }
   ],
   "source": [
    "output_dir"
   ]
  },
  {
   "cell_type": "code",
   "execution_count": 18,
   "metadata": {},
   "outputs": [
    {
     "data": {
      "text/plain": [
       "10109"
      ]
     },
     "execution_count": 18,
     "metadata": {},
     "output_type": "execute_result"
    }
   ],
   "source": [
    "len(Sigs_80)"
   ]
  },
  {
   "cell_type": "code",
   "execution_count": 43,
   "metadata": {},
   "outputs": [],
   "source": [
    "plt.close()\n",
    "fig, ax = plt.subplots()\n",
    "bins = np.linspace(-10,10,41)\n",
    "ax.hist(Sigs_80, bins=bins, color='grey',edgecolor='black',alpha=0.3)\n",
    "ax.hist(Sigs_check, bins=bins, color='grey',edgecolor='black',alpha=1.0)\n",
    "ax.plot(bins,2000*np.exp(-bins**2/2/1.0),ls='--',color='black')\n",
    "\n",
    "\n",
    "#ax.plot(bins,2000*np.exp(-bins**2/2/1.1**2),ls='--',color=\"blue\")\n",
    "ax.plot([5,5],[0.1,4000],ls='-',color='red',alpha=0.7)\n",
    "ax.plot([-5,-5],[0.1,4000],ls='-',color='red',alpha=0.7)\n",
    "ax.set_xlabel(r\"Stochasticity ($(F_{i} - \\bar{F}_{\\rm 80\\%}) / \\sigma_{\\rm fid}$)\",fontsize=13)\n",
    "ax.set_ylabel(\"# of Measurments\",fontsize=13)\n",
    "ax.tick_params(labelsize=12)\n",
    "ax.set_ylim([0.8,4000])\n",
    "ax.set_xlim([-7.5,7.5])\n",
    "ax.set_yscale('log')"
   ]
  },
  {
   "cell_type": "markdown",
   "metadata": {},
   "source": [
    "# Stochasticity Histogram"
   ]
  },
  {
   "cell_type": "code",
   "execution_count": 58,
   "metadata": {},
   "outputs": [
    {
     "name": "stdout",
     "output_type": "stream",
     "text": [
      "[ 1.90993005e+03 -2.32459198e-02  1.02737018e+00] [1.14445889e+01 7.10854399e-03 7.10854289e-03]\n",
      "Stch_slope_stdev: 1.0929122854233113\n",
      "Stch_slope_mean: 0.010708715202725656\n",
      "[ 1.90993005e+03 -2.32459198e-02  1.02737018e+00] [1.14445889e+01 7.10854399e-03 7.10854289e-03]\n"
     ]
    }
   ],
   "source": [
    "plt.close()\n",
    "fig, ax = plt.subplots()\n",
    "bins = np.linspace(-10,10,41)\n",
    "xplotter= np.linspace(-10,10,201)\n",
    "xbins = bins[1:]-0.5*(bins[1]-bins[0])\n",
    "Sig_hist = ax.hist(Sigs_80, bins=bins, color='grey',edgecolor='black',alpha=0.3)\n",
    "ax.hist([Sigs_check,[5.1]], bins=bins, color=['grey','red'],edgecolor='black',alpha=1,stacked=True)\n",
    "Gsol, Gsolerr = LCA.Gaussfit(xbins,Sig_hist[0])#,np.sqrt(Sig_hist[0]))\n",
    "\n",
    "Stch_stdev = np.std(Sigs_check)\n",
    "Stch_mean = np.mean(Sigs_check)\n",
    "#print(np.std(frac_slope_novar))\n",
    "#print(np.mean(frac_slope_novar))\n",
    "print(Gsol, Gsolerr)\n",
    "print('Stch_slope_stdev: '+str(Stch_stdev))\n",
    "print('Stch_slope_mean: '+str(Stch_mean))\n",
    "\n",
    "# Generate gaussian function with the mean and standard deviation of the stochasticities\n",
    "ax.plot(xplotter,1916*np.exp(-(xplotter-Stch_mean)**2/2/Stch_stdev**2),ls='--',color='black')\n",
    "\n",
    "#ax.plot(bins,2000*np.exp(-bins**2/2/1.0),ls='--',color='black')\n",
    "#ax.plot(xplotter,Gsol[0]*np.exp(-xplotter**2/2/Gsol[2]**2),ls='--',color='black')\n",
    "#ax.plot(bins,2000*np.exp(-bins**2/2/1.1**2),ls='--',color=\"blue\")\n",
    "ax.plot([5,5],[0.1,4000],ls='--',color='red',alpha=0.7)\n",
    "ax.plot([-5,-5],[0.1,4000],ls='--',color='red',alpha=0.7)\n",
    "ax.set_xlabel(r\"Stochasticity ($(F_{i} - \\bar{F}_{\\rm 80\\%}) / \\sigma_{\\rm fid}$)\",fontsize=15)\n",
    "ax.set_ylabel(\"# of Measurments\",fontsize=15)\n",
    "ax.tick_params(labelsize=14)\n",
    "ax.set_ylim([0.8,4000])\n",
    "ax.set_xlim([-7.5,7.5])\n",
    "ax.set_yscale('log')\n",
    "fig.tight_layout()\n",
    "print(Gsol, Gsolerr)"
   ]
  },
  {
   "cell_type": "code",
   "execution_count": 60,
   "metadata": {},
   "outputs": [
    {
     "data": {
      "text/plain": [
       "'/mnt/Secdrive/TSmain/TSmain/LCs_test/'"
      ]
     },
     "execution_count": 60,
     "metadata": {},
     "output_type": "execute_result"
    }
   ],
   "source": [
    "output_dir"
   ]
  },
  {
   "cell_type": "code",
   "execution_count": 25,
   "metadata": {},
   "outputs": [
    {
     "data": {
      "text/plain": [
       "1916.0"
      ]
     },
     "execution_count": 25,
     "metadata": {},
     "output_type": "execute_result"
    }
   ],
   "source": [
    "max(Sig_hist[0])"
   ]
  },
  {
   "cell_type": "code",
   "execution_count": 32,
   "metadata": {},
   "outputs": [
    {
     "data": {
      "text/plain": [
       "'/mnt/Secdrive/TSmain/TSmain/LCs_test/'"
      ]
     },
     "execution_count": 32,
     "metadata": {},
     "output_type": "execute_result"
    }
   ],
   "source": [
    "output_dir"
   ]
  },
  {
   "cell_type": "code",
   "execution_count": 92,
   "metadata": {},
   "outputs": [
    {
     "name": "stdout",
     "output_type": "stream",
     "text": [
      "[5.29969947 5.38549236 5.51814987 6.59087896 6.23932955]\n"
     ]
    }
   ],
   "source": [
    "print(np.array(Sigs)[np.where(np.array(Sigs)>5.0)])\n",
    "np.array(Sigs)[np.where(np.array(Sigs)>5.0)]"
   ]
  },
  {
   "cell_type": "code",
   "execution_count": 59,
   "metadata": {},
   "outputs": [],
   "source": [
    "plt.savefig(output_dir+\"Hist_Sigs_overplot.pdf\")"
   ]
  },
  {
   "cell_type": "code",
   "execution_count": 251,
   "metadata": {},
   "outputs": [],
   "source": [
    "\n",
    "i = 6\n",
    "fig, ax = plt.subplots()\n",
    "ax.scatter(FAPs_Lin,FAPs_Sin_mod,color='grey',marker='o',s=20)\n",
    "#ax.scatter(np.array(FAPs_Lin)[Sin_mod_d[0][:i]],np.array(FAPs_Sin_mod)[Sin_mod_d[0][:i]],edgecolors='black',facecolor='none',marker='o',s=50)\n",
    "ax.scatter(np.array(FAPs_Lin)[Ps], np.array(FAPs_Sin_mod)[Ps],color=\"Red\",marker='o',s=20,label = \"Protostar\")\n",
    "ax.plot([1e-3,1e-3],[1e-15,10], color='blue',linestyle='--')\n",
    "ax.plot([1e-15,10],[1e-3,1e-3], color='blue',linestyle='--')\n",
    "ax.legend(loc='best')\n",
    "ax.set_xlim([1e-15,10])\n",
    "ax.set_ylim([1e-15,10])\n",
    "ax.set_ylabel(r'FAP$_{Sine}$*N$_{freq}$')\n",
    "ax.set_xlabel(r'FAP$_{Lin}$')\n",
    "ax.set_xscale('log')\n",
    "ax.set_yscale('log')"
   ]
  },
  {
   "cell_type": "code",
   "execution_count": 42,
   "metadata": {},
   "outputs": [
    {
     "data": {
      "text/plain": [
       "4.0"
      ]
     },
     "execution_count": 42,
     "metadata": {},
     "output_type": "execute_result"
    }
   ],
   "source": []
  },
  {
   "cell_type": "code",
   "execution_count": 49,
   "metadata": {},
   "outputs": [],
   "source": [
    "plt.savefig(output_dir+\"FAPsvsFAPl.pdf\")\n"
   ]
  },
  {
   "cell_type": "code",
   "execution_count": 50,
   "metadata": {},
   "outputs": [
    {
     "data": {
      "text/plain": [
       "'/mnt/Secdrive/TSmain/InCanada/Ensemble/Paper/'"
      ]
     },
     "execution_count": 50,
     "metadata": {},
     "output_type": "execute_result"
    }
   ],
   "source": [
    "output_dir"
   ]
  },
  {
   "cell_type": "code",
   "execution_count": null,
   "metadata": {},
   "outputs": [],
   "source": []
  }
 ],
 "metadata": {
  "kernelspec": {
   "display_name": "Python 3",
   "language": "python",
   "name": "python3"
  },
  "language_info": {
   "codemirror_mode": {
    "name": "ipython",
    "version": 3
   },
   "file_extension": ".py",
   "mimetype": "text/x-python",
   "name": "python",
   "nbconvert_exporter": "python",
   "pygments_lexer": "ipython3",
   "version": "3.8.5"
  }
 },
 "nbformat": 4,
 "nbformat_minor": 4
}
